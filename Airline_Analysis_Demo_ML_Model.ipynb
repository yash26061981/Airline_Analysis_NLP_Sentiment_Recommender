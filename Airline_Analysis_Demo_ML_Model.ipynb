{
  "cells": [
    {
      "cell_type": "markdown",
      "metadata": {
        "id": "view-in-github",
        "colab_type": "text"
      },
      "source": [
        "<a href=\"https://colab.research.google.com/github/yash26061981/Airline_Analysis_NLP_Sentiment_Recommender/blob/main/Airline_Analysis_Demo_ML_Model.ipynb\" target=\"_parent\"><img src=\"https://colab.research.google.com/assets/colab-badge.svg\" alt=\"Open In Colab\"/></a>"
      ]
    },
    {
      "cell_type": "markdown",
      "metadata": {
        "id": "jABVW_dWE-zK"
      },
      "source": [
        "# Mounting Drive to access files and save models"
      ]
    },
    {
      "cell_type": "code",
      "execution_count": null,
      "metadata": {
        "colab": {
          "base_uri": "https://localhost:8080/"
        },
        "id": "_M0oR-EcE59R",
        "outputId": "e5a8e514-fa19-455f-e13a-08841950cf01"
      },
      "outputs": [
        {
          "name": "stdout",
          "output_type": "stream",
          "text": [
            "Mounted at /content/drive\n"
          ]
        }
      ],
      "source": [
        "from google.colab import drive\n",
        "drive.mount('/content/drive')"
      ]
    },
    {
      "cell_type": "markdown",
      "metadata": {
        "id": "k8qcQk0dbd-N"
      },
      "source": [
        "# Importing necessary libraries"
      ]
    },
    {
      "cell_type": "code",
      "execution_count": null,
      "metadata": {
        "id": "uzyNka_jMDvk"
      },
      "outputs": [],
      "source": [
        "import os\n",
        "import shutil\n",
        "import pandas as pd\n",
        "from sklearn.preprocessing import OneHotEncoder\n",
        "import numpy as np\n",
        "from sklearn.model_selection import train_test_split\n",
        "\n",
        "import matplotlib.pyplot as plt\n"
      ]
    },
    {
      "cell_type": "markdown",
      "metadata": {
        "id": "NFQHv1DOboow"
      },
      "source": [
        "# Reading filtered airline data."
      ]
    },
    {
      "cell_type": "code",
      "execution_count": null,
      "metadata": {
        "colab": {
          "base_uri": "https://localhost:8080/",
          "height": 386
        },
        "id": "3_PsfNjCTgQO",
        "outputId": "4f9bb348-f66f-4bd0-b913-43a8544d260d"
      },
      "outputs": [
        {
          "data": {
            "text/html": [
              "\n",
              "  <div id=\"df-2edad508-53c9-410b-b121-120cabc32e49\">\n",
              "    <div class=\"colab-df-container\">\n",
              "      <div>\n",
              "<style scoped>\n",
              "    .dataframe tbody tr th:only-of-type {\n",
              "        vertical-align: middle;\n",
              "    }\n",
              "\n",
              "    .dataframe tbody tr th {\n",
              "        vertical-align: top;\n",
              "    }\n",
              "\n",
              "    .dataframe thead th {\n",
              "        text-align: right;\n",
              "    }\n",
              "</style>\n",
              "<table border=\"1\" class=\"dataframe\">\n",
              "  <thead>\n",
              "    <tr style=\"text-align: right;\">\n",
              "      <th></th>\n",
              "      <th>airline</th>\n",
              "      <th>review_score</th>\n",
              "      <th>traveller_type</th>\n",
              "      <th>cabin</th>\n",
              "      <th>seat_comfort</th>\n",
              "      <th>cabin_service</th>\n",
              "      <th>food_bev</th>\n",
              "      <th>entertainment</th>\n",
              "      <th>ground_service</th>\n",
              "      <th>value_for_money</th>\n",
              "      <th>...</th>\n",
              "      <th>review_date_month</th>\n",
              "      <th>review_date_year</th>\n",
              "      <th>date_flown_day</th>\n",
              "      <th>date_flown_month</th>\n",
              "      <th>date_flown_year</th>\n",
              "      <th>review_date_date_flown_distance_days</th>\n",
              "      <th>review_characters</th>\n",
              "      <th>pos_neu_neg_review_score</th>\n",
              "      <th>has_layover</th>\n",
              "      <th>recommended</th>\n",
              "    </tr>\n",
              "  </thead>\n",
              "  <tbody>\n",
              "    <tr>\n",
              "      <th>0</th>\n",
              "      <td>Turkish Airlines</td>\n",
              "      <td>7</td>\n",
              "      <td>Business</td>\n",
              "      <td>Economy Class</td>\n",
              "      <td>4</td>\n",
              "      <td>5</td>\n",
              "      <td>4</td>\n",
              "      <td>4</td>\n",
              "      <td>2</td>\n",
              "      <td>4</td>\n",
              "      <td>...</td>\n",
              "      <td>5.0</td>\n",
              "      <td>2019.0</td>\n",
              "      <td>1.0</td>\n",
              "      <td>5.0</td>\n",
              "      <td>2019.0</td>\n",
              "      <td>7.0</td>\n",
              "      <td>1094</td>\n",
              "      <td>pos</td>\n",
              "      <td>True</td>\n",
              "      <td>True</td>\n",
              "    </tr>\n",
              "    <tr>\n",
              "      <th>1</th>\n",
              "      <td>Turkish Airlines</td>\n",
              "      <td>2</td>\n",
              "      <td>Family Leisure</td>\n",
              "      <td>Economy Class</td>\n",
              "      <td>4</td>\n",
              "      <td>1</td>\n",
              "      <td>1</td>\n",
              "      <td>1</td>\n",
              "      <td>1</td>\n",
              "      <td>1</td>\n",
              "      <td>...</td>\n",
              "      <td>5.0</td>\n",
              "      <td>2019.0</td>\n",
              "      <td>1.0</td>\n",
              "      <td>5.0</td>\n",
              "      <td>2019.0</td>\n",
              "      <td>6.0</td>\n",
              "      <td>425</td>\n",
              "      <td>neg</td>\n",
              "      <td>False</td>\n",
              "      <td>False</td>\n",
              "    </tr>\n",
              "    <tr>\n",
              "      <th>2</th>\n",
              "      <td>Turkish Airlines</td>\n",
              "      <td>3</td>\n",
              "      <td>Business</td>\n",
              "      <td>Economy Class</td>\n",
              "      <td>1</td>\n",
              "      <td>4</td>\n",
              "      <td>1</td>\n",
              "      <td>3</td>\n",
              "      <td>1</td>\n",
              "      <td>2</td>\n",
              "      <td>...</td>\n",
              "      <td>5.0</td>\n",
              "      <td>2019.0</td>\n",
              "      <td>1.0</td>\n",
              "      <td>5.0</td>\n",
              "      <td>2019.0</td>\n",
              "      <td>6.0</td>\n",
              "      <td>1597</td>\n",
              "      <td>neg</td>\n",
              "      <td>True</td>\n",
              "      <td>False</td>\n",
              "    </tr>\n",
              "    <tr>\n",
              "      <th>3</th>\n",
              "      <td>Turkish Airlines</td>\n",
              "      <td>10</td>\n",
              "      <td>Solo Leisure</td>\n",
              "      <td>Economy Class</td>\n",
              "      <td>4</td>\n",
              "      <td>5</td>\n",
              "      <td>5</td>\n",
              "      <td>5</td>\n",
              "      <td>5</td>\n",
              "      <td>5</td>\n",
              "      <td>...</td>\n",
              "      <td>5.0</td>\n",
              "      <td>2019.0</td>\n",
              "      <td>24.0</td>\n",
              "      <td>4.0</td>\n",
              "      <td>2019.0</td>\n",
              "      <td>12.0</td>\n",
              "      <td>875</td>\n",
              "      <td>pos</td>\n",
              "      <td>False</td>\n",
              "      <td>True</td>\n",
              "    </tr>\n",
              "    <tr>\n",
              "      <th>4</th>\n",
              "      <td>Turkish Airlines</td>\n",
              "      <td>1</td>\n",
              "      <td>Solo Leisure</td>\n",
              "      <td>Economy Class</td>\n",
              "      <td>1</td>\n",
              "      <td>1</td>\n",
              "      <td>1</td>\n",
              "      <td>1</td>\n",
              "      <td>1</td>\n",
              "      <td>1</td>\n",
              "      <td>...</td>\n",
              "      <td>5.0</td>\n",
              "      <td>2019.0</td>\n",
              "      <td>1.0</td>\n",
              "      <td>5.0</td>\n",
              "      <td>2019.0</td>\n",
              "      <td>5.0</td>\n",
              "      <td>366</td>\n",
              "      <td>neg</td>\n",
              "      <td>True</td>\n",
              "      <td>False</td>\n",
              "    </tr>\n",
              "  </tbody>\n",
              "</table>\n",
              "<p>5 rows × 22 columns</p>\n",
              "</div>\n",
              "      <button class=\"colab-df-convert\" onclick=\"convertToInteractive('df-2edad508-53c9-410b-b121-120cabc32e49')\"\n",
              "              title=\"Convert this dataframe to an interactive table.\"\n",
              "              style=\"display:none;\">\n",
              "        \n",
              "  <svg xmlns=\"http://www.w3.org/2000/svg\" height=\"24px\"viewBox=\"0 0 24 24\"\n",
              "       width=\"24px\">\n",
              "    <path d=\"M0 0h24v24H0V0z\" fill=\"none\"/>\n",
              "    <path d=\"M18.56 5.44l.94 2.06.94-2.06 2.06-.94-2.06-.94-.94-2.06-.94 2.06-2.06.94zm-11 1L8.5 8.5l.94-2.06 2.06-.94-2.06-.94L8.5 2.5l-.94 2.06-2.06.94zm10 10l.94 2.06.94-2.06 2.06-.94-2.06-.94-.94-2.06-.94 2.06-2.06.94z\"/><path d=\"M17.41 7.96l-1.37-1.37c-.4-.4-.92-.59-1.43-.59-.52 0-1.04.2-1.43.59L10.3 9.45l-7.72 7.72c-.78.78-.78 2.05 0 2.83L4 21.41c.39.39.9.59 1.41.59.51 0 1.02-.2 1.41-.59l7.78-7.78 2.81-2.81c.8-.78.8-2.07 0-2.86zM5.41 20L4 18.59l7.72-7.72 1.47 1.35L5.41 20z\"/>\n",
              "  </svg>\n",
              "      </button>\n",
              "      \n",
              "  <style>\n",
              "    .colab-df-container {\n",
              "      display:flex;\n",
              "      flex-wrap:wrap;\n",
              "      gap: 12px;\n",
              "    }\n",
              "\n",
              "    .colab-df-convert {\n",
              "      background-color: #E8F0FE;\n",
              "      border: none;\n",
              "      border-radius: 50%;\n",
              "      cursor: pointer;\n",
              "      display: none;\n",
              "      fill: #1967D2;\n",
              "      height: 32px;\n",
              "      padding: 0 0 0 0;\n",
              "      width: 32px;\n",
              "    }\n",
              "\n",
              "    .colab-df-convert:hover {\n",
              "      background-color: #E2EBFA;\n",
              "      box-shadow: 0px 1px 2px rgba(60, 64, 67, 0.3), 0px 1px 3px 1px rgba(60, 64, 67, 0.15);\n",
              "      fill: #174EA6;\n",
              "    }\n",
              "\n",
              "    [theme=dark] .colab-df-convert {\n",
              "      background-color: #3B4455;\n",
              "      fill: #D2E3FC;\n",
              "    }\n",
              "\n",
              "    [theme=dark] .colab-df-convert:hover {\n",
              "      background-color: #434B5C;\n",
              "      box-shadow: 0px 1px 3px 1px rgba(0, 0, 0, 0.15);\n",
              "      filter: drop-shadow(0px 1px 2px rgba(0, 0, 0, 0.3));\n",
              "      fill: #FFFFFF;\n",
              "    }\n",
              "  </style>\n",
              "\n",
              "      <script>\n",
              "        const buttonEl =\n",
              "          document.querySelector('#df-2edad508-53c9-410b-b121-120cabc32e49 button.colab-df-convert');\n",
              "        buttonEl.style.display =\n",
              "          google.colab.kernel.accessAllowed ? 'block' : 'none';\n",
              "\n",
              "        async function convertToInteractive(key) {\n",
              "          const element = document.querySelector('#df-2edad508-53c9-410b-b121-120cabc32e49');\n",
              "          const dataTable =\n",
              "            await google.colab.kernel.invokeFunction('convertToInteractive',\n",
              "                                                     [key], {});\n",
              "          if (!dataTable) return;\n",
              "\n",
              "          const docLinkHtml = 'Like what you see? Visit the ' +\n",
              "            '<a target=\"_blank\" href=https://colab.research.google.com/notebooks/data_table.ipynb>data table notebook</a>'\n",
              "            + ' to learn more about interactive tables.';\n",
              "          element.innerHTML = '';\n",
              "          dataTable['output_type'] = 'display_data';\n",
              "          await google.colab.output.renderOutput(dataTable, element);\n",
              "          const docLink = document.createElement('div');\n",
              "          docLink.innerHTML = docLinkHtml;\n",
              "          element.appendChild(docLink);\n",
              "        }\n",
              "      </script>\n",
              "    </div>\n",
              "  </div>\n",
              "  "
            ],
            "text/plain": [
              "            airline  review_score  traveller_type          cabin  \\\n",
              "0  Turkish Airlines             7        Business  Economy Class   \n",
              "1  Turkish Airlines             2  Family Leisure  Economy Class   \n",
              "2  Turkish Airlines             3        Business  Economy Class   \n",
              "3  Turkish Airlines            10    Solo Leisure  Economy Class   \n",
              "4  Turkish Airlines             1    Solo Leisure  Economy Class   \n",
              "\n",
              "   seat_comfort  cabin_service  food_bev  entertainment  ground_service  \\\n",
              "0             4              5         4              4               2   \n",
              "1             4              1         1              1               1   \n",
              "2             1              4         1              3               1   \n",
              "3             4              5         5              5               5   \n",
              "4             1              1         1              1               1   \n",
              "\n",
              "   value_for_money  ... review_date_month  review_date_year  date_flown_day  \\\n",
              "0                4  ...               5.0            2019.0             1.0   \n",
              "1                1  ...               5.0            2019.0             1.0   \n",
              "2                2  ...               5.0            2019.0             1.0   \n",
              "3                5  ...               5.0            2019.0            24.0   \n",
              "4                1  ...               5.0            2019.0             1.0   \n",
              "\n",
              "   date_flown_month  date_flown_year  review_date_date_flown_distance_days  \\\n",
              "0               5.0           2019.0                                   7.0   \n",
              "1               5.0           2019.0                                   6.0   \n",
              "2               5.0           2019.0                                   6.0   \n",
              "3               4.0           2019.0                                  12.0   \n",
              "4               5.0           2019.0                                   5.0   \n",
              "\n",
              "   review_characters  pos_neu_neg_review_score  has_layover recommended  \n",
              "0               1094                       pos         True        True  \n",
              "1                425                       neg        False       False  \n",
              "2               1597                       neg         True       False  \n",
              "3                875                       pos        False        True  \n",
              "4                366                       neg         True       False  \n",
              "\n",
              "[5 rows x 22 columns]"
            ]
          },
          "execution_count": 4,
          "metadata": {},
          "output_type": "execute_result"
        }
      ],
      "source": [
        "df_dtype = pd.read_csv('./drive/MyDrive/Colab_Notebooks/PreprocessedDataLightTypes.csv')\n",
        "dict_dtype = df_dtype[['index','dtypes']].set_index('index').to_dict()['dtypes']\n",
        "dict_dtype['recommended'] = 'bool'\n",
        "\n",
        "airline_data_filtered_file = './drive/MyDrive/Colab_Notebooks/PreprocessedDataLight.csv'\n",
        "airline_data = pd.read_csv(airline_data_filtered_file, dtype=dict_dtype, keep_default_na=False, na_values=['_'])\n",
        "airline_data.drop(columns=['Unnamed: 0'],inplace=True)\n",
        "#airline_data = pd.read_csv(airline_data_filtered_file)\n",
        "airline_data.head()"
      ]
    },
    {
      "cell_type": "code",
      "execution_count": null,
      "metadata": {
        "colab": {
          "base_uri": "https://localhost:8080/",
          "height": 112
        },
        "id": "q4nsWid0EtI-",
        "outputId": "9c824cbd-92c9-4532-c0ec-58184fae7112"
      },
      "outputs": [
        {
          "data": {
            "text/html": [
              "\n",
              "  <div id=\"df-c99c060b-05bf-4a14-90f1-61ca8434b870\">\n",
              "    <div class=\"colab-df-container\">\n",
              "      <div>\n",
              "<style scoped>\n",
              "    .dataframe tbody tr th:only-of-type {\n",
              "        vertical-align: middle;\n",
              "    }\n",
              "\n",
              "    .dataframe tbody tr th {\n",
              "        vertical-align: top;\n",
              "    }\n",
              "\n",
              "    .dataframe thead th {\n",
              "        text-align: right;\n",
              "    }\n",
              "</style>\n",
              "<table border=\"1\" class=\"dataframe\">\n",
              "  <thead>\n",
              "    <tr style=\"text-align: right;\">\n",
              "      <th></th>\n",
              "      <th>recommended</th>\n",
              "      <th>frequency</th>\n",
              "    </tr>\n",
              "  </thead>\n",
              "  <tbody>\n",
              "    <tr>\n",
              "      <th>0</th>\n",
              "      <td>False</td>\n",
              "      <td>11759</td>\n",
              "    </tr>\n",
              "    <tr>\n",
              "      <th>1</th>\n",
              "      <td>True</td>\n",
              "      <td>11063</td>\n",
              "    </tr>\n",
              "  </tbody>\n",
              "</table>\n",
              "</div>\n",
              "      <button class=\"colab-df-convert\" onclick=\"convertToInteractive('df-c99c060b-05bf-4a14-90f1-61ca8434b870')\"\n",
              "              title=\"Convert this dataframe to an interactive table.\"\n",
              "              style=\"display:none;\">\n",
              "        \n",
              "  <svg xmlns=\"http://www.w3.org/2000/svg\" height=\"24px\"viewBox=\"0 0 24 24\"\n",
              "       width=\"24px\">\n",
              "    <path d=\"M0 0h24v24H0V0z\" fill=\"none\"/>\n",
              "    <path d=\"M18.56 5.44l.94 2.06.94-2.06 2.06-.94-2.06-.94-.94-2.06-.94 2.06-2.06.94zm-11 1L8.5 8.5l.94-2.06 2.06-.94-2.06-.94L8.5 2.5l-.94 2.06-2.06.94zm10 10l.94 2.06.94-2.06 2.06-.94-2.06-.94-.94-2.06-.94 2.06-2.06.94z\"/><path d=\"M17.41 7.96l-1.37-1.37c-.4-.4-.92-.59-1.43-.59-.52 0-1.04.2-1.43.59L10.3 9.45l-7.72 7.72c-.78.78-.78 2.05 0 2.83L4 21.41c.39.39.9.59 1.41.59.51 0 1.02-.2 1.41-.59l7.78-7.78 2.81-2.81c.8-.78.8-2.07 0-2.86zM5.41 20L4 18.59l7.72-7.72 1.47 1.35L5.41 20z\"/>\n",
              "  </svg>\n",
              "      </button>\n",
              "      \n",
              "  <style>\n",
              "    .colab-df-container {\n",
              "      display:flex;\n",
              "      flex-wrap:wrap;\n",
              "      gap: 12px;\n",
              "    }\n",
              "\n",
              "    .colab-df-convert {\n",
              "      background-color: #E8F0FE;\n",
              "      border: none;\n",
              "      border-radius: 50%;\n",
              "      cursor: pointer;\n",
              "      display: none;\n",
              "      fill: #1967D2;\n",
              "      height: 32px;\n",
              "      padding: 0 0 0 0;\n",
              "      width: 32px;\n",
              "    }\n",
              "\n",
              "    .colab-df-convert:hover {\n",
              "      background-color: #E2EBFA;\n",
              "      box-shadow: 0px 1px 2px rgba(60, 64, 67, 0.3), 0px 1px 3px 1px rgba(60, 64, 67, 0.15);\n",
              "      fill: #174EA6;\n",
              "    }\n",
              "\n",
              "    [theme=dark] .colab-df-convert {\n",
              "      background-color: #3B4455;\n",
              "      fill: #D2E3FC;\n",
              "    }\n",
              "\n",
              "    [theme=dark] .colab-df-convert:hover {\n",
              "      background-color: #434B5C;\n",
              "      box-shadow: 0px 1px 3px 1px rgba(0, 0, 0, 0.15);\n",
              "      filter: drop-shadow(0px 1px 2px rgba(0, 0, 0, 0.3));\n",
              "      fill: #FFFFFF;\n",
              "    }\n",
              "  </style>\n",
              "\n",
              "      <script>\n",
              "        const buttonEl =\n",
              "          document.querySelector('#df-c99c060b-05bf-4a14-90f1-61ca8434b870 button.colab-df-convert');\n",
              "        buttonEl.style.display =\n",
              "          google.colab.kernel.accessAllowed ? 'block' : 'none';\n",
              "\n",
              "        async function convertToInteractive(key) {\n",
              "          const element = document.querySelector('#df-c99c060b-05bf-4a14-90f1-61ca8434b870');\n",
              "          const dataTable =\n",
              "            await google.colab.kernel.invokeFunction('convertToInteractive',\n",
              "                                                     [key], {});\n",
              "          if (!dataTable) return;\n",
              "\n",
              "          const docLinkHtml = 'Like what you see? Visit the ' +\n",
              "            '<a target=\"_blank\" href=https://colab.research.google.com/notebooks/data_table.ipynb>data table notebook</a>'\n",
              "            + ' to learn more about interactive tables.';\n",
              "          element.innerHTML = '';\n",
              "          dataTable['output_type'] = 'display_data';\n",
              "          await google.colab.output.renderOutput(dataTable, element);\n",
              "          const docLink = document.createElement('div');\n",
              "          docLink.innerHTML = docLinkHtml;\n",
              "          element.appendChild(docLink);\n",
              "        }\n",
              "      </script>\n",
              "    </div>\n",
              "  </div>\n",
              "  "
            ],
            "text/plain": [
              "   recommended  frequency\n",
              "0        False      11759\n",
              "1         True      11063"
            ]
          },
          "execution_count": 5,
          "metadata": {},
          "output_type": "execute_result"
        }
      ],
      "source": [
        "airline_data.groupby(['recommended']).size().sort_values(ascending=False).reset_index(name='frequency')"
      ]
    },
    {
      "cell_type": "code",
      "execution_count": null,
      "metadata": {
        "colab": {
          "base_uri": "https://localhost:8080/"
        },
        "id": "YHZnoabLZIoh",
        "outputId": "6c01cc00-90de-4c77-da4f-6621698d8b64"
      },
      "outputs": [
        {
          "name": "stderr",
          "output_type": "stream",
          "text": [
            "/usr/local/lib/python3.8/dist-packages/pandas/core/frame.py:5039: SettingWithCopyWarning: \n",
            "A value is trying to be set on a copy of a slice from a DataFrame\n",
            "\n",
            "See the caveats in the documentation: https://pandas.pydata.org/pandas-docs/stable/user_guide/indexing.html#returning-a-view-versus-a-copy\n",
            "  return super().rename(\n",
            "<ipython-input-6-c0643716e0ed>:5: FutureWarning: The default value of regex will change from True to False in a future version.\n",
            "  data['reviews'] = data.reviews.str.replace('[^a-zA-Z ]', ' ')\n"
          ]
        },
        {
          "name": "stdout",
          "output_type": "stream",
          "text": [
            "                                             reviews  recommended\n",
            "0   First time Iâ€™d flown TK. I found them very ...         True\n",
            "1   We make our check in in the airport, they Tak...        False\n",
            "                                             reviews  recommended\n",
            "0   First time I   d flown TK  I found them very ...            1\n",
            "1   We make our check in in the airport  they Tak...            0\n",
            "2   I flew with this company several times in the...            0\n",
            "3   Turkish Airlines has consistently maintained ...            1\n",
            "4   Never book Turkish airlines if you are travel...            0\n"
          ]
        }
      ],
      "source": [
        "train_df = airline_data[['review_text', 'recommended']]\n",
        "train_df.rename(columns={'review_text':'reviews'}, inplace=True)\n",
        "data = train_df.copy()\n",
        "print(data.head(2))\n",
        "data['reviews'] = data.reviews.str.replace('[^a-zA-Z ]', ' ')\n",
        "\n",
        "# Converting type of columns to category\n",
        "data['recommended']=data['recommended'].astype('category')\n",
        " \n",
        " \n",
        "#Assigning numerical values and storing it in another columns\n",
        "data['recommended_new']=data['recommended'].cat.codes\n",
        " \n",
        "#Create an instance of One-hot-encoder\n",
        "enc=OneHotEncoder()\n",
        " \n",
        "#Passing encoded columns\n",
        "enc_data=pd.DataFrame(enc.fit_transform(data[['recommended_new']]).toarray())\n",
        " \n",
        "#Merge with main\n",
        "data=data.join(enc_data)\n",
        "data.head()\n",
        "data.drop(columns=['recommended',0,1],inplace=True)\n",
        "data.rename(columns = {'recommended_new':'recommended'}, inplace = True)\n",
        "print(data.head())\n"
      ]
    },
    {
      "cell_type": "code",
      "execution_count": null,
      "metadata": {
        "colab": {
          "base_uri": "https://localhost:8080/",
          "height": 299
        },
        "id": "mFhpGiE1No3L",
        "outputId": "49c726a7-4320-4f06-fc76-b099c0c78cee"
      },
      "outputs": [
        {
          "data": {
            "text/plain": [
              "<AxesSubplot:title={'center':'Target Distribution'}, ylabel='Frequency'>"
            ]
          },
          "execution_count": 7,
          "metadata": {},
          "output_type": "execute_result"
        },
        {
          "data": {
            "image/png": "[encoded data removed]",
            "text/plain": [
              "<Figure size 432x288 with 1 Axes>"
            ]
          },
          "metadata": {},
          "output_type": "display_data"
        }
      ],
      "source": [
        "data.recommended.plot(kind='hist',title='Target Distribution')"
      ]
    },
    {
      "cell_type": "markdown",
      "metadata": {
        "id": "2twdqGQ_bBP9"
      },
      "source": [
        "# Spiltting the dataset in train, test, validation."
      ]
    },
    {
      "cell_type": "code",
      "execution_count": null,
      "metadata": {
        "id": "k8uyEtsgbF7s"
      },
      "outputs": [],
      "source": [
        "#train, validate, test = np.split(data.sample(frac=1, random_state=42), [int(.6*len(data)), int(.8*len(data))])\n",
        "X = data.reviews.values\n",
        "y = data.recommended.values\n",
        "\n",
        "X_train, X_val, y_train, y_val = train_test_split(X, y, test_size=0.1, random_state=2020)\n"
      ]
    },
    {
      "cell_type": "markdown",
      "metadata": {
        "id": "XqpCU2Z2uvoj"
      },
      "source": [
        "#Selecting Model. "
      ]
    },
    {
      "cell_type": "markdown",
      "metadata": {
        "id": "RtKGCc5sVSLO"
      },
      "source": [
        "#Tokenization and Input Formatting"
      ]
    },
    {
      "cell_type": "code",
      "execution_count": null,
      "metadata": {
        "colab": {
          "base_uri": "https://localhost:8080/"
        },
        "id": "veG32dDtvIV0",
        "outputId": "e7518b4e-734c-45da-fe9c-6a73eaace42e"
      },
      "outputs": [
        {
          "name": "stderr",
          "output_type": "stream",
          "text": [
            "[nltk_data] Downloading package stopwords to /root/nltk_data...\n",
            "[nltk_data]   Unzipping corpora/stopwords.zip.\n"
          ]
        }
      ],
      "source": [
        "import nltk\n",
        "import re\n",
        "nltk.download(\"stopwords\")\n",
        "from nltk.corpus import stopwords\n",
        "\n",
        "def text_preprocessing(s):\n",
        "    s = s.lower()\n",
        "    # Change 't to 'not'\n",
        "    s = re.sub(r\"\\'t\", \" not\", s)\n",
        "    # Remove @name\n",
        "    s = re.sub(r'(@.*?)[\\s]', ' ', s)\n",
        "    # Isolate and remove punctuations except '?'\n",
        "    s = re.sub(r'([\\'\\\"\\.\\(\\)\\!\\?\\\\\\/\\,])', r' \\1 ', s)\n",
        "    s = re.sub(r'[^\\w\\s\\?]', ' ', s)\n",
        "    # Remove some special characters\n",
        "    s = re.sub(r'([\\;\\:\\|•«\\n])', ' ', s)\n",
        "    # Remove stopwords except 'not' and 'can'\n",
        "    s = \" \".join([word for word in s.split()\n",
        "                  if word not in stopwords.words('english')\n",
        "                  or word in ['not', 'can']])\n",
        "    # Remove trailing whitespace\n",
        "    s = re.sub(r'\\s+', ' ', s).strip()\n",
        "    \n",
        "    return s"
      ]
    },
    {
      "cell_type": "code",
      "execution_count": null,
      "metadata": {
        "colab": {
          "base_uri": "https://localhost:8080/"
        },
        "id": "WOOuEcMLvSYx",
        "outputId": "a2e6e9de-c79d-46f7-e658-753210489211"
      },
      "outputs": [
        {
          "name": "stdout",
          "output_type": "stream",
          "text": [
            "Original:   First time I   d flown TK  I found them very good in the air  cabin crew  planes  food  all very nice  Not so great on the ground  ground staff  call centre  computer systems  My flight from LHR was delayed so I missed the connection in Istanbul  Most ground staff don   t speak English  and I was given contradictory instructions from those that could speak a little English  I eventually got on a flight to Izmir three hours later  but it wasn   t an easy process  made worse by the vast distances one has to walk between gates in the cavernous new airport  Also  I   d phoned a TK call centre  based in Ukraine  to pay an extra      or so each way for extra leg room seats  However  as the departure times kept changing  my seats kept changing  and for the return leg to London from Istanbul I was not given an extra leg room seat  Luckily there was a spare exit row seat and the cabin crew sorted me out  Overall  I think their cabin crew and planes are very good  ground staff and call centre staff need better training and they all need better computer systems and software to work with \n",
            "Processed:  first time flown tk found good air cabin crew planes food nice not great ground ground staff call centre computer systems flight lhr delayed missed connection istanbul ground staff speak english given contradictory instructions could speak little english eventually got flight izmir three hours later easy process made worse vast distances one walk gates cavernous new airport also phoned tk call centre based ukraine pay extra way extra leg room seats however departure times kept changing seats kept changing return leg london istanbul not given extra leg room seat luckily spare exit row seat cabin crew sorted overall think cabin crew planes good ground staff call centre staff need better training need better computer systems software work\n"
          ]
        }
      ],
      "source": [
        "# Print sentence 0\n",
        "print('Original: ', X[0])\n",
        "print('Processed: ', text_preprocessing(X[0]))"
      ]
    },
    {
      "cell_type": "markdown",
      "source": [
        "#TF-IDF Vectorizer\n",
        "TF-IDF (term frequency–inverse document frequency), tells how important a word is to a document in a collection or corpus. We will use TF-IDF to vectorize our text data before feeding them to machine learning algorithms."
      ],
      "metadata": {
        "id": "8nx6_Aje_Kzs"
      }
    },
    {
      "cell_type": "code",
      "execution_count": null,
      "metadata": {
        "colab": {
          "background_save": true
        },
        "id": "UFqDchsSWYLt",
        "outputId": "c9e4d9b3-9e66-4aa9-ee55-e287a9f4b050"
      },
      "outputs": [
        {
          "name": "stdout",
          "output_type": "stream",
          "text": [
            "CPU times: user 5min 48s, sys: 42.6 s, total: 6min 30s\n",
            "Wall time: 6min 38s\n"
          ]
        }
      ],
      "source": [
        "%%time\n",
        "from sklearn.feature_extraction.text import TfidfVectorizer\n",
        "\n",
        "X_train_preprocessed = np.array([text_preprocessing(text) for text in X_train])\n",
        "X_val_preprocessed = np.array([text_preprocessing(text) for text in X_val])\n",
        "\n",
        "# Calculate TF-IDF\n",
        "tf_idf = TfidfVectorizer(ngram_range=(1, 3),\n",
        "                         binary=True,\n",
        "                         smooth_idf=False)\n",
        "X_train_tfidf = tf_idf.fit_transform(X_train_preprocessed)\n",
        "X_val_tfidf = tf_idf.transform(X_val_preprocessed)"
      ]
    },
    {
      "cell_type": "markdown",
      "source": [
        "#Train Naive Bayes Classifier\n",
        "##Hyperparameter Tuning\n",
        "We will use cross-validation and AUC score to tune hyperparameters of our model. The function get_auc_CV will return the average AUC score from cross-validation.\n",
        "\n",
        "The MultinominalNB class only have one hypterparameter - alpha. The code below will help us find the alpha value that gives us the highest CV AUC score."
      ],
      "metadata": {
        "id": "iohJoKIzDWMH"
      }
    },
    {
      "cell_type": "code",
      "execution_count": null,
      "metadata": {
        "colab": {
          "base_uri": "https://localhost:8080/",
          "height": 313
        },
        "id": "f-jpZ-s8WymC",
        "outputId": "6833c1dc-d1d9-4859-885d-3aeed7e2de57"
      },
      "outputs": [
        {
          "output_type": "stream",
          "name": "stdout",
          "text": [
            "Best alpha:  1.0\n"
          ]
        },
        {
          "output_type": "display_data",
          "data": {
            "text/plain": [
              "<Figure size 432x288 with 1 Axes>"
            ],
            "image/png": "[encoded data removed]"
          },
          "metadata": {
            "needs_background": "light"
          }
        }
      ],
      "source": [
        "from sklearn.model_selection import StratifiedKFold, cross_val_score\n",
        "from sklearn.naive_bayes import MultinomialNB\n",
        "\n",
        "def get_auc_CV(model):\n",
        "    kf = StratifiedKFold(5, shuffle=True, random_state=1)\n",
        "    auc = cross_val_score(\n",
        "        model, X_train_tfidf, y_train, scoring=\"roc_auc\", cv=kf)\n",
        "\n",
        "    return auc.mean()\n",
        "\n",
        "\n",
        "mean_data = []\n",
        "for i in np.arange(1, 10, 0.1):\n",
        "  val = get_auc_CV(MultinomialNB())\n",
        "  mean_data.append(val)\n",
        "res = pd.Series(np.array(mean_data),index=np.arange(1, 10, 0.1))\n",
        "\n",
        "best_alpha = np.round(res.idxmax(), 2)\n",
        "print('Best alpha: ', best_alpha)\n",
        "\n",
        "plt.plot(res)\n",
        "plt.title('AUC vs. Alpha')\n",
        "plt.xlabel('Alpha')\n",
        "plt.ylabel('AUC')\n",
        "plt.show()"
      ]
    },
    {
      "cell_type": "code",
      "source": [
        "from sklearn.metrics import accuracy_score, roc_curve, auc\n",
        "\n",
        "def evaluate_roc(probs, y_true):\n",
        "    preds = probs[:, 1]\n",
        "    fpr, tpr, threshold = roc_curve(y_true, preds)\n",
        "    roc_auc = auc(fpr, tpr)\n",
        "    print(f'AUC: {roc_auc:.4f}')\n",
        "       \n",
        "    y_pred = np.where(preds >= 0.5, 1, 0)\n",
        "    accuracy = accuracy_score(y_true, y_pred)\n",
        "    print(f'Accuracy: {accuracy*100:.2f}%')\n",
        "    \n",
        "    # Plot ROC AUC\n",
        "    plt.title('Receiver Operating Characteristic')\n",
        "    plt.plot(fpr, tpr, 'b', label = 'AUC = %0.2f' % roc_auc)\n",
        "    plt.legend(loc = 'lower right')\n",
        "    plt.plot([0, 1], [0, 1],'r--')\n",
        "    plt.xlim([0, 1])\n",
        "    plt.ylim([0, 1])\n",
        "    plt.ylabel('True Positive Rate')\n",
        "    plt.xlabel('False Positive Rate')\n",
        "    plt.show()"
      ],
      "metadata": {
        "id": "9RglPGcY-VbJ"
      },
      "execution_count": null,
      "outputs": []
    },
    {
      "cell_type": "code",
      "source": [
        "nb_model = MultinomialNB(alpha=1.0)\n",
        "nb_model.fit(X_train_tfidf, y_train)\n",
        "probs = nb_model.predict_proba(X_val_tfidf)\n",
        "\n",
        "evaluate_roc(probs, y_val)"
      ],
      "metadata": {
        "colab": {
          "base_uri": "https://localhost:8080/",
          "height": 331
        },
        "id": "p9uAfNrG-W21",
        "outputId": "5ea02fae-2d63-48d4-b03f-cc796f57319b"
      },
      "execution_count": null,
      "outputs": [
        {
          "output_type": "stream",
          "name": "stdout",
          "text": [
            "AUC: 0.9515\n",
            "Accuracy: 88.66%\n"
          ]
        },
        {
          "output_type": "display_data",
          "data": {
            "text/plain": [
              "<Figure size 432x288 with 1 Axes>"
            ],
            "image/png": "[encoded data removed]"
          },
          "metadata": {
            "needs_background": "light"
          }
        }
      ]
    },
    {
      "cell_type": "markdown",
      "source": [
        "By combining TF-IDF and the Naive Bayes algorithm, we achieve the accuracy rate of **88.66%** on the validation set. This value is the baseline performance and will be used to evaluate the performance of our Seq2Seq LSTM Models."
      ],
      "metadata": {
        "id": "Q-8U42AbDzOK"
      }
    },
    {
      "cell_type": "markdown",
      "source": [
        "#Save the naive-bayes classifier"
      ],
      "metadata": {
        "id": "7c9mYv8hAou0"
      }
    },
    {
      "cell_type": "code",
      "source": [
        "import pickle\n",
        "f = open('./drive/MyDrive/Colab_Notebooks/naive_bayes_recommender_model/nb_model.pickle', 'wb')\n",
        "pickle.dump(nb_model, f)\n",
        "f.close()"
      ],
      "metadata": {
        "id": "ChXyQh7UAoIQ"
      },
      "execution_count": null,
      "outputs": []
    },
    {
      "cell_type": "markdown",
      "source": [
        "#Load model and do inferences"
      ],
      "metadata": {
        "id": "kFontiUdBVdA"
      }
    },
    {
      "cell_type": "code",
      "source": [
        "import pickle\n",
        "f = open('./drive/MyDrive/Colab_Notebooks/naive_bayes_recommender_model/nb_model.pickle', 'rb')\n",
        "nb_classifier = pickle.load(f)\n",
        "f.close()\n",
        "\n",
        "sample_text = [('Very positive experience with Indigo. Easy baggage-drop at Lucknow airport, new aircraft,' \n",
        "                'well trained crew. Very good airline, warmly recommended.'),\n",
        "               ('Indigo charges extra for its seat selection. And now I dont understand why the flight attendant asked '\n",
        "               'me to change my seat which is lower than what i paid. I left with no choice cause its for an child ' \n",
        "                'with 2.5yrs. Its crazy Indigo has to fine tune its reservation system. The family who booked'\n",
        "                'the seats got the seats in 3 different places.'),\n",
        "               ('Recently as an international travel booked return flight, continue to experience problems of scheduling '\n",
        "               'and rescheduling by the airline, with no head or tail. Difficult to contact either online or web chat '\n",
        "               'or on the phone to speak to customer service from abroad from abroad. The whole service is below par.'),\n",
        "               ('No doubt Indigo is best LCC in India, smooth check in, on time sequential boarding and departure. Okay seats, '\n",
        "               'clean hygiene cabin, courteous cabin crew. Another good experience and reason to fly again with them next time.'),\n",
        "               ('I used the Indigo flight from Jaipur to Bengaluru. It was ok.')]\n",
        "\n",
        "\n",
        "sampl_preprocessed = np.array([text_preprocessing(text) for text in sample_text])\n",
        "\n",
        "sample_tfidf = tf_idf.transform(sampl_preprocessed)\n",
        "\n",
        "sample_probs = nb_model.predict_proba(sample_tfidf)\n",
        "print(sample_probs)\n",
        "# Index 0:             Index:1\n",
        "# Not recommended,     Recommended\n"
      ],
      "metadata": {
        "colab": {
          "base_uri": "https://localhost:8080/"
        },
        "id": "pXrkG7yDAgnB",
        "outputId": "08959000-5e67-4dae-e32b-d8eec976ed99"
      },
      "execution_count": null,
      "outputs": [
        {
          "output_type": "stream",
          "name": "stdout",
          "text": [
            "[[0.11462066 0.88537934]\n",
            " [0.82415218 0.17584782]\n",
            " [0.77621416 0.22378584]\n",
            " [0.24109029 0.75890971]\n",
            " [0.52850974 0.47149026]]\n"
          ]
        }
      ]
    }
  ],
  "metadata": {
    "colab": {
      "provenance": [],
      "mount_file_id": "18w37L4P-YMWzSgFfMyvXtgO3V4EY1aVn",
      "authorship_tag": "ABX9TyNXqUtCfA7gxXL5Oae0qEuR",
      "include_colab_link": true
    },
    "kernelspec": {
      "display_name": "Python 3",
      "name": "python3"
    },
    "language_info": {
      "name": "python"
    }
  },
  "nbformat": 4,
  "nbformat_minor": 0
}