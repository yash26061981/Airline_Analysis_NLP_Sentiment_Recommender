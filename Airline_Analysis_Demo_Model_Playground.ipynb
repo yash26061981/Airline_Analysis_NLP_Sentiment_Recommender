{
  "nbformat": 4,
  "nbformat_minor": 0,
  "metadata": {
    "colab": {
      "provenance": [],
      "mount_file_id": "18w37L4P-YMWzSgFfMyvXtgO3V4EY1aVn",
      "authorship_tag": "ABX9TyPc59DCECSLX5sbiTviS0YM",
      "include_colab_link": true
    },
    "kernelspec": {
      "name": "python3",
      "display_name": "Python 3"
    },
    "language_info": {
      "name": "python"
    }
  },
  "cells": [
    {
      "cell_type": "markdown",
      "metadata": {
        "id": "view-in-github",
        "colab_type": "text"
      },
      "source": [
        "<a href=\"https://colab.research.google.com/github/yash26061981/Airline_Analysis_NLP_Sentiment_Recommender/blob/main/Airline_Analysis_Demo_Model_Playground.ipynb\" target=\"_parent\"><img src=\"https://colab.research.google.com/assets/colab-badge.svg\" alt=\"Open In Colab\"/></a>"
      ]
    },
    {
      "cell_type": "markdown",
      "source": [
        "# Mounting Drive to access files and save models"
      ],
      "metadata": {
        "id": "jABVW_dWE-zK"
      }
    },
    {
      "cell_type": "code",
      "source": [
        "from google.colab import drive\n",
        "drive.mount('/content/drive')"
      ],
      "metadata": {
        "colab": {
          "base_uri": "https://localhost:8080/"
        },
        "id": "_M0oR-EcE59R",
        "outputId": "7b66532c-88eb-40de-aa88-8331acbcf2fe"
      },
      "execution_count": null,
      "outputs": [
        {
          "output_type": "stream",
          "name": "stdout",
          "text": [
            "Mounted at /content/drive\n"
          ]
        }
      ]
    },
    {
      "cell_type": "markdown",
      "source": [
        "# Importing necessary libraries"
      ],
      "metadata": {
        "id": "k8qcQk0dbd-N"
      }
    },
    {
      "cell_type": "code",
      "source": [
        "import tensorflow as tf\n",
        "import numpy as np"
      ],
      "metadata": {
        "id": "Jb8XaK2eTe-s"
      },
      "execution_count": null,
      "outputs": []
    },
    {
      "cell_type": "markdown",
      "source": [
        "## Our first model is Sequential Seq2Seq model with LSTM layers, trained on the sentiments."
      ],
      "metadata": {
        "id": "HeBbTI2YrCtK"
      }
    },
    {
      "cell_type": "markdown",
      "source": [
        "##Predictions using above trained model"
      ],
      "metadata": {
        "id": "NDrRw4Ics0ih"
      }
    },
    {
      "cell_type": "code",
      "source": [
        "lstm_sentiment_classifier = tf.keras.models.load_model('./drive/MyDrive/Colab_Notebooks/lstm_sentiment_model')\n",
        "\n",
        "sample_text = [('Very positive experience with Indigo. Easy baggage-drop at Lucknow airport, new aircraft,' \n",
        "                'well trained crew. Very good airline, warmly recommended.'),\n",
        "               ('Indigo charges extra for its seat selection. And now I dont understand why the flight attendant asked '\n",
        "               'me to change my seat which is lower than what i paid. I left with no choice cause its for an child ' \n",
        "                'with 2.5yrs. Its crazy Indigo has to fine tune its reservation system. The family who booked'\n",
        "                'the seats got the seats in 3 different places.'),\n",
        "               ('Recently as an international travel booked return flight, continue to experience problems of scheduling '\n",
        "               'and rescheduling by the airline, with no head or tail. Difficult to contact either online or web chat '\n",
        "               'or on the phone to speak to customer service from abroad from abroad. The whole service is below par.'),\n",
        "               ('No doubt Indigo is best LCC in India, smooth check in, on time sequential boarding and departure. Okay seats, '\n",
        "               'clean hygiene cabin, courteous cabin crew. Another good experience and reason to fly again with them next time.'),\n",
        "               ('I used the Indigo flight from Jaipur to Bengaluru. It was ok.')]\n",
        "\n",
        "for count, st in enumerate(sample_text):  \n",
        "  predictions = lstm_sentiment_classifier.predict(np.array([st]), verbose=0)\n",
        "  p = np.squeeze(predictions)\n",
        "  p = int(p)\n",
        "  if p < 0:\n",
        "    print(\"Setiment in {} Statement is = Negative Review\".format(count+1))\n",
        "  elif p > 1:\n",
        "    print(\"Setiment in {} Statement is = Positive Review\".format(count+1))\n",
        "  else:\n",
        "    print(\"Setiment in {} Statement is = Neutral Review\".format(count+1))\n"
      ],
      "metadata": {
        "colab": {
          "base_uri": "https://localhost:8080/"
        },
        "id": "XNPLiQHqfFi9",
        "outputId": "9fb81bf3-0e8c-4ea5-9856-5fd37ee6a6fe"
      },
      "execution_count": null,
      "outputs": [
        {
          "output_type": "stream",
          "name": "stdout",
          "text": [
            "Setiment in 1 Statement is = Positive Review\n",
            "Setiment in 2 Statement is = Negative Review\n",
            "Setiment in 3 Statement is = Negative Review\n",
            "Setiment in 4 Statement is = Positive Review\n",
            "Setiment in 5 Statement is = Neutral Review\n"
          ]
        }
      ]
    },
    {
      "cell_type": "markdown",
      "source": [
        "# Airline Recommender Model"
      ],
      "metadata": {
        "id": "M3lYr1J73PRi"
      }
    },
    {
      "cell_type": "markdown",
      "source": [
        "## Our Second model is Sequential Seq2Seq model with LSTM layers, trained on the recommendatations."
      ],
      "metadata": {
        "id": "MHTanvc-4BsF"
      }
    },
    {
      "cell_type": "markdown",
      "source": [
        "## Inferencing on unseen samples"
      ],
      "metadata": {
        "id": "tpApZnQf4d02"
      }
    },
    {
      "cell_type": "code",
      "source": [
        "lstm_recommender = tf.keras.models.load_model('./drive/MyDrive/Colab_Notebooks/lstm_recommender_model')\n",
        "\n",
        "sample_text = [('Very positive experience with Indigo. Easy baggage-drop at Lucknow airport, new aircraft,' \n",
        "                'well trained crew. Very good airline, warmly recommended.'),\n",
        "               ('Indigo charges extra for its seat selection. And now I dont understand why the flight attendant asked '\n",
        "               'me to change my seat which is lower than what i paid. I left with no choice cause its for an child ' \n",
        "                'with 2.5yrs. Its crazy Indigo has to fine tune its reservation system. The family who booked'\n",
        "                'the seats got the seats in 3 different places.'),\n",
        "               ('Recently as an international travel booked return flight, continue to experience problems of scheduling '\n",
        "               'and rescheduling by the airline, with no head or tail. Difficult to contact either online or web chat '\n",
        "               'or on the phone to speak to customer service from abroad from abroad. The whole service is below par.'),\n",
        "               ('No doubt Indigo is best LCC in India, smooth check in, on time sequential boarding and departure. Okay seats, '\n",
        "               'clean hygiene cabin, courteous cabin crew. Another good experience and reason to fly again with them next time.'),\n",
        "               ('I used the Indigo flight from Jaipur to Bengaluru. It was ok.')]\n",
        "\n",
        "for count, st in enumerate(sample_text):  \n",
        "  predictions = lstm_recommender.predict(np.array([st]), verbose=0)\n",
        "  p = np.squeeze(predictions)\n",
        "  recommended = 'Yes' if p > 0 else 'No'\n",
        "  print(\"In Statement {} Recommended Flight is = {}\".format(count+1, recommended))\n",
        "  "
      ],
      "metadata": {
        "colab": {
          "base_uri": "https://localhost:8080/"
        },
        "id": "0luzLnvr4hZf",
        "outputId": "c7da6029-fdb9-4c06-e27e-57806b537f30"
      },
      "execution_count": null,
      "outputs": [
        {
          "output_type": "stream",
          "name": "stdout",
          "text": [
            "In Statement 1 Recommended Flight is = Yes\n",
            "In Statement 2 Recommended Flight is = No\n",
            "In Statement 3 Recommended Flight is = No\n",
            "In Statement 4 Recommended Flight is = Yes\n",
            "In Statement 5 Recommended Flight is = Yes\n"
          ]
        }
      ]
    }
  ]
}