{
  "nbformat": 4,
  "nbformat_minor": 0,
  "metadata": {
    "colab": {
      "provenance": [],
      "mount_file_id": "18w37L4P-YMWzSgFfMyvXtgO3V4EY1aVn",
      "authorship_tag": "ABX9TyMv93bd/Ddbr7HAQfT6hnle",
      "include_colab_link": true
    },
    "kernelspec": {
      "name": "python3",
      "display_name": "Python 3"
    },
    "language_info": {
      "name": "python"
    }
  },
  "cells": [
    {
      "cell_type": "markdown",
      "metadata": {
        "id": "view-in-github",
        "colab_type": "text"
      },
      "source": [
        "<a href=\"https://colab.research.google.com/github/yash26061981/Airline_Analysis_NLP_Sentiment_Recommender/blob/main/Airline_Analysis_Demo_Model_Building.ipynb\" target=\"_parent\"><img src=\"https://colab.research.google.com/assets/colab-badge.svg\" alt=\"Open In Colab\"/></a>"
      ]
    },
    {
      "cell_type": "markdown",
      "source": [
        "# Installing Transformer"
      ],
      "metadata": {
        "id": "4VM4C9unbK6s"
      }
    },
    {
      "cell_type": "markdown",
      "source": [
        "# Mounting Drive to access files and save models"
      ],
      "metadata": {
        "id": "jABVW_dWE-zK"
      }
    },
    {
      "cell_type": "code",
      "source": [
        "from google.colab import drive\n",
        "drive.mount('/content/drive')"
      ],
      "metadata": {
        "colab": {
          "base_uri": "https://localhost:8080/"
        },
        "id": "_M0oR-EcE59R",
        "outputId": "b8fbc7b1-f865-481f-eca7-4b06eed14908"
      },
      "execution_count": null,
      "outputs": [
        {
          "output_type": "stream",
          "name": "stdout",
          "text": [
            "Drive already mounted at /content/drive; to attempt to forcibly remount, call drive.mount(\"/content/drive\", force_remount=True).\n"
          ]
        }
      ]
    },
    {
      "cell_type": "markdown",
      "source": [
        "# Importing necessary libraries"
      ],
      "metadata": {
        "id": "k8qcQk0dbd-N"
      }
    },
    {
      "cell_type": "code",
      "source": [
        "import tensorflow as tf\n",
        "import pandas as pd\n",
        "from sklearn.preprocessing import OneHotEncoder\n",
        "import numpy as np\n",
        "from sklearn.model_selection import train_test_split"
      ],
      "metadata": {
        "id": "Jb8XaK2eTe-s"
      },
      "execution_count": null,
      "outputs": []
    },
    {
      "cell_type": "markdown",
      "source": [
        "# Reading filtered airline data."
      ],
      "metadata": {
        "id": "NFQHv1DOboow"
      }
    },
    {
      "cell_type": "code",
      "source": [
        "df_dtype = pd.read_csv('./drive/MyDrive/Colab_Notebooks/PreprocessedDataLightTypes.csv')\n",
        "dict_dtype = df_dtype[['index','dtypes']].set_index('index').to_dict()['dtypes']\n",
        "dict_dtype['recommended'] = 'bool'\n",
        "\n",
        "airline_data_filtered_file = './drive/MyDrive/Colab_Notebooks/PreprocessedDataLight.csv'\n",
        "airline_data = pd.read_csv(airline_data_filtered_file, dtype=dict_dtype, keep_default_na=False, na_values=['_'])\n",
        "airline_data.drop(columns=['Unnamed: 0'],inplace=True)\n",
        "#airline_data = pd.read_csv(airline_data_filtered_file)\n",
        "airline_data.head()"
      ],
      "metadata": {
        "colab": {
          "base_uri": "https://localhost:8080/",
          "height": 386
        },
        "id": "3_PsfNjCTgQO",
        "outputId": "3002cf94-9b62-452c-9d86-22ec3874b17d"
      },
      "execution_count": null,
      "outputs": [
        {
          "output_type": "execute_result",
          "data": {
            "text/plain": [
              "            airline  review_score  traveller_type          cabin  \\\n",
              "0  Turkish Airlines             7        Business  Economy Class   \n",
              "1  Turkish Airlines             2  Family Leisure  Economy Class   \n",
              "2  Turkish Airlines             3        Business  Economy Class   \n",
              "3  Turkish Airlines            10    Solo Leisure  Economy Class   \n",
              "4  Turkish Airlines             1    Solo Leisure  Economy Class   \n",
              "\n",
              "   seat_comfort  cabin_service  food_bev  entertainment  ground_service  \\\n",
              "0             4              5         4              4               2   \n",
              "1             4              1         1              1               1   \n",
              "2             1              4         1              3               1   \n",
              "3             4              5         5              5               5   \n",
              "4             1              1         1              1               1   \n",
              "\n",
              "   value_for_money  ... review_date_month  review_date_year  date_flown_day  \\\n",
              "0                4  ...               5.0            2019.0             1.0   \n",
              "1                1  ...               5.0            2019.0             1.0   \n",
              "2                2  ...               5.0            2019.0             1.0   \n",
              "3                5  ...               5.0            2019.0            24.0   \n",
              "4                1  ...               5.0            2019.0             1.0   \n",
              "\n",
              "   date_flown_month  date_flown_year  review_date_date_flown_distance_days  \\\n",
              "0               5.0           2019.0                                   7.0   \n",
              "1               5.0           2019.0                                   6.0   \n",
              "2               5.0           2019.0                                   6.0   \n",
              "3               4.0           2019.0                                  12.0   \n",
              "4               5.0           2019.0                                   5.0   \n",
              "\n",
              "   review_characters  pos_neu_neg_review_score  has_layover recommended  \n",
              "0               1094                       pos         True        True  \n",
              "1                425                       neg        False       False  \n",
              "2               1597                       neg         True       False  \n",
              "3                875                       pos        False        True  \n",
              "4                366                       neg         True       False  \n",
              "\n",
              "[5 rows x 22 columns]"
            ],
            "text/html": [
              "\n",
              "  <div id=\"df-01c45808-9bb5-41e6-94b2-80a0a26bf56b\">\n",
              "    <div class=\"colab-df-container\">\n",
              "      <div>\n",
              "<style scoped>\n",
              "    .dataframe tbody tr th:only-of-type {\n",
              "        vertical-align: middle;\n",
              "    }\n",
              "\n",
              "    .dataframe tbody tr th {\n",
              "        vertical-align: top;\n",
              "    }\n",
              "\n",
              "    .dataframe thead th {\n",
              "        text-align: right;\n",
              "    }\n",
              "</style>\n",
              "<table border=\"1\" class=\"dataframe\">\n",
              "  <thead>\n",
              "    <tr style=\"text-align: right;\">\n",
              "      <th></th>\n",
              "      <th>airline</th>\n",
              "      <th>review_score</th>\n",
              "      <th>traveller_type</th>\n",
              "      <th>cabin</th>\n",
              "      <th>seat_comfort</th>\n",
              "      <th>cabin_service</th>\n",
              "      <th>food_bev</th>\n",
              "      <th>entertainment</th>\n",
              "      <th>ground_service</th>\n",
              "      <th>value_for_money</th>\n",
              "      <th>...</th>\n",
              "      <th>review_date_month</th>\n",
              "      <th>review_date_year</th>\n",
              "      <th>date_flown_day</th>\n",
              "      <th>date_flown_month</th>\n",
              "      <th>date_flown_year</th>\n",
              "      <th>review_date_date_flown_distance_days</th>\n",
              "      <th>review_characters</th>\n",
              "      <th>pos_neu_neg_review_score</th>\n",
              "      <th>has_layover</th>\n",
              "      <th>recommended</th>\n",
              "    </tr>\n",
              "  </thead>\n",
              "  <tbody>\n",
              "    <tr>\n",
              "      <th>0</th>\n",
              "      <td>Turkish Airlines</td>\n",
              "      <td>7</td>\n",
              "      <td>Business</td>\n",
              "      <td>Economy Class</td>\n",
              "      <td>4</td>\n",
              "      <td>5</td>\n",
              "      <td>4</td>\n",
              "      <td>4</td>\n",
              "      <td>2</td>\n",
              "      <td>4</td>\n",
              "      <td>...</td>\n",
              "      <td>5.0</td>\n",
              "      <td>2019.0</td>\n",
              "      <td>1.0</td>\n",
              "      <td>5.0</td>\n",
              "      <td>2019.0</td>\n",
              "      <td>7.0</td>\n",
              "      <td>1094</td>\n",
              "      <td>pos</td>\n",
              "      <td>True</td>\n",
              "      <td>True</td>\n",
              "    </tr>\n",
              "    <tr>\n",
              "      <th>1</th>\n",
              "      <td>Turkish Airlines</td>\n",
              "      <td>2</td>\n",
              "      <td>Family Leisure</td>\n",
              "      <td>Economy Class</td>\n",
              "      <td>4</td>\n",
              "      <td>1</td>\n",
              "      <td>1</td>\n",
              "      <td>1</td>\n",
              "      <td>1</td>\n",
              "      <td>1</td>\n",
              "      <td>...</td>\n",
              "      <td>5.0</td>\n",
              "      <td>2019.0</td>\n",
              "      <td>1.0</td>\n",
              "      <td>5.0</td>\n",
              "      <td>2019.0</td>\n",
              "      <td>6.0</td>\n",
              "      <td>425</td>\n",
              "      <td>neg</td>\n",
              "      <td>False</td>\n",
              "      <td>False</td>\n",
              "    </tr>\n",
              "    <tr>\n",
              "      <th>2</th>\n",
              "      <td>Turkish Airlines</td>\n",
              "      <td>3</td>\n",
              "      <td>Business</td>\n",
              "      <td>Economy Class</td>\n",
              "      <td>1</td>\n",
              "      <td>4</td>\n",
              "      <td>1</td>\n",
              "      <td>3</td>\n",
              "      <td>1</td>\n",
              "      <td>2</td>\n",
              "      <td>...</td>\n",
              "      <td>5.0</td>\n",
              "      <td>2019.0</td>\n",
              "      <td>1.0</td>\n",
              "      <td>5.0</td>\n",
              "      <td>2019.0</td>\n",
              "      <td>6.0</td>\n",
              "      <td>1597</td>\n",
              "      <td>neg</td>\n",
              "      <td>True</td>\n",
              "      <td>False</td>\n",
              "    </tr>\n",
              "    <tr>\n",
              "      <th>3</th>\n",
              "      <td>Turkish Airlines</td>\n",
              "      <td>10</td>\n",
              "      <td>Solo Leisure</td>\n",
              "      <td>Economy Class</td>\n",
              "      <td>4</td>\n",
              "      <td>5</td>\n",
              "      <td>5</td>\n",
              "      <td>5</td>\n",
              "      <td>5</td>\n",
              "      <td>5</td>\n",
              "      <td>...</td>\n",
              "      <td>5.0</td>\n",
              "      <td>2019.0</td>\n",
              "      <td>24.0</td>\n",
              "      <td>4.0</td>\n",
              "      <td>2019.0</td>\n",
              "      <td>12.0</td>\n",
              "      <td>875</td>\n",
              "      <td>pos</td>\n",
              "      <td>False</td>\n",
              "      <td>True</td>\n",
              "    </tr>\n",
              "    <tr>\n",
              "      <th>4</th>\n",
              "      <td>Turkish Airlines</td>\n",
              "      <td>1</td>\n",
              "      <td>Solo Leisure</td>\n",
              "      <td>Economy Class</td>\n",
              "      <td>1</td>\n",
              "      <td>1</td>\n",
              "      <td>1</td>\n",
              "      <td>1</td>\n",
              "      <td>1</td>\n",
              "      <td>1</td>\n",
              "      <td>...</td>\n",
              "      <td>5.0</td>\n",
              "      <td>2019.0</td>\n",
              "      <td>1.0</td>\n",
              "      <td>5.0</td>\n",
              "      <td>2019.0</td>\n",
              "      <td>5.0</td>\n",
              "      <td>366</td>\n",
              "      <td>neg</td>\n",
              "      <td>True</td>\n",
              "      <td>False</td>\n",
              "    </tr>\n",
              "  </tbody>\n",
              "</table>\n",
              "<p>5 rows × 22 columns</p>\n",
              "</div>\n",
              "      <button class=\"colab-df-convert\" onclick=\"convertToInteractive('df-01c45808-9bb5-41e6-94b2-80a0a26bf56b')\"\n",
              "              title=\"Convert this dataframe to an interactive table.\"\n",
              "              style=\"display:none;\">\n",
              "        \n",
              "  <svg xmlns=\"http://www.w3.org/2000/svg\" height=\"24px\"viewBox=\"0 0 24 24\"\n",
              "       width=\"24px\">\n",
              "    <path d=\"M0 0h24v24H0V0z\" fill=\"none\"/>\n",
              "    <path d=\"M18.56 5.44l.94 2.06.94-2.06 2.06-.94-2.06-.94-.94-2.06-.94 2.06-2.06.94zm-11 1L8.5 8.5l.94-2.06 2.06-.94-2.06-.94L8.5 2.5l-.94 2.06-2.06.94zm10 10l.94 2.06.94-2.06 2.06-.94-2.06-.94-.94-2.06-.94 2.06-2.06.94z\"/><path d=\"M17.41 7.96l-1.37-1.37c-.4-.4-.92-.59-1.43-.59-.52 0-1.04.2-1.43.59L10.3 9.45l-7.72 7.72c-.78.78-.78 2.05 0 2.83L4 21.41c.39.39.9.59 1.41.59.51 0 1.02-.2 1.41-.59l7.78-7.78 2.81-2.81c.8-.78.8-2.07 0-2.86zM5.41 20L4 18.59l7.72-7.72 1.47 1.35L5.41 20z\"/>\n",
              "  </svg>\n",
              "      </button>\n",
              "      \n",
              "  <style>\n",
              "    .colab-df-container {\n",
              "      display:flex;\n",
              "      flex-wrap:wrap;\n",
              "      gap: 12px;\n",
              "    }\n",
              "\n",
              "    .colab-df-convert {\n",
              "      background-color: #E8F0FE;\n",
              "      border: none;\n",
              "      border-radius: 50%;\n",
              "      cursor: pointer;\n",
              "      display: none;\n",
              "      fill: #1967D2;\n",
              "      height: 32px;\n",
              "      padding: 0 0 0 0;\n",
              "      width: 32px;\n",
              "    }\n",
              "\n",
              "    .colab-df-convert:hover {\n",
              "      background-color: #E2EBFA;\n",
              "      box-shadow: 0px 1px 2px rgba(60, 64, 67, 0.3), 0px 1px 3px 1px rgba(60, 64, 67, 0.15);\n",
              "      fill: #174EA6;\n",
              "    }\n",
              "\n",
              "    [theme=dark] .colab-df-convert {\n",
              "      background-color: #3B4455;\n",
              "      fill: #D2E3FC;\n",
              "    }\n",
              "\n",
              "    [theme=dark] .colab-df-convert:hover {\n",
              "      background-color: #434B5C;\n",
              "      box-shadow: 0px 1px 3px 1px rgba(0, 0, 0, 0.15);\n",
              "      filter: drop-shadow(0px 1px 2px rgba(0, 0, 0, 0.3));\n",
              "      fill: #FFFFFF;\n",
              "    }\n",
              "  </style>\n",
              "\n",
              "      <script>\n",
              "        const buttonEl =\n",
              "          document.querySelector('#df-01c45808-9bb5-41e6-94b2-80a0a26bf56b button.colab-df-convert');\n",
              "        buttonEl.style.display =\n",
              "          google.colab.kernel.accessAllowed ? 'block' : 'none';\n",
              "\n",
              "        async function convertToInteractive(key) {\n",
              "          const element = document.querySelector('#df-01c45808-9bb5-41e6-94b2-80a0a26bf56b');\n",
              "          const dataTable =\n",
              "            await google.colab.kernel.invokeFunction('convertToInteractive',\n",
              "                                                     [key], {});\n",
              "          if (!dataTable) return;\n",
              "\n",
              "          const docLinkHtml = 'Like what you see? Visit the ' +\n",
              "            '<a target=\"_blank\" href=https://colab.research.google.com/notebooks/data_table.ipynb>data table notebook</a>'\n",
              "            + ' to learn more about interactive tables.';\n",
              "          element.innerHTML = '';\n",
              "          dataTable['output_type'] = 'display_data';\n",
              "          await google.colab.output.renderOutput(dataTable, element);\n",
              "          const docLink = document.createElement('div');\n",
              "          docLink.innerHTML = docLinkHtml;\n",
              "          element.appendChild(docLink);\n",
              "        }\n",
              "      </script>\n",
              "    </div>\n",
              "  </div>\n",
              "  "
            ]
          },
          "metadata": {},
          "execution_count": 3
        }
      ]
    },
    {
      "cell_type": "code",
      "source": [
        "airline_data.groupby(['pos_neu_neg_review_score']).size().sort_values(ascending=False).reset_index(name='frequency')"
      ],
      "metadata": {
        "colab": {
          "base_uri": "https://localhost:8080/",
          "height": 143
        },
        "id": "q4nsWid0EtI-",
        "outputId": "2b130e63-5a88-4489-d047-ec6a7e6c7d39"
      },
      "execution_count": null,
      "outputs": [
        {
          "output_type": "execute_result",
          "data": {
            "text/plain": [
              "  pos_neu_neg_review_score  frequency\n",
              "0                      neg      10794\n",
              "1                      pos      10014\n",
              "2                      neu       2014"
            ],
            "text/html": [
              "\n",
              "  <div id=\"df-1d727c5f-b5ea-41b2-a7cc-8c6ac3f860b0\">\n",
              "    <div class=\"colab-df-container\">\n",
              "      <div>\n",
              "<style scoped>\n",
              "    .dataframe tbody tr th:only-of-type {\n",
              "        vertical-align: middle;\n",
              "    }\n",
              "\n",
              "    .dataframe tbody tr th {\n",
              "        vertical-align: top;\n",
              "    }\n",
              "\n",
              "    .dataframe thead th {\n",
              "        text-align: right;\n",
              "    }\n",
              "</style>\n",
              "<table border=\"1\" class=\"dataframe\">\n",
              "  <thead>\n",
              "    <tr style=\"text-align: right;\">\n",
              "      <th></th>\n",
              "      <th>pos_neu_neg_review_score</th>\n",
              "      <th>frequency</th>\n",
              "    </tr>\n",
              "  </thead>\n",
              "  <tbody>\n",
              "    <tr>\n",
              "      <th>0</th>\n",
              "      <td>neg</td>\n",
              "      <td>10794</td>\n",
              "    </tr>\n",
              "    <tr>\n",
              "      <th>1</th>\n",
              "      <td>pos</td>\n",
              "      <td>10014</td>\n",
              "    </tr>\n",
              "    <tr>\n",
              "      <th>2</th>\n",
              "      <td>neu</td>\n",
              "      <td>2014</td>\n",
              "    </tr>\n",
              "  </tbody>\n",
              "</table>\n",
              "</div>\n",
              "      <button class=\"colab-df-convert\" onclick=\"convertToInteractive('df-1d727c5f-b5ea-41b2-a7cc-8c6ac3f860b0')\"\n",
              "              title=\"Convert this dataframe to an interactive table.\"\n",
              "              style=\"display:none;\">\n",
              "        \n",
              "  <svg xmlns=\"http://www.w3.org/2000/svg\" height=\"24px\"viewBox=\"0 0 24 24\"\n",
              "       width=\"24px\">\n",
              "    <path d=\"M0 0h24v24H0V0z\" fill=\"none\"/>\n",
              "    <path d=\"M18.56 5.44l.94 2.06.94-2.06 2.06-.94-2.06-.94-.94-2.06-.94 2.06-2.06.94zm-11 1L8.5 8.5l.94-2.06 2.06-.94-2.06-.94L8.5 2.5l-.94 2.06-2.06.94zm10 10l.94 2.06.94-2.06 2.06-.94-2.06-.94-.94-2.06-.94 2.06-2.06.94z\"/><path d=\"M17.41 7.96l-1.37-1.37c-.4-.4-.92-.59-1.43-.59-.52 0-1.04.2-1.43.59L10.3 9.45l-7.72 7.72c-.78.78-.78 2.05 0 2.83L4 21.41c.39.39.9.59 1.41.59.51 0 1.02-.2 1.41-.59l7.78-7.78 2.81-2.81c.8-.78.8-2.07 0-2.86zM5.41 20L4 18.59l7.72-7.72 1.47 1.35L5.41 20z\"/>\n",
              "  </svg>\n",
              "      </button>\n",
              "      \n",
              "  <style>\n",
              "    .colab-df-container {\n",
              "      display:flex;\n",
              "      flex-wrap:wrap;\n",
              "      gap: 12px;\n",
              "    }\n",
              "\n",
              "    .colab-df-convert {\n",
              "      background-color: #E8F0FE;\n",
              "      border: none;\n",
              "      border-radius: 50%;\n",
              "      cursor: pointer;\n",
              "      display: none;\n",
              "      fill: #1967D2;\n",
              "      height: 32px;\n",
              "      padding: 0 0 0 0;\n",
              "      width: 32px;\n",
              "    }\n",
              "\n",
              "    .colab-df-convert:hover {\n",
              "      background-color: #E2EBFA;\n",
              "      box-shadow: 0px 1px 2px rgba(60, 64, 67, 0.3), 0px 1px 3px 1px rgba(60, 64, 67, 0.15);\n",
              "      fill: #174EA6;\n",
              "    }\n",
              "\n",
              "    [theme=dark] .colab-df-convert {\n",
              "      background-color: #3B4455;\n",
              "      fill: #D2E3FC;\n",
              "    }\n",
              "\n",
              "    [theme=dark] .colab-df-convert:hover {\n",
              "      background-color: #434B5C;\n",
              "      box-shadow: 0px 1px 3px 1px rgba(0, 0, 0, 0.15);\n",
              "      filter: drop-shadow(0px 1px 2px rgba(0, 0, 0, 0.3));\n",
              "      fill: #FFFFFF;\n",
              "    }\n",
              "  </style>\n",
              "\n",
              "      <script>\n",
              "        const buttonEl =\n",
              "          document.querySelector('#df-1d727c5f-b5ea-41b2-a7cc-8c6ac3f860b0 button.colab-df-convert');\n",
              "        buttonEl.style.display =\n",
              "          google.colab.kernel.accessAllowed ? 'block' : 'none';\n",
              "\n",
              "        async function convertToInteractive(key) {\n",
              "          const element = document.querySelector('#df-1d727c5f-b5ea-41b2-a7cc-8c6ac3f860b0');\n",
              "          const dataTable =\n",
              "            await google.colab.kernel.invokeFunction('convertToInteractive',\n",
              "                                                     [key], {});\n",
              "          if (!dataTable) return;\n",
              "\n",
              "          const docLinkHtml = 'Like what you see? Visit the ' +\n",
              "            '<a target=\"_blank\" href=https://colab.research.google.com/notebooks/data_table.ipynb>data table notebook</a>'\n",
              "            + ' to learn more about interactive tables.';\n",
              "          element.innerHTML = '';\n",
              "          dataTable['output_type'] = 'display_data';\n",
              "          await google.colab.output.renderOutput(dataTable, element);\n",
              "          const docLink = document.createElement('div');\n",
              "          docLink.innerHTML = docLinkHtml;\n",
              "          element.appendChild(docLink);\n",
              "        }\n",
              "      </script>\n",
              "    </div>\n",
              "  </div>\n",
              "  "
            ]
          },
          "metadata": {},
          "execution_count": 4
        }
      ]
    },
    {
      "cell_type": "markdown",
      "source": [
        "# Our first attempt is to build a model which can detect the sentiments in the review text. As sentiments are derived feature from review score, we categorise the sentiments in 3 buckets."
      ],
      "metadata": {
        "id": "pcL8UMp5mHDg"
      }
    },
    {
      "cell_type": "code",
      "source": [
        "train_df = airline_data[['review_text', 'pos_neu_neg_review_score']]\n",
        "train_df.rename(columns={'review_text':'reviews'}, inplace=True)\n",
        "train_df.rename(columns={'pos_neu_neg_review_score':'sentiment'}, inplace=True)\n",
        "train_df.head()"
      ],
      "metadata": {
        "colab": {
          "base_uri": "https://localhost:8080/",
          "height": 315
        },
        "id": "oRWBU0RYXsyM",
        "outputId": "47220746-52cd-46f8-e18f-869540c778be"
      },
      "execution_count": null,
      "outputs": [
        {
          "output_type": "stream",
          "name": "stderr",
          "text": [
            "/usr/local/lib/python3.8/dist-packages/pandas/core/frame.py:5039: SettingWithCopyWarning: \n",
            "A value is trying to be set on a copy of a slice from a DataFrame\n",
            "\n",
            "See the caveats in the documentation: https://pandas.pydata.org/pandas-docs/stable/user_guide/indexing.html#returning-a-view-versus-a-copy\n",
            "  return super().rename(\n"
          ]
        },
        {
          "output_type": "execute_result",
          "data": {
            "text/plain": [
              "                                             reviews sentiment\n",
              "0   First time Iâ€™d flown TK. I found them very ...       pos\n",
              "1   We make our check in in the airport, they Tak...       neg\n",
              "2   I flew with this company several times in the...       neg\n",
              "3   Turkish Airlines has consistently maintained ...       pos\n",
              "4   Never book Turkish airlines if you are travel...       neg"
            ],
            "text/html": [
              "\n",
              "  <div id=\"df-9cfeab68-62e1-463b-9f48-30dd0606baac\">\n",
              "    <div class=\"colab-df-container\">\n",
              "      <div>\n",
              "<style scoped>\n",
              "    .dataframe tbody tr th:only-of-type {\n",
              "        vertical-align: middle;\n",
              "    }\n",
              "\n",
              "    .dataframe tbody tr th {\n",
              "        vertical-align: top;\n",
              "    }\n",
              "\n",
              "    .dataframe thead th {\n",
              "        text-align: right;\n",
              "    }\n",
              "</style>\n",
              "<table border=\"1\" class=\"dataframe\">\n",
              "  <thead>\n",
              "    <tr style=\"text-align: right;\">\n",
              "      <th></th>\n",
              "      <th>reviews</th>\n",
              "      <th>sentiment</th>\n",
              "    </tr>\n",
              "  </thead>\n",
              "  <tbody>\n",
              "    <tr>\n",
              "      <th>0</th>\n",
              "      <td>First time Iâ€™d flown TK. I found them very ...</td>\n",
              "      <td>pos</td>\n",
              "    </tr>\n",
              "    <tr>\n",
              "      <th>1</th>\n",
              "      <td>We make our check in in the airport, they Tak...</td>\n",
              "      <td>neg</td>\n",
              "    </tr>\n",
              "    <tr>\n",
              "      <th>2</th>\n",
              "      <td>I flew with this company several times in the...</td>\n",
              "      <td>neg</td>\n",
              "    </tr>\n",
              "    <tr>\n",
              "      <th>3</th>\n",
              "      <td>Turkish Airlines has consistently maintained ...</td>\n",
              "      <td>pos</td>\n",
              "    </tr>\n",
              "    <tr>\n",
              "      <th>4</th>\n",
              "      <td>Never book Turkish airlines if you are travel...</td>\n",
              "      <td>neg</td>\n",
              "    </tr>\n",
              "  </tbody>\n",
              "</table>\n",
              "</div>\n",
              "      <button class=\"colab-df-convert\" onclick=\"convertToInteractive('df-9cfeab68-62e1-463b-9f48-30dd0606baac')\"\n",
              "              title=\"Convert this dataframe to an interactive table.\"\n",
              "              style=\"display:none;\">\n",
              "        \n",
              "  <svg xmlns=\"http://www.w3.org/2000/svg\" height=\"24px\"viewBox=\"0 0 24 24\"\n",
              "       width=\"24px\">\n",
              "    <path d=\"M0 0h24v24H0V0z\" fill=\"none\"/>\n",
              "    <path d=\"M18.56 5.44l.94 2.06.94-2.06 2.06-.94-2.06-.94-.94-2.06-.94 2.06-2.06.94zm-11 1L8.5 8.5l.94-2.06 2.06-.94-2.06-.94L8.5 2.5l-.94 2.06-2.06.94zm10 10l.94 2.06.94-2.06 2.06-.94-2.06-.94-.94-2.06-.94 2.06-2.06.94z\"/><path d=\"M17.41 7.96l-1.37-1.37c-.4-.4-.92-.59-1.43-.59-.52 0-1.04.2-1.43.59L10.3 9.45l-7.72 7.72c-.78.78-.78 2.05 0 2.83L4 21.41c.39.39.9.59 1.41.59.51 0 1.02-.2 1.41-.59l7.78-7.78 2.81-2.81c.8-.78.8-2.07 0-2.86zM5.41 20L4 18.59l7.72-7.72 1.47 1.35L5.41 20z\"/>\n",
              "  </svg>\n",
              "      </button>\n",
              "      \n",
              "  <style>\n",
              "    .colab-df-container {\n",
              "      display:flex;\n",
              "      flex-wrap:wrap;\n",
              "      gap: 12px;\n",
              "    }\n",
              "\n",
              "    .colab-df-convert {\n",
              "      background-color: #E8F0FE;\n",
              "      border: none;\n",
              "      border-radius: 50%;\n",
              "      cursor: pointer;\n",
              "      display: none;\n",
              "      fill: #1967D2;\n",
              "      height: 32px;\n",
              "      padding: 0 0 0 0;\n",
              "      width: 32px;\n",
              "    }\n",
              "\n",
              "    .colab-df-convert:hover {\n",
              "      background-color: #E2EBFA;\n",
              "      box-shadow: 0px 1px 2px rgba(60, 64, 67, 0.3), 0px 1px 3px 1px rgba(60, 64, 67, 0.15);\n",
              "      fill: #174EA6;\n",
              "    }\n",
              "\n",
              "    [theme=dark] .colab-df-convert {\n",
              "      background-color: #3B4455;\n",
              "      fill: #D2E3FC;\n",
              "    }\n",
              "\n",
              "    [theme=dark] .colab-df-convert:hover {\n",
              "      background-color: #434B5C;\n",
              "      box-shadow: 0px 1px 3px 1px rgba(0, 0, 0, 0.15);\n",
              "      filter: drop-shadow(0px 1px 2px rgba(0, 0, 0, 0.3));\n",
              "      fill: #FFFFFF;\n",
              "    }\n",
              "  </style>\n",
              "\n",
              "      <script>\n",
              "        const buttonEl =\n",
              "          document.querySelector('#df-9cfeab68-62e1-463b-9f48-30dd0606baac button.colab-df-convert');\n",
              "        buttonEl.style.display =\n",
              "          google.colab.kernel.accessAllowed ? 'block' : 'none';\n",
              "\n",
              "        async function convertToInteractive(key) {\n",
              "          const element = document.querySelector('#df-9cfeab68-62e1-463b-9f48-30dd0606baac');\n",
              "          const dataTable =\n",
              "            await google.colab.kernel.invokeFunction('convertToInteractive',\n",
              "                                                     [key], {});\n",
              "          if (!dataTable) return;\n",
              "\n",
              "          const docLinkHtml = 'Like what you see? Visit the ' +\n",
              "            '<a target=\"_blank\" href=https://colab.research.google.com/notebooks/data_table.ipynb>data table notebook</a>'\n",
              "            + ' to learn more about interactive tables.';\n",
              "          element.innerHTML = '';\n",
              "          dataTable['output_type'] = 'display_data';\n",
              "          await google.colab.output.renderOutput(dataTable, element);\n",
              "          const docLink = document.createElement('div');\n",
              "          docLink.innerHTML = docLinkHtml;\n",
              "          element.appendChild(docLink);\n",
              "        }\n",
              "      </script>\n",
              "    </div>\n",
              "  </div>\n",
              "  "
            ]
          },
          "metadata": {},
          "execution_count": 6
        }
      ]
    },
    {
      "cell_type": "markdown",
      "source": [
        "# Filterd reviews has some non-alphanumeric characters. We have to remove those characters and to make tf.dataset, all reviews has to be encoded as utf-8"
      ],
      "metadata": {
        "id": "56ynPzXqlqHJ"
      }
    },
    {
      "cell_type": "code",
      "source": [
        "utf8_data = train_df.copy()\n",
        "utf8_data.shape"
      ],
      "metadata": {
        "colab": {
          "base_uri": "https://localhost:8080/"
        },
        "id": "bXCwkxh4d7dK",
        "outputId": "9a5dbf55-c321-4d84-c126-8a9563fb0bba"
      },
      "execution_count": null,
      "outputs": [
        {
          "output_type": "execute_result",
          "data": {
            "text/plain": [
              "(22822, 2)"
            ]
          },
          "metadata": {},
          "execution_count": 7
        }
      ]
    },
    {
      "cell_type": "code",
      "source": [
        "utf8_data.head()"
      ],
      "metadata": {
        "colab": {
          "base_uri": "https://localhost:8080/",
          "height": 206
        },
        "id": "MS8lma_Ei1LM",
        "outputId": "8e997982-d5bc-4ab6-ae99-cd0bac1bc678"
      },
      "execution_count": null,
      "outputs": [
        {
          "output_type": "execute_result",
          "data": {
            "text/plain": [
              "                                             reviews sentiment\n",
              "0   First time Iâ€™d flown TK. I found them very ...       pos\n",
              "1   We make our check in in the airport, they Tak...       neg\n",
              "2   I flew with this company several times in the...       neg\n",
              "3   Turkish Airlines has consistently maintained ...       pos\n",
              "4   Never book Turkish airlines if you are travel...       neg"
            ],
            "text/html": [
              "\n",
              "  <div id=\"df-59bd523d-eb6a-4fe5-bc15-7bd1b986a495\">\n",
              "    <div class=\"colab-df-container\">\n",
              "      <div>\n",
              "<style scoped>\n",
              "    .dataframe tbody tr th:only-of-type {\n",
              "        vertical-align: middle;\n",
              "    }\n",
              "\n",
              "    .dataframe tbody tr th {\n",
              "        vertical-align: top;\n",
              "    }\n",
              "\n",
              "    .dataframe thead th {\n",
              "        text-align: right;\n",
              "    }\n",
              "</style>\n",
              "<table border=\"1\" class=\"dataframe\">\n",
              "  <thead>\n",
              "    <tr style=\"text-align: right;\">\n",
              "      <th></th>\n",
              "      <th>reviews</th>\n",
              "      <th>sentiment</th>\n",
              "    </tr>\n",
              "  </thead>\n",
              "  <tbody>\n",
              "    <tr>\n",
              "      <th>0</th>\n",
              "      <td>First time Iâ€™d flown TK. I found them very ...</td>\n",
              "      <td>pos</td>\n",
              "    </tr>\n",
              "    <tr>\n",
              "      <th>1</th>\n",
              "      <td>We make our check in in the airport, they Tak...</td>\n",
              "      <td>neg</td>\n",
              "    </tr>\n",
              "    <tr>\n",
              "      <th>2</th>\n",
              "      <td>I flew with this company several times in the...</td>\n",
              "      <td>neg</td>\n",
              "    </tr>\n",
              "    <tr>\n",
              "      <th>3</th>\n",
              "      <td>Turkish Airlines has consistently maintained ...</td>\n",
              "      <td>pos</td>\n",
              "    </tr>\n",
              "    <tr>\n",
              "      <th>4</th>\n",
              "      <td>Never book Turkish airlines if you are travel...</td>\n",
              "      <td>neg</td>\n",
              "    </tr>\n",
              "  </tbody>\n",
              "</table>\n",
              "</div>\n",
              "      <button class=\"colab-df-convert\" onclick=\"convertToInteractive('df-59bd523d-eb6a-4fe5-bc15-7bd1b986a495')\"\n",
              "              title=\"Convert this dataframe to an interactive table.\"\n",
              "              style=\"display:none;\">\n",
              "        \n",
              "  <svg xmlns=\"http://www.w3.org/2000/svg\" height=\"24px\"viewBox=\"0 0 24 24\"\n",
              "       width=\"24px\">\n",
              "    <path d=\"M0 0h24v24H0V0z\" fill=\"none\"/>\n",
              "    <path d=\"M18.56 5.44l.94 2.06.94-2.06 2.06-.94-2.06-.94-.94-2.06-.94 2.06-2.06.94zm-11 1L8.5 8.5l.94-2.06 2.06-.94-2.06-.94L8.5 2.5l-.94 2.06-2.06.94zm10 10l.94 2.06.94-2.06 2.06-.94-2.06-.94-.94-2.06-.94 2.06-2.06.94z\"/><path d=\"M17.41 7.96l-1.37-1.37c-.4-.4-.92-.59-1.43-.59-.52 0-1.04.2-1.43.59L10.3 9.45l-7.72 7.72c-.78.78-.78 2.05 0 2.83L4 21.41c.39.39.9.59 1.41.59.51 0 1.02-.2 1.41-.59l7.78-7.78 2.81-2.81c.8-.78.8-2.07 0-2.86zM5.41 20L4 18.59l7.72-7.72 1.47 1.35L5.41 20z\"/>\n",
              "  </svg>\n",
              "      </button>\n",
              "      \n",
              "  <style>\n",
              "    .colab-df-container {\n",
              "      display:flex;\n",
              "      flex-wrap:wrap;\n",
              "      gap: 12px;\n",
              "    }\n",
              "\n",
              "    .colab-df-convert {\n",
              "      background-color: #E8F0FE;\n",
              "      border: none;\n",
              "      border-radius: 50%;\n",
              "      cursor: pointer;\n",
              "      display: none;\n",
              "      fill: #1967D2;\n",
              "      height: 32px;\n",
              "      padding: 0 0 0 0;\n",
              "      width: 32px;\n",
              "    }\n",
              "\n",
              "    .colab-df-convert:hover {\n",
              "      background-color: #E2EBFA;\n",
              "      box-shadow: 0px 1px 2px rgba(60, 64, 67, 0.3), 0px 1px 3px 1px rgba(60, 64, 67, 0.15);\n",
              "      fill: #174EA6;\n",
              "    }\n",
              "\n",
              "    [theme=dark] .colab-df-convert {\n",
              "      background-color: #3B4455;\n",
              "      fill: #D2E3FC;\n",
              "    }\n",
              "\n",
              "    [theme=dark] .colab-df-convert:hover {\n",
              "      background-color: #434B5C;\n",
              "      box-shadow: 0px 1px 3px 1px rgba(0, 0, 0, 0.15);\n",
              "      filter: drop-shadow(0px 1px 2px rgba(0, 0, 0, 0.3));\n",
              "      fill: #FFFFFF;\n",
              "    }\n",
              "  </style>\n",
              "\n",
              "      <script>\n",
              "        const buttonEl =\n",
              "          document.querySelector('#df-59bd523d-eb6a-4fe5-bc15-7bd1b986a495 button.colab-df-convert');\n",
              "        buttonEl.style.display =\n",
              "          google.colab.kernel.accessAllowed ? 'block' : 'none';\n",
              "\n",
              "        async function convertToInteractive(key) {\n",
              "          const element = document.querySelector('#df-59bd523d-eb6a-4fe5-bc15-7bd1b986a495');\n",
              "          const dataTable =\n",
              "            await google.colab.kernel.invokeFunction('convertToInteractive',\n",
              "                                                     [key], {});\n",
              "          if (!dataTable) return;\n",
              "\n",
              "          const docLinkHtml = 'Like what you see? Visit the ' +\n",
              "            '<a target=\"_blank\" href=https://colab.research.google.com/notebooks/data_table.ipynb>data table notebook</a>'\n",
              "            + ' to learn more about interactive tables.';\n",
              "          element.innerHTML = '';\n",
              "          dataTable['output_type'] = 'display_data';\n",
              "          await google.colab.output.renderOutput(dataTable, element);\n",
              "          const docLink = document.createElement('div');\n",
              "          docLink.innerHTML = docLinkHtml;\n",
              "          element.appendChild(docLink);\n",
              "        }\n",
              "      </script>\n",
              "    </div>\n",
              "  </div>\n",
              "  "
            ]
          },
          "metadata": {},
          "execution_count": 8
        }
      ]
    },
    {
      "cell_type": "code",
      "source": [
        "utf8_data['reviews'] = utf8_data.reviews.str.replace('[^a-zA-Z ]', ' ')\n",
        "utf8_data.head()"
      ],
      "metadata": {
        "colab": {
          "base_uri": "https://localhost:8080/",
          "height": 242
        },
        "id": "VkJ2ys45eQR7",
        "outputId": "dea4d799-c637-4479-b135-5c56edaff1cb"
      },
      "execution_count": null,
      "outputs": [
        {
          "output_type": "stream",
          "name": "stderr",
          "text": [
            "<ipython-input-9-18174823ca8d>:1: FutureWarning: The default value of regex will change from True to False in a future version.\n",
            "  utf8_data['reviews'] = utf8_data.reviews.str.replace('[^a-zA-Z ]', ' ')\n"
          ]
        },
        {
          "output_type": "execute_result",
          "data": {
            "text/plain": [
              "                                             reviews sentiment\n",
              "0   First time I   d flown TK  I found them very ...       pos\n",
              "1   We make our check in in the airport  they Tak...       neg\n",
              "2   I flew with this company several times in the...       neg\n",
              "3   Turkish Airlines has consistently maintained ...       pos\n",
              "4   Never book Turkish airlines if you are travel...       neg"
            ],
            "text/html": [
              "\n",
              "  <div id=\"df-b2043f42-6afa-43f9-bd45-76718381f70f\">\n",
              "    <div class=\"colab-df-container\">\n",
              "      <div>\n",
              "<style scoped>\n",
              "    .dataframe tbody tr th:only-of-type {\n",
              "        vertical-align: middle;\n",
              "    }\n",
              "\n",
              "    .dataframe tbody tr th {\n",
              "        vertical-align: top;\n",
              "    }\n",
              "\n",
              "    .dataframe thead th {\n",
              "        text-align: right;\n",
              "    }\n",
              "</style>\n",
              "<table border=\"1\" class=\"dataframe\">\n",
              "  <thead>\n",
              "    <tr style=\"text-align: right;\">\n",
              "      <th></th>\n",
              "      <th>reviews</th>\n",
              "      <th>sentiment</th>\n",
              "    </tr>\n",
              "  </thead>\n",
              "  <tbody>\n",
              "    <tr>\n",
              "      <th>0</th>\n",
              "      <td>First time I   d flown TK  I found them very ...</td>\n",
              "      <td>pos</td>\n",
              "    </tr>\n",
              "    <tr>\n",
              "      <th>1</th>\n",
              "      <td>We make our check in in the airport  they Tak...</td>\n",
              "      <td>neg</td>\n",
              "    </tr>\n",
              "    <tr>\n",
              "      <th>2</th>\n",
              "      <td>I flew with this company several times in the...</td>\n",
              "      <td>neg</td>\n",
              "    </tr>\n",
              "    <tr>\n",
              "      <th>3</th>\n",
              "      <td>Turkish Airlines has consistently maintained ...</td>\n",
              "      <td>pos</td>\n",
              "    </tr>\n",
              "    <tr>\n",
              "      <th>4</th>\n",
              "      <td>Never book Turkish airlines if you are travel...</td>\n",
              "      <td>neg</td>\n",
              "    </tr>\n",
              "  </tbody>\n",
              "</table>\n",
              "</div>\n",
              "      <button class=\"colab-df-convert\" onclick=\"convertToInteractive('df-b2043f42-6afa-43f9-bd45-76718381f70f')\"\n",
              "              title=\"Convert this dataframe to an interactive table.\"\n",
              "              style=\"display:none;\">\n",
              "        \n",
              "  <svg xmlns=\"http://www.w3.org/2000/svg\" height=\"24px\"viewBox=\"0 0 24 24\"\n",
              "       width=\"24px\">\n",
              "    <path d=\"M0 0h24v24H0V0z\" fill=\"none\"/>\n",
              "    <path d=\"M18.56 5.44l.94 2.06.94-2.06 2.06-.94-2.06-.94-.94-2.06-.94 2.06-2.06.94zm-11 1L8.5 8.5l.94-2.06 2.06-.94-2.06-.94L8.5 2.5l-.94 2.06-2.06.94zm10 10l.94 2.06.94-2.06 2.06-.94-2.06-.94-.94-2.06-.94 2.06-2.06.94z\"/><path d=\"M17.41 7.96l-1.37-1.37c-.4-.4-.92-.59-1.43-.59-.52 0-1.04.2-1.43.59L10.3 9.45l-7.72 7.72c-.78.78-.78 2.05 0 2.83L4 21.41c.39.39.9.59 1.41.59.51 0 1.02-.2 1.41-.59l7.78-7.78 2.81-2.81c.8-.78.8-2.07 0-2.86zM5.41 20L4 18.59l7.72-7.72 1.47 1.35L5.41 20z\"/>\n",
              "  </svg>\n",
              "      </button>\n",
              "      \n",
              "  <style>\n",
              "    .colab-df-container {\n",
              "      display:flex;\n",
              "      flex-wrap:wrap;\n",
              "      gap: 12px;\n",
              "    }\n",
              "\n",
              "    .colab-df-convert {\n",
              "      background-color: #E8F0FE;\n",
              "      border: none;\n",
              "      border-radius: 50%;\n",
              "      cursor: pointer;\n",
              "      display: none;\n",
              "      fill: #1967D2;\n",
              "      height: 32px;\n",
              "      padding: 0 0 0 0;\n",
              "      width: 32px;\n",
              "    }\n",
              "\n",
              "    .colab-df-convert:hover {\n",
              "      background-color: #E2EBFA;\n",
              "      box-shadow: 0px 1px 2px rgba(60, 64, 67, 0.3), 0px 1px 3px 1px rgba(60, 64, 67, 0.15);\n",
              "      fill: #174EA6;\n",
              "    }\n",
              "\n",
              "    [theme=dark] .colab-df-convert {\n",
              "      background-color: #3B4455;\n",
              "      fill: #D2E3FC;\n",
              "    }\n",
              "\n",
              "    [theme=dark] .colab-df-convert:hover {\n",
              "      background-color: #434B5C;\n",
              "      box-shadow: 0px 1px 3px 1px rgba(0, 0, 0, 0.15);\n",
              "      filter: drop-shadow(0px 1px 2px rgba(0, 0, 0, 0.3));\n",
              "      fill: #FFFFFF;\n",
              "    }\n",
              "  </style>\n",
              "\n",
              "      <script>\n",
              "        const buttonEl =\n",
              "          document.querySelector('#df-b2043f42-6afa-43f9-bd45-76718381f70f button.colab-df-convert');\n",
              "        buttonEl.style.display =\n",
              "          google.colab.kernel.accessAllowed ? 'block' : 'none';\n",
              "\n",
              "        async function convertToInteractive(key) {\n",
              "          const element = document.querySelector('#df-b2043f42-6afa-43f9-bd45-76718381f70f');\n",
              "          const dataTable =\n",
              "            await google.colab.kernel.invokeFunction('convertToInteractive',\n",
              "                                                     [key], {});\n",
              "          if (!dataTable) return;\n",
              "\n",
              "          const docLinkHtml = 'Like what you see? Visit the ' +\n",
              "            '<a target=\"_blank\" href=https://colab.research.google.com/notebooks/data_table.ipynb>data table notebook</a>'\n",
              "            + ' to learn more about interactive tables.';\n",
              "          element.innerHTML = '';\n",
              "          dataTable['output_type'] = 'display_data';\n",
              "          await google.colab.output.renderOutput(dataTable, element);\n",
              "          const docLink = document.createElement('div');\n",
              "          docLink.innerHTML = docLinkHtml;\n",
              "          element.appendChild(docLink);\n",
              "        }\n",
              "      </script>\n",
              "    </div>\n",
              "  </div>\n",
              "  "
            ]
          },
          "metadata": {},
          "execution_count": 9
        }
      ]
    },
    {
      "cell_type": "code",
      "source": [
        "utf8_data.dtypes"
      ],
      "metadata": {
        "colab": {
          "base_uri": "https://localhost:8080/"
        },
        "id": "1A2tgqdNqsMs",
        "outputId": "ad3080ce-0102-491e-f5c9-133bef2b9fb0"
      },
      "execution_count": null,
      "outputs": [
        {
          "output_type": "execute_result",
          "data": {
            "text/plain": [
              "reviews      object\n",
              "sentiment    object\n",
              "dtype: object"
            ]
          },
          "metadata": {},
          "execution_count": 10
        }
      ]
    },
    {
      "cell_type": "code",
      "source": [
        "#utf8_data = utf8_data.sample(frac=0.4)"
      ],
      "metadata": {
        "id": "zrTVnmafzprO"
      },
      "execution_count": null,
      "outputs": []
    },
    {
      "cell_type": "markdown",
      "source": [
        "# Converting sentiments to one-hot encoded values.\n",
        "# Positive -> 2, Neutral -> 1, Negative -> 0"
      ],
      "metadata": {
        "id": "zNrEtcvMb0cu"
      }
    },
    {
      "cell_type": "code",
      "source": [
        "data = utf8_data.copy()\n",
        "# Converting type of columns to category\n",
        "data['sentiment']=data['sentiment'].astype('category')\n",
        " \n",
        " \n",
        "#Assigning numerical values and storing it in another columns\n",
        "data['sentiment_new']=data['sentiment'].cat.codes\n",
        " \n",
        "#Create an instance of One-hot-encoder\n",
        "enc=OneHotEncoder()\n",
        " \n",
        "#Passing encoded columns\n",
        "enc_data=pd.DataFrame(enc.fit_transform(data[['sentiment_new']]).toarray())\n",
        " \n",
        "#Merge with main\n",
        "data=data.join(enc_data)\n",
        "data.head()"
      ],
      "metadata": {
        "colab": {
          "base_uri": "https://localhost:8080/",
          "height": 206
        },
        "id": "wjwiJScPZgHb",
        "outputId": "58166694-237b-4c00-ae13-3fe98bd6955f"
      },
      "execution_count": null,
      "outputs": [
        {
          "output_type": "execute_result",
          "data": {
            "text/plain": [
              "                                                 reviews sentiment  \\\n",
              "15417   Food was very tasty  But the flight was two h...       neu   \n",
              "22188   Norwegian has modern planes  good service and...       pos   \n",
              "888     London to Doha A       am flight on time from...       pos   \n",
              "9958    British Airways has been the airline our orga...       neg   \n",
              "17938   Worst cabin crew ever  It left Delhi on time ...       neu   \n",
              "\n",
              "       sentiment_new    0    1    2  \n",
              "15417              1  NaN  NaN  NaN  \n",
              "22188              2  NaN  NaN  NaN  \n",
              "888                2  0.0  0.0  1.0  \n",
              "9958               0  NaN  NaN  NaN  \n",
              "17938              1  NaN  NaN  NaN  "
            ],
            "text/html": [
              "\n",
              "  <div id=\"df-335fa471-141e-43d1-a764-c9c3e1cdd653\">\n",
              "    <div class=\"colab-df-container\">\n",
              "      <div>\n",
              "<style scoped>\n",
              "    .dataframe tbody tr th:only-of-type {\n",
              "        vertical-align: middle;\n",
              "    }\n",
              "\n",
              "    .dataframe tbody tr th {\n",
              "        vertical-align: top;\n",
              "    }\n",
              "\n",
              "    .dataframe thead th {\n",
              "        text-align: right;\n",
              "    }\n",
              "</style>\n",
              "<table border=\"1\" class=\"dataframe\">\n",
              "  <thead>\n",
              "    <tr style=\"text-align: right;\">\n",
              "      <th></th>\n",
              "      <th>reviews</th>\n",
              "      <th>sentiment</th>\n",
              "      <th>sentiment_new</th>\n",
              "      <th>0</th>\n",
              "      <th>1</th>\n",
              "      <th>2</th>\n",
              "    </tr>\n",
              "  </thead>\n",
              "  <tbody>\n",
              "    <tr>\n",
              "      <th>15417</th>\n",
              "      <td>Food was very tasty  But the flight was two h...</td>\n",
              "      <td>neu</td>\n",
              "      <td>1</td>\n",
              "      <td>NaN</td>\n",
              "      <td>NaN</td>\n",
              "      <td>NaN</td>\n",
              "    </tr>\n",
              "    <tr>\n",
              "      <th>22188</th>\n",
              "      <td>Norwegian has modern planes  good service and...</td>\n",
              "      <td>pos</td>\n",
              "      <td>2</td>\n",
              "      <td>NaN</td>\n",
              "      <td>NaN</td>\n",
              "      <td>NaN</td>\n",
              "    </tr>\n",
              "    <tr>\n",
              "      <th>888</th>\n",
              "      <td>London to Doha A       am flight on time from...</td>\n",
              "      <td>pos</td>\n",
              "      <td>2</td>\n",
              "      <td>0.0</td>\n",
              "      <td>0.0</td>\n",
              "      <td>1.0</td>\n",
              "    </tr>\n",
              "    <tr>\n",
              "      <th>9958</th>\n",
              "      <td>British Airways has been the airline our orga...</td>\n",
              "      <td>neg</td>\n",
              "      <td>0</td>\n",
              "      <td>NaN</td>\n",
              "      <td>NaN</td>\n",
              "      <td>NaN</td>\n",
              "    </tr>\n",
              "    <tr>\n",
              "      <th>17938</th>\n",
              "      <td>Worst cabin crew ever  It left Delhi on time ...</td>\n",
              "      <td>neu</td>\n",
              "      <td>1</td>\n",
              "      <td>NaN</td>\n",
              "      <td>NaN</td>\n",
              "      <td>NaN</td>\n",
              "    </tr>\n",
              "  </tbody>\n",
              "</table>\n",
              "</div>\n",
              "      <button class=\"colab-df-convert\" onclick=\"convertToInteractive('df-335fa471-141e-43d1-a764-c9c3e1cdd653')\"\n",
              "              title=\"Convert this dataframe to an interactive table.\"\n",
              "              style=\"display:none;\">\n",
              "        \n",
              "  <svg xmlns=\"http://www.w3.org/2000/svg\" height=\"24px\"viewBox=\"0 0 24 24\"\n",
              "       width=\"24px\">\n",
              "    <path d=\"M0 0h24v24H0V0z\" fill=\"none\"/>\n",
              "    <path d=\"M18.56 5.44l.94 2.06.94-2.06 2.06-.94-2.06-.94-.94-2.06-.94 2.06-2.06.94zm-11 1L8.5 8.5l.94-2.06 2.06-.94-2.06-.94L8.5 2.5l-.94 2.06-2.06.94zm10 10l.94 2.06.94-2.06 2.06-.94-2.06-.94-.94-2.06-.94 2.06-2.06.94z\"/><path d=\"M17.41 7.96l-1.37-1.37c-.4-.4-.92-.59-1.43-.59-.52 0-1.04.2-1.43.59L10.3 9.45l-7.72 7.72c-.78.78-.78 2.05 0 2.83L4 21.41c.39.39.9.59 1.41.59.51 0 1.02-.2 1.41-.59l7.78-7.78 2.81-2.81c.8-.78.8-2.07 0-2.86zM5.41 20L4 18.59l7.72-7.72 1.47 1.35L5.41 20z\"/>\n",
              "  </svg>\n",
              "      </button>\n",
              "      \n",
              "  <style>\n",
              "    .colab-df-container {\n",
              "      display:flex;\n",
              "      flex-wrap:wrap;\n",
              "      gap: 12px;\n",
              "    }\n",
              "\n",
              "    .colab-df-convert {\n",
              "      background-color: #E8F0FE;\n",
              "      border: none;\n",
              "      border-radius: 50%;\n",
              "      cursor: pointer;\n",
              "      display: none;\n",
              "      fill: #1967D2;\n",
              "      height: 32px;\n",
              "      padding: 0 0 0 0;\n",
              "      width: 32px;\n",
              "    }\n",
              "\n",
              "    .colab-df-convert:hover {\n",
              "      background-color: #E2EBFA;\n",
              "      box-shadow: 0px 1px 2px rgba(60, 64, 67, 0.3), 0px 1px 3px 1px rgba(60, 64, 67, 0.15);\n",
              "      fill: #174EA6;\n",
              "    }\n",
              "\n",
              "    [theme=dark] .colab-df-convert {\n",
              "      background-color: #3B4455;\n",
              "      fill: #D2E3FC;\n",
              "    }\n",
              "\n",
              "    [theme=dark] .colab-df-convert:hover {\n",
              "      background-color: #434B5C;\n",
              "      box-shadow: 0px 1px 3px 1px rgba(0, 0, 0, 0.15);\n",
              "      filter: drop-shadow(0px 1px 2px rgba(0, 0, 0, 0.3));\n",
              "      fill: #FFFFFF;\n",
              "    }\n",
              "  </style>\n",
              "\n",
              "      <script>\n",
              "        const buttonEl =\n",
              "          document.querySelector('#df-335fa471-141e-43d1-a764-c9c3e1cdd653 button.colab-df-convert');\n",
              "        buttonEl.style.display =\n",
              "          google.colab.kernel.accessAllowed ? 'block' : 'none';\n",
              "\n",
              "        async function convertToInteractive(key) {\n",
              "          const element = document.querySelector('#df-335fa471-141e-43d1-a764-c9c3e1cdd653');\n",
              "          const dataTable =\n",
              "            await google.colab.kernel.invokeFunction('convertToInteractive',\n",
              "                                                     [key], {});\n",
              "          if (!dataTable) return;\n",
              "\n",
              "          const docLinkHtml = 'Like what you see? Visit the ' +\n",
              "            '<a target=\"_blank\" href=https://colab.research.google.com/notebooks/data_table.ipynb>data table notebook</a>'\n",
              "            + ' to learn more about interactive tables.';\n",
              "          element.innerHTML = '';\n",
              "          dataTable['output_type'] = 'display_data';\n",
              "          await google.colab.output.renderOutput(dataTable, element);\n",
              "          const docLink = document.createElement('div');\n",
              "          docLink.innerHTML = docLinkHtml;\n",
              "          element.appendChild(docLink);\n",
              "        }\n",
              "      </script>\n",
              "    </div>\n",
              "  </div>\n",
              "  "
            ]
          },
          "metadata": {},
          "execution_count": 12
        }
      ]
    },
    {
      "cell_type": "code",
      "source": [
        "data.drop(columns=['sentiment',0,1,2],inplace=True)\n",
        "data.head()"
      ],
      "metadata": {
        "colab": {
          "base_uri": "https://localhost:8080/",
          "height": 206
        },
        "id": "dSJ_HZyPagiC",
        "outputId": "583a487d-bf90-40b4-b6f4-99a67cabfe16"
      },
      "execution_count": null,
      "outputs": [
        {
          "output_type": "execute_result",
          "data": {
            "text/plain": [
              "                                                 reviews  sentiment_new\n",
              "15417   Food was very tasty  But the flight was two h...              1\n",
              "22188   Norwegian has modern planes  good service and...              2\n",
              "888     London to Doha A       am flight on time from...              2\n",
              "9958    British Airways has been the airline our orga...              0\n",
              "17938   Worst cabin crew ever  It left Delhi on time ...              1"
            ],
            "text/html": [
              "\n",
              "  <div id=\"df-8e93520e-25e1-4a9d-8003-9135ec22eeb9\">\n",
              "    <div class=\"colab-df-container\">\n",
              "      <div>\n",
              "<style scoped>\n",
              "    .dataframe tbody tr th:only-of-type {\n",
              "        vertical-align: middle;\n",
              "    }\n",
              "\n",
              "    .dataframe tbody tr th {\n",
              "        vertical-align: top;\n",
              "    }\n",
              "\n",
              "    .dataframe thead th {\n",
              "        text-align: right;\n",
              "    }\n",
              "</style>\n",
              "<table border=\"1\" class=\"dataframe\">\n",
              "  <thead>\n",
              "    <tr style=\"text-align: right;\">\n",
              "      <th></th>\n",
              "      <th>reviews</th>\n",
              "      <th>sentiment_new</th>\n",
              "    </tr>\n",
              "  </thead>\n",
              "  <tbody>\n",
              "    <tr>\n",
              "      <th>15417</th>\n",
              "      <td>Food was very tasty  But the flight was two h...</td>\n",
              "      <td>1</td>\n",
              "    </tr>\n",
              "    <tr>\n",
              "      <th>22188</th>\n",
              "      <td>Norwegian has modern planes  good service and...</td>\n",
              "      <td>2</td>\n",
              "    </tr>\n",
              "    <tr>\n",
              "      <th>888</th>\n",
              "      <td>London to Doha A       am flight on time from...</td>\n",
              "      <td>2</td>\n",
              "    </tr>\n",
              "    <tr>\n",
              "      <th>9958</th>\n",
              "      <td>British Airways has been the airline our orga...</td>\n",
              "      <td>0</td>\n",
              "    </tr>\n",
              "    <tr>\n",
              "      <th>17938</th>\n",
              "      <td>Worst cabin crew ever  It left Delhi on time ...</td>\n",
              "      <td>1</td>\n",
              "    </tr>\n",
              "  </tbody>\n",
              "</table>\n",
              "</div>\n",
              "      <button class=\"colab-df-convert\" onclick=\"convertToInteractive('df-8e93520e-25e1-4a9d-8003-9135ec22eeb9')\"\n",
              "              title=\"Convert this dataframe to an interactive table.\"\n",
              "              style=\"display:none;\">\n",
              "        \n",
              "  <svg xmlns=\"http://www.w3.org/2000/svg\" height=\"24px\"viewBox=\"0 0 24 24\"\n",
              "       width=\"24px\">\n",
              "    <path d=\"M0 0h24v24H0V0z\" fill=\"none\"/>\n",
              "    <path d=\"M18.56 5.44l.94 2.06.94-2.06 2.06-.94-2.06-.94-.94-2.06-.94 2.06-2.06.94zm-11 1L8.5 8.5l.94-2.06 2.06-.94-2.06-.94L8.5 2.5l-.94 2.06-2.06.94zm10 10l.94 2.06.94-2.06 2.06-.94-2.06-.94-.94-2.06-.94 2.06-2.06.94z\"/><path d=\"M17.41 7.96l-1.37-1.37c-.4-.4-.92-.59-1.43-.59-.52 0-1.04.2-1.43.59L10.3 9.45l-7.72 7.72c-.78.78-.78 2.05 0 2.83L4 21.41c.39.39.9.59 1.41.59.51 0 1.02-.2 1.41-.59l7.78-7.78 2.81-2.81c.8-.78.8-2.07 0-2.86zM5.41 20L4 18.59l7.72-7.72 1.47 1.35L5.41 20z\"/>\n",
              "  </svg>\n",
              "      </button>\n",
              "      \n",
              "  <style>\n",
              "    .colab-df-container {\n",
              "      display:flex;\n",
              "      flex-wrap:wrap;\n",
              "      gap: 12px;\n",
              "    }\n",
              "\n",
              "    .colab-df-convert {\n",
              "      background-color: #E8F0FE;\n",
              "      border: none;\n",
              "      border-radius: 50%;\n",
              "      cursor: pointer;\n",
              "      display: none;\n",
              "      fill: #1967D2;\n",
              "      height: 32px;\n",
              "      padding: 0 0 0 0;\n",
              "      width: 32px;\n",
              "    }\n",
              "\n",
              "    .colab-df-convert:hover {\n",
              "      background-color: #E2EBFA;\n",
              "      box-shadow: 0px 1px 2px rgba(60, 64, 67, 0.3), 0px 1px 3px 1px rgba(60, 64, 67, 0.15);\n",
              "      fill: #174EA6;\n",
              "    }\n",
              "\n",
              "    [theme=dark] .colab-df-convert {\n",
              "      background-color: #3B4455;\n",
              "      fill: #D2E3FC;\n",
              "    }\n",
              "\n",
              "    [theme=dark] .colab-df-convert:hover {\n",
              "      background-color: #434B5C;\n",
              "      box-shadow: 0px 1px 3px 1px rgba(0, 0, 0, 0.15);\n",
              "      filter: drop-shadow(0px 1px 2px rgba(0, 0, 0, 0.3));\n",
              "      fill: #FFFFFF;\n",
              "    }\n",
              "  </style>\n",
              "\n",
              "      <script>\n",
              "        const buttonEl =\n",
              "          document.querySelector('#df-8e93520e-25e1-4a9d-8003-9135ec22eeb9 button.colab-df-convert');\n",
              "        buttonEl.style.display =\n",
              "          google.colab.kernel.accessAllowed ? 'block' : 'none';\n",
              "\n",
              "        async function convertToInteractive(key) {\n",
              "          const element = document.querySelector('#df-8e93520e-25e1-4a9d-8003-9135ec22eeb9');\n",
              "          const dataTable =\n",
              "            await google.colab.kernel.invokeFunction('convertToInteractive',\n",
              "                                                     [key], {});\n",
              "          if (!dataTable) return;\n",
              "\n",
              "          const docLinkHtml = 'Like what you see? Visit the ' +\n",
              "            '<a target=\"_blank\" href=https://colab.research.google.com/notebooks/data_table.ipynb>data table notebook</a>'\n",
              "            + ' to learn more about interactive tables.';\n",
              "          element.innerHTML = '';\n",
              "          dataTable['output_type'] = 'display_data';\n",
              "          await google.colab.output.renderOutput(dataTable, element);\n",
              "          const docLink = document.createElement('div');\n",
              "          docLink.innerHTML = docLinkHtml;\n",
              "          element.appendChild(docLink);\n",
              "        }\n",
              "      </script>\n",
              "    </div>\n",
              "  </div>\n",
              "  "
            ]
          },
          "metadata": {},
          "execution_count": 13
        }
      ]
    },
    {
      "cell_type": "code",
      "source": [
        "data.rename(columns = {'sentiment_new':'sentiment'}, inplace = True)\n",
        "data.head()"
      ],
      "metadata": {
        "colab": {
          "base_uri": "https://localhost:8080/",
          "height": 206
        },
        "id": "PxUc0swMa2Og",
        "outputId": "cbb1a679-b5ce-4a8f-dc5a-be67be0fe2fb"
      },
      "execution_count": null,
      "outputs": [
        {
          "output_type": "execute_result",
          "data": {
            "text/plain": [
              "                                                 reviews  sentiment\n",
              "15417   Food was very tasty  But the flight was two h...          1\n",
              "22188   Norwegian has modern planes  good service and...          2\n",
              "888     London to Doha A       am flight on time from...          2\n",
              "9958    British Airways has been the airline our orga...          0\n",
              "17938   Worst cabin crew ever  It left Delhi on time ...          1"
            ],
            "text/html": [
              "\n",
              "  <div id=\"df-46183b5c-02cc-4dc9-a885-79032376f4d7\">\n",
              "    <div class=\"colab-df-container\">\n",
              "      <div>\n",
              "<style scoped>\n",
              "    .dataframe tbody tr th:only-of-type {\n",
              "        vertical-align: middle;\n",
              "    }\n",
              "\n",
              "    .dataframe tbody tr th {\n",
              "        vertical-align: top;\n",
              "    }\n",
              "\n",
              "    .dataframe thead th {\n",
              "        text-align: right;\n",
              "    }\n",
              "</style>\n",
              "<table border=\"1\" class=\"dataframe\">\n",
              "  <thead>\n",
              "    <tr style=\"text-align: right;\">\n",
              "      <th></th>\n",
              "      <th>reviews</th>\n",
              "      <th>sentiment</th>\n",
              "    </tr>\n",
              "  </thead>\n",
              "  <tbody>\n",
              "    <tr>\n",
              "      <th>15417</th>\n",
              "      <td>Food was very tasty  But the flight was two h...</td>\n",
              "      <td>1</td>\n",
              "    </tr>\n",
              "    <tr>\n",
              "      <th>22188</th>\n",
              "      <td>Norwegian has modern planes  good service and...</td>\n",
              "      <td>2</td>\n",
              "    </tr>\n",
              "    <tr>\n",
              "      <th>888</th>\n",
              "      <td>London to Doha A       am flight on time from...</td>\n",
              "      <td>2</td>\n",
              "    </tr>\n",
              "    <tr>\n",
              "      <th>9958</th>\n",
              "      <td>British Airways has been the airline our orga...</td>\n",
              "      <td>0</td>\n",
              "    </tr>\n",
              "    <tr>\n",
              "      <th>17938</th>\n",
              "      <td>Worst cabin crew ever  It left Delhi on time ...</td>\n",
              "      <td>1</td>\n",
              "    </tr>\n",
              "  </tbody>\n",
              "</table>\n",
              "</div>\n",
              "      <button class=\"colab-df-convert\" onclick=\"convertToInteractive('df-46183b5c-02cc-4dc9-a885-79032376f4d7')\"\n",
              "              title=\"Convert this dataframe to an interactive table.\"\n",
              "              style=\"display:none;\">\n",
              "        \n",
              "  <svg xmlns=\"http://www.w3.org/2000/svg\" height=\"24px\"viewBox=\"0 0 24 24\"\n",
              "       width=\"24px\">\n",
              "    <path d=\"M0 0h24v24H0V0z\" fill=\"none\"/>\n",
              "    <path d=\"M18.56 5.44l.94 2.06.94-2.06 2.06-.94-2.06-.94-.94-2.06-.94 2.06-2.06.94zm-11 1L8.5 8.5l.94-2.06 2.06-.94-2.06-.94L8.5 2.5l-.94 2.06-2.06.94zm10 10l.94 2.06.94-2.06 2.06-.94-2.06-.94-.94-2.06-.94 2.06-2.06.94z\"/><path d=\"M17.41 7.96l-1.37-1.37c-.4-.4-.92-.59-1.43-.59-.52 0-1.04.2-1.43.59L10.3 9.45l-7.72 7.72c-.78.78-.78 2.05 0 2.83L4 21.41c.39.39.9.59 1.41.59.51 0 1.02-.2 1.41-.59l7.78-7.78 2.81-2.81c.8-.78.8-2.07 0-2.86zM5.41 20L4 18.59l7.72-7.72 1.47 1.35L5.41 20z\"/>\n",
              "  </svg>\n",
              "      </button>\n",
              "      \n",
              "  <style>\n",
              "    .colab-df-container {\n",
              "      display:flex;\n",
              "      flex-wrap:wrap;\n",
              "      gap: 12px;\n",
              "    }\n",
              "\n",
              "    .colab-df-convert {\n",
              "      background-color: #E8F0FE;\n",
              "      border: none;\n",
              "      border-radius: 50%;\n",
              "      cursor: pointer;\n",
              "      display: none;\n",
              "      fill: #1967D2;\n",
              "      height: 32px;\n",
              "      padding: 0 0 0 0;\n",
              "      width: 32px;\n",
              "    }\n",
              "\n",
              "    .colab-df-convert:hover {\n",
              "      background-color: #E2EBFA;\n",
              "      box-shadow: 0px 1px 2px rgba(60, 64, 67, 0.3), 0px 1px 3px 1px rgba(60, 64, 67, 0.15);\n",
              "      fill: #174EA6;\n",
              "    }\n",
              "\n",
              "    [theme=dark] .colab-df-convert {\n",
              "      background-color: #3B4455;\n",
              "      fill: #D2E3FC;\n",
              "    }\n",
              "\n",
              "    [theme=dark] .colab-df-convert:hover {\n",
              "      background-color: #434B5C;\n",
              "      box-shadow: 0px 1px 3px 1px rgba(0, 0, 0, 0.15);\n",
              "      filter: drop-shadow(0px 1px 2px rgba(0, 0, 0, 0.3));\n",
              "      fill: #FFFFFF;\n",
              "    }\n",
              "  </style>\n",
              "\n",
              "      <script>\n",
              "        const buttonEl =\n",
              "          document.querySelector('#df-46183b5c-02cc-4dc9-a885-79032376f4d7 button.colab-df-convert');\n",
              "        buttonEl.style.display =\n",
              "          google.colab.kernel.accessAllowed ? 'block' : 'none';\n",
              "\n",
              "        async function convertToInteractive(key) {\n",
              "          const element = document.querySelector('#df-46183b5c-02cc-4dc9-a885-79032376f4d7');\n",
              "          const dataTable =\n",
              "            await google.colab.kernel.invokeFunction('convertToInteractive',\n",
              "                                                     [key], {});\n",
              "          if (!dataTable) return;\n",
              "\n",
              "          const docLinkHtml = 'Like what you see? Visit the ' +\n",
              "            '<a target=\"_blank\" href=https://colab.research.google.com/notebooks/data_table.ipynb>data table notebook</a>'\n",
              "            + ' to learn more about interactive tables.';\n",
              "          element.innerHTML = '';\n",
              "          dataTable['output_type'] = 'display_data';\n",
              "          await google.colab.output.renderOutput(dataTable, element);\n",
              "          const docLink = document.createElement('div');\n",
              "          docLink.innerHTML = docLinkHtml;\n",
              "          element.appendChild(docLink);\n",
              "        }\n",
              "      </script>\n",
              "    </div>\n",
              "  </div>\n",
              "  "
            ]
          },
          "metadata": {},
          "execution_count": 14
        }
      ]
    },
    {
      "cell_type": "code",
      "source": [
        "#data[\"sentiment\"] = data[\"sentiment\"].apply(pd.to_numeric, downcast='float', errors='coerce')\n",
        "#data.head()"
      ],
      "metadata": {
        "id": "_FxzaY-pWE79"
      },
      "execution_count": null,
      "outputs": []
    },
    {
      "cell_type": "markdown",
      "source": [
        "# Spiltting the dataset in train, test, validation."
      ],
      "metadata": {
        "id": "2twdqGQ_bBP9"
      }
    },
    {
      "cell_type": "code",
      "source": [
        "#train, validate, test = np.split(data.sample(frac=1, random_state=42), [int(.6*len(data)), int(.8*len(data))])\n",
        "\n",
        "train, test = train_test_split(data, test_size=0.3)"
      ],
      "metadata": {
        "id": "k8uyEtsgbF7s"
      },
      "execution_count": null,
      "outputs": []
    },
    {
      "cell_type": "code",
      "source": [
        "#train['reviews'] = train['reviews'].str.decode(\"utf-8\")\n",
        "train.head()"
      ],
      "metadata": {
        "colab": {
          "base_uri": "https://localhost:8080/",
          "height": 206
        },
        "id": "5inJYBbzcOjb",
        "outputId": "01ce2641-9474-49fb-dc02-4de8b5477b73"
      },
      "execution_count": null,
      "outputs": [
        {
          "output_type": "execute_result",
          "data": {
            "text/plain": [
              "                                                 reviews  sentiment\n",
              "14722   So lots of people blocking aisles at all part...          1\n",
              "1042    Have flown numerous times with numerous airli...          2\n",
              "7982    This was by far the worst experience that I h...          0\n",
              "5813    The flight was nice  with very good in flight...          2\n",
              "20807   We were impressed with all aspects of the in ...          2"
            ],
            "text/html": [
              "\n",
              "  <div id=\"df-f989b0ba-0acd-4670-a908-f0dbc3cce163\">\n",
              "    <div class=\"colab-df-container\">\n",
              "      <div>\n",
              "<style scoped>\n",
              "    .dataframe tbody tr th:only-of-type {\n",
              "        vertical-align: middle;\n",
              "    }\n",
              "\n",
              "    .dataframe tbody tr th {\n",
              "        vertical-align: top;\n",
              "    }\n",
              "\n",
              "    .dataframe thead th {\n",
              "        text-align: right;\n",
              "    }\n",
              "</style>\n",
              "<table border=\"1\" class=\"dataframe\">\n",
              "  <thead>\n",
              "    <tr style=\"text-align: right;\">\n",
              "      <th></th>\n",
              "      <th>reviews</th>\n",
              "      <th>sentiment</th>\n",
              "    </tr>\n",
              "  </thead>\n",
              "  <tbody>\n",
              "    <tr>\n",
              "      <th>14722</th>\n",
              "      <td>So lots of people blocking aisles at all part...</td>\n",
              "      <td>1</td>\n",
              "    </tr>\n",
              "    <tr>\n",
              "      <th>1042</th>\n",
              "      <td>Have flown numerous times with numerous airli...</td>\n",
              "      <td>2</td>\n",
              "    </tr>\n",
              "    <tr>\n",
              "      <th>7982</th>\n",
              "      <td>This was by far the worst experience that I h...</td>\n",
              "      <td>0</td>\n",
              "    </tr>\n",
              "    <tr>\n",
              "      <th>5813</th>\n",
              "      <td>The flight was nice  with very good in flight...</td>\n",
              "      <td>2</td>\n",
              "    </tr>\n",
              "    <tr>\n",
              "      <th>20807</th>\n",
              "      <td>We were impressed with all aspects of the in ...</td>\n",
              "      <td>2</td>\n",
              "    </tr>\n",
              "  </tbody>\n",
              "</table>\n",
              "</div>\n",
              "      <button class=\"colab-df-convert\" onclick=\"convertToInteractive('df-f989b0ba-0acd-4670-a908-f0dbc3cce163')\"\n",
              "              title=\"Convert this dataframe to an interactive table.\"\n",
              "              style=\"display:none;\">\n",
              "        \n",
              "  <svg xmlns=\"http://www.w3.org/2000/svg\" height=\"24px\"viewBox=\"0 0 24 24\"\n",
              "       width=\"24px\">\n",
              "    <path d=\"M0 0h24v24H0V0z\" fill=\"none\"/>\n",
              "    <path d=\"M18.56 5.44l.94 2.06.94-2.06 2.06-.94-2.06-.94-.94-2.06-.94 2.06-2.06.94zm-11 1L8.5 8.5l.94-2.06 2.06-.94-2.06-.94L8.5 2.5l-.94 2.06-2.06.94zm10 10l.94 2.06.94-2.06 2.06-.94-2.06-.94-.94-2.06-.94 2.06-2.06.94z\"/><path d=\"M17.41 7.96l-1.37-1.37c-.4-.4-.92-.59-1.43-.59-.52 0-1.04.2-1.43.59L10.3 9.45l-7.72 7.72c-.78.78-.78 2.05 0 2.83L4 21.41c.39.39.9.59 1.41.59.51 0 1.02-.2 1.41-.59l7.78-7.78 2.81-2.81c.8-.78.8-2.07 0-2.86zM5.41 20L4 18.59l7.72-7.72 1.47 1.35L5.41 20z\"/>\n",
              "  </svg>\n",
              "      </button>\n",
              "      \n",
              "  <style>\n",
              "    .colab-df-container {\n",
              "      display:flex;\n",
              "      flex-wrap:wrap;\n",
              "      gap: 12px;\n",
              "    }\n",
              "\n",
              "    .colab-df-convert {\n",
              "      background-color: #E8F0FE;\n",
              "      border: none;\n",
              "      border-radius: 50%;\n",
              "      cursor: pointer;\n",
              "      display: none;\n",
              "      fill: #1967D2;\n",
              "      height: 32px;\n",
              "      padding: 0 0 0 0;\n",
              "      width: 32px;\n",
              "    }\n",
              "\n",
              "    .colab-df-convert:hover {\n",
              "      background-color: #E2EBFA;\n",
              "      box-shadow: 0px 1px 2px rgba(60, 64, 67, 0.3), 0px 1px 3px 1px rgba(60, 64, 67, 0.15);\n",
              "      fill: #174EA6;\n",
              "    }\n",
              "\n",
              "    [theme=dark] .colab-df-convert {\n",
              "      background-color: #3B4455;\n",
              "      fill: #D2E3FC;\n",
              "    }\n",
              "\n",
              "    [theme=dark] .colab-df-convert:hover {\n",
              "      background-color: #434B5C;\n",
              "      box-shadow: 0px 1px 3px 1px rgba(0, 0, 0, 0.15);\n",
              "      filter: drop-shadow(0px 1px 2px rgba(0, 0, 0, 0.3));\n",
              "      fill: #FFFFFF;\n",
              "    }\n",
              "  </style>\n",
              "\n",
              "      <script>\n",
              "        const buttonEl =\n",
              "          document.querySelector('#df-f989b0ba-0acd-4670-a908-f0dbc3cce163 button.colab-df-convert');\n",
              "        buttonEl.style.display =\n",
              "          google.colab.kernel.accessAllowed ? 'block' : 'none';\n",
              "\n",
              "        async function convertToInteractive(key) {\n",
              "          const element = document.querySelector('#df-f989b0ba-0acd-4670-a908-f0dbc3cce163');\n",
              "          const dataTable =\n",
              "            await google.colab.kernel.invokeFunction('convertToInteractive',\n",
              "                                                     [key], {});\n",
              "          if (!dataTable) return;\n",
              "\n",
              "          const docLinkHtml = 'Like what you see? Visit the ' +\n",
              "            '<a target=\"_blank\" href=https://colab.research.google.com/notebooks/data_table.ipynb>data table notebook</a>'\n",
              "            + ' to learn more about interactive tables.';\n",
              "          element.innerHTML = '';\n",
              "          dataTable['output_type'] = 'display_data';\n",
              "          await google.colab.output.renderOutput(dataTable, element);\n",
              "          const docLink = document.createElement('div');\n",
              "          docLink.innerHTML = docLinkHtml;\n",
              "          element.appendChild(docLink);\n",
              "        }\n",
              "      </script>\n",
              "    </div>\n",
              "  </div>\n",
              "  "
            ]
          },
          "metadata": {},
          "execution_count": 17
        }
      ]
    },
    {
      "cell_type": "code",
      "source": [
        "train.shape"
      ],
      "metadata": {
        "colab": {
          "base_uri": "https://localhost:8080/"
        },
        "id": "lx3VlQbFcYCu",
        "outputId": "fae45e31-f2be-4ed6-dc38-32e2bc4293fc"
      },
      "execution_count": null,
      "outputs": [
        {
          "output_type": "execute_result",
          "data": {
            "text/plain": [
              "(6390, 2)"
            ]
          },
          "metadata": {},
          "execution_count": 18
        }
      ]
    },
    {
      "cell_type": "code",
      "source": [
        "train.dtypes"
      ],
      "metadata": {
        "colab": {
          "base_uri": "https://localhost:8080/"
        },
        "id": "PcL9-buVWpto",
        "outputId": "87deeeaa-cdbd-421b-b5b2-06bfe6fb644a"
      },
      "execution_count": null,
      "outputs": [
        {
          "output_type": "execute_result",
          "data": {
            "text/plain": [
              "reviews      object\n",
              "sentiment      int8\n",
              "dtype: object"
            ]
          },
          "metadata": {},
          "execution_count": 19
        }
      ]
    },
    {
      "cell_type": "code",
      "source": [
        "test.head()"
      ],
      "metadata": {
        "colab": {
          "base_uri": "https://localhost:8080/",
          "height": 206
        },
        "id": "k6FbJxMzcUJN",
        "outputId": "dce81c85-96a0-45a9-c2d7-9476973eaa0a"
      },
      "execution_count": null,
      "outputs": [
        {
          "output_type": "execute_result",
          "data": {
            "text/plain": [
              "                                                 reviews  sentiment\n",
              "1053    Overall a reasonable experience  I was not so...          2\n",
              "7415    By far worst airline I have ever flown with  ...          0\n",
              "19998   Bait and switch at its finest  I used their s...          0\n",
              "9302    Horrible baggage service and terrible follow ...          0\n",
              "9916    They were basically  on both flights  rushing...          0"
            ],
            "text/html": [
              "\n",
              "  <div id=\"df-04633fb1-06e6-497c-8142-687a8f13f1a7\">\n",
              "    <div class=\"colab-df-container\">\n",
              "      <div>\n",
              "<style scoped>\n",
              "    .dataframe tbody tr th:only-of-type {\n",
              "        vertical-align: middle;\n",
              "    }\n",
              "\n",
              "    .dataframe tbody tr th {\n",
              "        vertical-align: top;\n",
              "    }\n",
              "\n",
              "    .dataframe thead th {\n",
              "        text-align: right;\n",
              "    }\n",
              "</style>\n",
              "<table border=\"1\" class=\"dataframe\">\n",
              "  <thead>\n",
              "    <tr style=\"text-align: right;\">\n",
              "      <th></th>\n",
              "      <th>reviews</th>\n",
              "      <th>sentiment</th>\n",
              "    </tr>\n",
              "  </thead>\n",
              "  <tbody>\n",
              "    <tr>\n",
              "      <th>1053</th>\n",
              "      <td>Overall a reasonable experience  I was not so...</td>\n",
              "      <td>2</td>\n",
              "    </tr>\n",
              "    <tr>\n",
              "      <th>7415</th>\n",
              "      <td>By far worst airline I have ever flown with  ...</td>\n",
              "      <td>0</td>\n",
              "    </tr>\n",
              "    <tr>\n",
              "      <th>19998</th>\n",
              "      <td>Bait and switch at its finest  I used their s...</td>\n",
              "      <td>0</td>\n",
              "    </tr>\n",
              "    <tr>\n",
              "      <th>9302</th>\n",
              "      <td>Horrible baggage service and terrible follow ...</td>\n",
              "      <td>0</td>\n",
              "    </tr>\n",
              "    <tr>\n",
              "      <th>9916</th>\n",
              "      <td>They were basically  on both flights  rushing...</td>\n",
              "      <td>0</td>\n",
              "    </tr>\n",
              "  </tbody>\n",
              "</table>\n",
              "</div>\n",
              "      <button class=\"colab-df-convert\" onclick=\"convertToInteractive('df-04633fb1-06e6-497c-8142-687a8f13f1a7')\"\n",
              "              title=\"Convert this dataframe to an interactive table.\"\n",
              "              style=\"display:none;\">\n",
              "        \n",
              "  <svg xmlns=\"http://www.w3.org/2000/svg\" height=\"24px\"viewBox=\"0 0 24 24\"\n",
              "       width=\"24px\">\n",
              "    <path d=\"M0 0h24v24H0V0z\" fill=\"none\"/>\n",
              "    <path d=\"M18.56 5.44l.94 2.06.94-2.06 2.06-.94-2.06-.94-.94-2.06-.94 2.06-2.06.94zm-11 1L8.5 8.5l.94-2.06 2.06-.94-2.06-.94L8.5 2.5l-.94 2.06-2.06.94zm10 10l.94 2.06.94-2.06 2.06-.94-2.06-.94-.94-2.06-.94 2.06-2.06.94z\"/><path d=\"M17.41 7.96l-1.37-1.37c-.4-.4-.92-.59-1.43-.59-.52 0-1.04.2-1.43.59L10.3 9.45l-7.72 7.72c-.78.78-.78 2.05 0 2.83L4 21.41c.39.39.9.59 1.41.59.51 0 1.02-.2 1.41-.59l7.78-7.78 2.81-2.81c.8-.78.8-2.07 0-2.86zM5.41 20L4 18.59l7.72-7.72 1.47 1.35L5.41 20z\"/>\n",
              "  </svg>\n",
              "      </button>\n",
              "      \n",
              "  <style>\n",
              "    .colab-df-container {\n",
              "      display:flex;\n",
              "      flex-wrap:wrap;\n",
              "      gap: 12px;\n",
              "    }\n",
              "\n",
              "    .colab-df-convert {\n",
              "      background-color: #E8F0FE;\n",
              "      border: none;\n",
              "      border-radius: 50%;\n",
              "      cursor: pointer;\n",
              "      display: none;\n",
              "      fill: #1967D2;\n",
              "      height: 32px;\n",
              "      padding: 0 0 0 0;\n",
              "      width: 32px;\n",
              "    }\n",
              "\n",
              "    .colab-df-convert:hover {\n",
              "      background-color: #E2EBFA;\n",
              "      box-shadow: 0px 1px 2px rgba(60, 64, 67, 0.3), 0px 1px 3px 1px rgba(60, 64, 67, 0.15);\n",
              "      fill: #174EA6;\n",
              "    }\n",
              "\n",
              "    [theme=dark] .colab-df-convert {\n",
              "      background-color: #3B4455;\n",
              "      fill: #D2E3FC;\n",
              "    }\n",
              "\n",
              "    [theme=dark] .colab-df-convert:hover {\n",
              "      background-color: #434B5C;\n",
              "      box-shadow: 0px 1px 3px 1px rgba(0, 0, 0, 0.15);\n",
              "      filter: drop-shadow(0px 1px 2px rgba(0, 0, 0, 0.3));\n",
              "      fill: #FFFFFF;\n",
              "    }\n",
              "  </style>\n",
              "\n",
              "      <script>\n",
              "        const buttonEl =\n",
              "          document.querySelector('#df-04633fb1-06e6-497c-8142-687a8f13f1a7 button.colab-df-convert');\n",
              "        buttonEl.style.display =\n",
              "          google.colab.kernel.accessAllowed ? 'block' : 'none';\n",
              "\n",
              "        async function convertToInteractive(key) {\n",
              "          const element = document.querySelector('#df-04633fb1-06e6-497c-8142-687a8f13f1a7');\n",
              "          const dataTable =\n",
              "            await google.colab.kernel.invokeFunction('convertToInteractive',\n",
              "                                                     [key], {});\n",
              "          if (!dataTable) return;\n",
              "\n",
              "          const docLinkHtml = 'Like what you see? Visit the ' +\n",
              "            '<a target=\"_blank\" href=https://colab.research.google.com/notebooks/data_table.ipynb>data table notebook</a>'\n",
              "            + ' to learn more about interactive tables.';\n",
              "          element.innerHTML = '';\n",
              "          dataTable['output_type'] = 'display_data';\n",
              "          await google.colab.output.renderOutput(dataTable, element);\n",
              "          const docLink = document.createElement('div');\n",
              "          docLink.innerHTML = docLinkHtml;\n",
              "          element.appendChild(docLink);\n",
              "        }\n",
              "      </script>\n",
              "    </div>\n",
              "  </div>\n",
              "  "
            ]
          },
          "metadata": {},
          "execution_count": 20
        }
      ]
    },
    {
      "cell_type": "code",
      "source": [
        "test.shape"
      ],
      "metadata": {
        "colab": {
          "base_uri": "https://localhost:8080/"
        },
        "id": "9t-tjeNScTLQ",
        "outputId": "dbcc7ff6-ffec-430a-a53b-ffd81a524fe8"
      },
      "execution_count": null,
      "outputs": [
        {
          "output_type": "execute_result",
          "data": {
            "text/plain": [
              "(2739, 2)"
            ]
          },
          "metadata": {},
          "execution_count": 21
        }
      ]
    },
    {
      "cell_type": "code",
      "source": [
        "test.dtypes"
      ],
      "metadata": {
        "colab": {
          "base_uri": "https://localhost:8080/"
        },
        "id": "_VYVqBuwW0dY",
        "outputId": "cb2e478e-12f5-4653-c685-42287290fe29"
      },
      "execution_count": null,
      "outputs": [
        {
          "output_type": "execute_result",
          "data": {
            "text/plain": [
              "reviews      object\n",
              "sentiment      int8\n",
              "dtype: object"
            ]
          },
          "metadata": {},
          "execution_count": 22
        }
      ]
    },
    {
      "cell_type": "markdown",
      "source": [
        "# Create tf dataset for processing"
      ],
      "metadata": {
        "id": "yRxzeqbUZOTn"
      }
    },
    {
      "cell_type": "code",
      "source": [
        "var_sentiment_train = train.pop('sentiment')\n",
        "\n",
        "tf_train_dataset = tf.data.Dataset.from_tensor_slices((train.values, var_sentiment_train.values))\n",
        "\n",
        "for features, targets in tf_train_dataset.take(5):\n",
        "    print(f'Text: {features.numpy()} \\n')\n",
        "    print(f'Label: {targets.numpy()} \\n')\n",
        "    print('Features: {}, Target: {}'.format(features, targets))"
      ],
      "metadata": {
        "colab": {
          "base_uri": "https://localhost:8080/"
        },
        "id": "HPASTyW_Y-T8",
        "outputId": "fa0ab19e-ea5a-4c04-a858-55f175aba8ce"
      },
      "execution_count": null,
      "outputs": [
        {
          "output_type": "stream",
          "name": "stdout",
          "text": [
            "Text: [b' So lots of people blocking aisles at all parts of the plane  Non working onboard entertainment  Air France needs to come into the   st century with its onboard entertainment  Their system  which wasn t working looks like it was designed by a high school student who failed at programming in his computer course  Really bad  Language skills  The Purser on our flight had minimal English language skills  She stumbled so much that we stopped listening to her  Seats  We were in two seats  which were OK  but it was hard to get in and out  because the seats are so close together  Food  Surprisingly mediocre '] \n",
            "\n",
            "Label: 1 \n",
            "\n",
            "Features: [b' So lots of people blocking aisles at all parts of the plane  Non working onboard entertainment  Air France needs to come into the   st century with its onboard entertainment  Their system  which wasn t working looks like it was designed by a high school student who failed at programming in his computer course  Really bad  Language skills  The Purser on our flight had minimal English language skills  She stumbled so much that we stopped listening to her  Seats  We were in two seats  which were OK  but it was hard to get in and out  because the seats are so close together  Food  Surprisingly mediocre '], Target: 1\n",
            "Text: [b' Have flown numerous times with numerous airlines and Qatar Airways takes first place in exceptional service in every way from booking to being able to choose seats for free  choose meals at one tap on their APP  highly recommended  excellent checkin  inflight service and meals  Our baggage even came out at the same time  all   suitcases  Made a longhaul flight with   children enjoyable and stress free '] \n",
            "\n",
            "Label: 2 \n",
            "\n",
            "Features: [b' Have flown numerous times with numerous airlines and Qatar Airways takes first place in exceptional service in every way from booking to being able to choose seats for free  choose meals at one tap on their APP  highly recommended  excellent checkin  inflight service and meals  Our baggage even came out at the same time  all   suitcases  Made a longhaul flight with   children enjoyable and stress free '], Target: 2\n",
            "Text: [b' This was by far the worst experience that I have  The customer service was the worst  I have no idea where they recruit their staff but they are very disrespectful  I checked my bag and I passed the weight limit by half pound  Well she said that I have to pay extra  but i have a carry on bag and i said i will put that half pound in my carry on  Then she said that she has to weight my carry on  At this point I was annoyed  not only because of the situation but they way she was telling me  Long story short I had to paid      dollar more to check in my carry on  The worst part is that she was chit chatting with her co worker and laughing while charging my credit card  After all the procedure she get back to me with that poker face and said  by the way the flight is delay   I really doubt that the airline provided any customer service training to this people but I guess we have to start with an apology and not  by the way   I get to the gate and they starting to ask to check the carry on bag  and the funny part is that they didnt weigh any of those bags  I decided to ignore the situation and just wait for boarding  My nightmare didnt end  my seat was next to the exit so the attendant was explaining to us in spanish the rules and when she finished she ask if we understood  I am Asian but my maternal language is spanish  I replied to her yes in spanish  She looked at me and repeated the whole thing in English again and I said  I speak Spanish so I know what you meant  She stared at me like   seconds and kept repeating the whole process in english so I just ignored her and closed my eyes  she woke me up and asked me again in english if i understood  The whole experience was horrible and disrespectful '] \n",
            "\n",
            "Label: 0 \n",
            "\n",
            "Features: [b' This was by far the worst experience that I have  The customer service was the worst  I have no idea where they recruit their staff but they are very disrespectful  I checked my bag and I passed the weight limit by half pound  Well she said that I have to pay extra  but i have a carry on bag and i said i will put that half pound in my carry on  Then she said that she has to weight my carry on  At this point I was annoyed  not only because of the situation but they way she was telling me  Long story short I had to paid      dollar more to check in my carry on  The worst part is that she was chit chatting with her co worker and laughing while charging my credit card  After all the procedure she get back to me with that poker face and said  by the way the flight is delay   I really doubt that the airline provided any customer service training to this people but I guess we have to start with an apology and not  by the way   I get to the gate and they starting to ask to check the carry on bag  and the funny part is that they didnt weigh any of those bags  I decided to ignore the situation and just wait for boarding  My nightmare didnt end  my seat was next to the exit so the attendant was explaining to us in spanish the rules and when she finished she ask if we understood  I am Asian but my maternal language is spanish  I replied to her yes in spanish  She looked at me and repeated the whole thing in English again and I said  I speak Spanish so I know what you meant  She stared at me like   seconds and kept repeating the whole process in english so I just ignored her and closed my eyes  she woke me up and asked me again in english if i understood  The whole experience was horrible and disrespectful '], Target: 0\n",
            "Text: [b' The flight was nice  with very good in flight entertainment  and the flight attendants were very nice  The food wasn t great   but not the worst  The seats are comfortable and I had plenty of leg room '] \n",
            "\n",
            "Label: 2 \n",
            "\n",
            "Features: [b' The flight was nice  with very good in flight entertainment  and the flight attendants were very nice  The food wasn t great   but not the worst  The seats are comfortable and I had plenty of leg room '], Target: 2\n",
            "Text: [b' We were impressed with all aspects of the in flight experience  We were provided with all the necessary extras for a comfortable long haul flight  blankets  pillow  socks etc   the in flight entertainment was good  the food and beverages were varied and the service from the cabin crew staff was superb  We had two short transfers on the way out and Garuda staff helped us negotiate our way around strange airports  The one hitch we had was that our luggage did not make it onto the last plane  due to late arrival shortening the transfer slot  but this was sorted out efficiently on arrival  We were looking for a cheaper flight and felt we got really good value for money from Garuda '] \n",
            "\n",
            "Label: 2 \n",
            "\n",
            "Features: [b' We were impressed with all aspects of the in flight experience  We were provided with all the necessary extras for a comfortable long haul flight  blankets  pillow  socks etc   the in flight entertainment was good  the food and beverages were varied and the service from the cabin crew staff was superb  We had two short transfers on the way out and Garuda staff helped us negotiate our way around strange airports  The one hitch we had was that our luggage did not make it onto the last plane  due to late arrival shortening the transfer slot  but this was sorted out efficiently on arrival  We were looking for a cheaper flight and felt we got really good value for money from Garuda '], Target: 2\n"
          ]
        }
      ]
    },
    {
      "cell_type": "code",
      "source": [
        "var_sentiment_test = test.pop('sentiment')\n",
        "\n",
        "tf_test_dataset = tf.data.Dataset.from_tensor_slices((test.values, var_sentiment_test.values))\n",
        "\n",
        "for features, targets in tf_test_dataset.take(5):\n",
        "    print(f'Text: {features.numpy()} \\n')\n",
        "    print(f'Label: {targets.numpy()} \\n')\n",
        "    print('Features: {}, Target: {}'.format(features, targets))"
      ],
      "metadata": {
        "colab": {
          "base_uri": "https://localhost:8080/"
        },
        "id": "G0AxT_9_aRom",
        "outputId": "fd2e8108-4fe8-4b5f-cacc-ce043d20ac31"
      },
      "execution_count": null,
      "outputs": [
        {
          "output_type": "stream",
          "name": "stdout",
          "text": [
            "Text: [b' Overall a reasonable experience  I was not so impressed with the A    and I found it hard to hear the IFE  The seat was not that spacious  Food onboard was fantastic  a good portion for dinner which included salad  roll with cheese  sweet Thai chilli chicken with jasmine rice and steamed vegetables and a summer fruit cheese cake  There was also a light sandwich and muffin with coffee before we started to land  The IFE was quite good  but not as much choice as some airlines  The on board staff were pleasant '] \n",
            "\n",
            "Label: 2 \n",
            "\n",
            "Features: [b' Overall a reasonable experience  I was not so impressed with the A    and I found it hard to hear the IFE  The seat was not that spacious  Food onboard was fantastic  a good portion for dinner which included salad  roll with cheese  sweet Thai chilli chicken with jasmine rice and steamed vegetables and a summer fruit cheese cake  There was also a light sandwich and muffin with coffee before we started to land  The IFE was quite good  but not as much choice as some airlines  The on board staff were pleasant '], Target: 2\n",
            "Text: [b' By far worst airline I have ever flown with  Most unhelpful staff you could imagine  they could not care less about what your flight plans are and how they can help you  My flight was originally at  AM to Boston then I had a connecting flight to Bar Harbor Maine at     My flight to Boston was delayed   times and then we had to move to a whole different gate with no explanation  After being delayed so many times  I missed my connecting flight  not one employee tried or acted like they wanted to help me find a new flight  After I found a flight every attendant refused to print out a boarding pass for me even though they could  I would never take this airline again  Awful costumer service and miserable traveling experience '] \n",
            "\n",
            "Label: 0 \n",
            "\n",
            "Features: [b' By far worst airline I have ever flown with  Most unhelpful staff you could imagine  they could not care less about what your flight plans are and how they can help you  My flight was originally at  AM to Boston then I had a connecting flight to Bar Harbor Maine at     My flight to Boston was delayed   times and then we had to move to a whole different gate with no explanation  After being delayed so many times  I missed my connecting flight  not one employee tried or acted like they wanted to help me find a new flight  After I found a flight every attendant refused to print out a boarding pass for me even though they could  I would never take this airline again  Awful costumer service and miserable traveling experience '], Target: 0\n",
            "Text: [b' Bait and switch at its finest  I used their services two times this month alone  Starts with their really low fares and rates  it looks super appealing because it s almost half of what other airlines would charge  Until they charge you for your bag  as much as your flight normally   seats   government cut and others you end up paying the same amount if not more as you would traveling other airlines  My complain however is the their customer service  their cancellation policy states    hours after reserving or   days prior your flight you d entitled to a refund  My flight is Nov   and I called today Oct    to see if I could push my flight up and sure that option is available   for more than my original flight price  After inquiring about a refund if they couldn t work with me or drop the rate to what would be reasonable they stated there is no refund policy period  Last time flying with airline  Sure you would save if you just fly with a bag that s the size of your backpack but if you have carry ons or checked bags  its worth you going with a more reputable airline with better customer service '] \n",
            "\n",
            "Label: 0 \n",
            "\n",
            "Features: [b' Bait and switch at its finest  I used their services two times this month alone  Starts with their really low fares and rates  it looks super appealing because it s almost half of what other airlines would charge  Until they charge you for your bag  as much as your flight normally   seats   government cut and others you end up paying the same amount if not more as you would traveling other airlines  My complain however is the their customer service  their cancellation policy states    hours after reserving or   days prior your flight you d entitled to a refund  My flight is Nov   and I called today Oct    to see if I could push my flight up and sure that option is available   for more than my original flight price  After inquiring about a refund if they couldn t work with me or drop the rate to what would be reasonable they stated there is no refund policy period  Last time flying with airline  Sure you would save if you just fly with a bag that s the size of your backpack but if you have carry ons or checked bags  its worth you going with a more reputable airline with better customer service '], Target: 0\n",
            "Text: [b' Horrible baggage service and terrible follow up customer service  We booked through United Airlines and flew on United from San Francisco to Los Angeles  then changed airlines to Avian to fly to Lima  then change planes again to fly to Cusco  Our luggage didn t arrive with our flight so we asked why  Avianca baggage service told us United didn t transfer the bags to them on time to make the flight  They told us they d have the bags brought to our hotel in Cusco later that same day  I called United Airlines baggage service to see why they delayed our bags and they told me that they didn t delay them  they transferred the bags to Avianca within    minutes of our flight landing in L A  and    minutes before our Avianca flight departed  Avianca didn t deliver our bags by early evening  so I called baggage service again  after a lengthy wait on hold I was told that our bags hadn t arrived from Los Angeles yet but they would have them delivered to us early the next morning  Next morning  still no luggage so I called again  another lengthy wait on hold  then told that our bags left Lima but they couldn t gat any confirmation that they had arrived in Cusco  Baggage service in Cusco had no idea  We got very stressed out because we were leaving the next day to hike the Inca Trail with no change of clothes or hiking gear  not knowing if our luggage would ever arrive or if we needed to go buy all new clothes and gear  Several phone calls later and more  we don t knows  from Avianca and our bags finally arrived late afternoon of the  nd day  I had told baggage service I wanted to file a formal complaint  They told be their Customer Service would contact me by Oct   st  It s now Oct    th and still no one has contacted me  I ve called them but they re either closed for the day or no one speaks English and someone will call me soon  Still waiting for that call  Obviously they don t care about their customers '] \n",
            "\n",
            "Label: 0 \n",
            "\n",
            "Features: [b' Horrible baggage service and terrible follow up customer service  We booked through United Airlines and flew on United from San Francisco to Los Angeles  then changed airlines to Avian to fly to Lima  then change planes again to fly to Cusco  Our luggage didn t arrive with our flight so we asked why  Avianca baggage service told us United didn t transfer the bags to them on time to make the flight  They told us they d have the bags brought to our hotel in Cusco later that same day  I called United Airlines baggage service to see why they delayed our bags and they told me that they didn t delay them  they transferred the bags to Avianca within    minutes of our flight landing in L A  and    minutes before our Avianca flight departed  Avianca didn t deliver our bags by early evening  so I called baggage service again  after a lengthy wait on hold I was told that our bags hadn t arrived from Los Angeles yet but they would have them delivered to us early the next morning  Next morning  still no luggage so I called again  another lengthy wait on hold  then told that our bags left Lima but they couldn t gat any confirmation that they had arrived in Cusco  Baggage service in Cusco had no idea  We got very stressed out because we were leaving the next day to hike the Inca Trail with no change of clothes or hiking gear  not knowing if our luggage would ever arrive or if we needed to go buy all new clothes and gear  Several phone calls later and more  we don t knows  from Avianca and our bags finally arrived late afternoon of the  nd day  I had told baggage service I wanted to file a formal complaint  They told be their Customer Service would contact me by Oct   st  It s now Oct    th and still no one has contacted me  I ve called them but they re either closed for the day or no one speaks English and someone will call me soon  Still waiting for that call  Obviously they don t care about their customers '], Target: 0\n",
            "Text: [b' They were basically  on both flights  rushing through the service and not to be seen for the next   hours before the breakfast service  On both flights  there was no water offered during the night  which is really a shame considered the price difference between economy and premium  The meals were overcooked  and on both flights the knives could not cut through the  best of British Beef   Given that the hot meals are the same than in Club  according to BA s marketing   I would have been furious if being offered this quality of food in Business Class  A perfect example of unprofessionalism of the crew was when I got up after dinner and went to the galley  as nobody cared to answer the bell  and asked for a Baileys  the young attendant looked at her coworker and asked her what a Baileys was  and the answer came  sorry Sir  we don t have that kind of wine  Would you like some white   I am missing the good old BA and will take my business to some other reputable airlines in the future  even if it means paying a few hundreds more '] \n",
            "\n",
            "Label: 0 \n",
            "\n",
            "Features: [b' They were basically  on both flights  rushing through the service and not to be seen for the next   hours before the breakfast service  On both flights  there was no water offered during the night  which is really a shame considered the price difference between economy and premium  The meals were overcooked  and on both flights the knives could not cut through the  best of British Beef   Given that the hot meals are the same than in Club  according to BA s marketing   I would have been furious if being offered this quality of food in Business Class  A perfect example of unprofessionalism of the crew was when I got up after dinner and went to the galley  as nobody cared to answer the bell  and asked for a Baileys  the young attendant looked at her coworker and asked her what a Baileys was  and the answer came  sorry Sir  we don t have that kind of wine  Would you like some white   I am missing the good old BA and will take my business to some other reputable airlines in the future  even if it means paying a few hundreds more '], Target: 0\n"
          ]
        }
      ]
    },
    {
      "cell_type": "markdown",
      "source": [
        "# Shuffling train and test dataset."
      ],
      "metadata": {
        "id": "GUgn095HmeR7"
      }
    },
    {
      "cell_type": "code",
      "source": [
        "BUFFER_SIZE = 10000\n",
        "BATCH_SIZE = 64\n",
        "\n",
        "train_dataset = tf_train_dataset.shuffle(BUFFER_SIZE).batch(BATCH_SIZE).prefetch(tf.data.experimental.AUTOTUNE)\n",
        "test_dataset = tf_test_dataset.shuffle(BUFFER_SIZE).batch(BATCH_SIZE).prefetch(tf.data.experimental.AUTOTUNE)"
      ],
      "metadata": {
        "id": "pwvqTCYD5yZM"
      },
      "execution_count": null,
      "outputs": []
    },
    {
      "cell_type": "markdown",
      "source": [
        "# Learning the Vocabulary"
      ],
      "metadata": {
        "id": "-UMO8atinSm0"
      }
    },
    {
      "cell_type": "markdown",
      "source": [
        "\n",
        "Next step is to transforms a batch of strings (one example = one string) into either a list of token indices (one example = 1D tensor of integer token indices) or a dense representation (one example = 1D tensor of float values representing data about the example's tokens). \n",
        "\n",
        "To do so the vocabulary for the layer must be either supplied on construction or learned via adapt(). When this layer is adapted, it will analyze the dataset, determine the frequency of individual string values, and create a vocabulary from them. This vocabulary can have unlimited size or be capped, depending on the configuration options for this layer; if there are more unique values in the input than the maximum vocabulary size, the most frequent terms will be used to create the vocabulary. \n",
        "\n",
        "The processing of each example contains the following steps:\n",
        "\n",
        " * Standardize each example (usually lowercasing + punctuation stripping)\n",
        " * Split each example into substrings (usually words)\n",
        " * Recombine substrings into tokens (usually ngrams)\n",
        " * Index tokens (associate a unique int value with each token)\n",
        " * Transform each example using this index, either into a vector of ints or a dense float vector.\n"
      ],
      "metadata": {
        "id": "mNd3wNANml09"
      }
    },
    {
      "cell_type": "code",
      "source": [
        "VOCAB_SIZE = 1000\n",
        "encoder = tf.keras.layers.experimental.preprocessing.TextVectorization(max_tokens=VOCAB_SIZE) #, output_sequence_length=100)\n",
        "\n",
        "\n",
        "encoder.adapt(train_dataset.map(lambda text, label: text))\n",
        "\n",
        "vocab = np.array(encoder.get_vocabulary())"
      ],
      "metadata": {
        "colab": {
          "base_uri": "https://localhost:8080/"
        },
        "id": "mzpDtmUHavxs",
        "outputId": "7347fc5a-8713-49bf-c329-4f7fc95d8cf0"
      },
      "execution_count": null,
      "outputs": [
        {
          "output_type": "stream",
          "name": "stderr",
          "text": [
            "WARNING:tensorflow:From /usr/local/lib/python3.8/dist-packages/tensorflow/python/autograph/pyct/static_analysis/liveness.py:83: Analyzer.lamba_check (from tensorflow.python.autograph.pyct.static_analysis.liveness) is deprecated and will be removed after 2023-09-23.\n",
            "Instructions for updating:\n",
            "Lambda fuctions will be no more assumed to be used in the statement where they are used, or at least in the same block. https://github.com/tensorflow/tensorflow/issues/56089\n"
          ]
        }
      ]
    },
    {
      "cell_type": "code",
      "source": [
        "vocab[:20]"
      ],
      "metadata": {
        "colab": {
          "base_uri": "https://localhost:8080/"
        },
        "id": "8rjk_j6Ga1C7",
        "outputId": "2857d89a-49d1-4353-a9fd-efd2219f2c6a"
      },
      "execution_count": null,
      "outputs": [
        {
          "output_type": "execute_result",
          "data": {
            "text/plain": [
              "array(['', '[UNK]', 'the', 'to', 'and', 'was', 'a', 'i', 'in', 'flight',\n",
              "       'of', 'on', 'for', 'with', 'we', 'were', 'it', 'my', 'is', 'that'],\n",
              "      dtype='<U14')"
            ]
          },
          "metadata": {},
          "execution_count": 27
        }
      ]
    },
    {
      "cell_type": "code",
      "source": [
        "len(vocab)"
      ],
      "metadata": {
        "colab": {
          "base_uri": "https://localhost:8080/"
        },
        "id": "vJzxLVCvccwW",
        "outputId": "f7f8c836-82b3-4ae6-c9b4-6490d50ec6ff"
      },
      "execution_count": null,
      "outputs": [
        {
          "output_type": "execute_result",
          "data": {
            "text/plain": [
              "1000"
            ]
          },
          "metadata": {},
          "execution_count": 28
        }
      ]
    },
    {
      "cell_type": "code",
      "source": [
        "for example, label in train_dataset.take(1):\n",
        "    print(f\"Texts : {example.numpy()[:3]} \\n\")\n",
        "    print(f\"Labels: {label.numpy()[:3]} \\n\")\n",
        "    print(\"----\")\n",
        "encoded_example = encoder(example)[:3].numpy()\n",
        "encoded_example"
      ],
      "metadata": {
        "colab": {
          "base_uri": "https://localhost:8080/"
        },
        "id": "PZtGpofsa3Fq",
        "outputId": "ee10440b-cdfa-4895-910f-d84725ac6da3"
      },
      "execution_count": null,
      "outputs": [
        {
          "output_type": "stream",
          "name": "stdout",
          "text": [
            "Texts : [[b' I got a very warm greeting from the flight attendant when entering the aircraft and selection of welcome drink  I choose champagne  The Sky Chef came out to offer the lunch menu and drink  I choose Cod fish and Italian dry white wine  which was very good  I have to say that the meal was beyond my expectation  Flight attendant was very attentive  often came to fill up my wine and very nice personality  asking me if I did enjoy the flight or not  When arrived to Bahrain  I used the Falcon Gold lounge waiting for my next flight to Frankfurt  The lounge is large  choices of meals and drinks  Meal in the lounge taste quite good  I took beef stew and deep fried chicken  Drinks  a lot of choice from juice to beer  wine and champagne too  Again flight from Bahrain to Frankfurt  They use smaller aircraft  A     but seat is comfortable and large space  Since it was a late night flight  So  I was serve only light meal and choose Garden Salad and drink champagne  I think that it was nice salad and meal was not too much for late night flight  Breakfast was served   hour before landing  I choose omelet and hot coffee  Seat on Falcon Gold is very nice and comfortable  I have looked for my next trip to Frankfurt in November and I see that Gulf Air will change aircraft from A    to B    which B    has new modern seat configuration too  Base on some negative review of Gulf Air which I read before  first  made me quite unsure about to fly with them but I would definitely fly with them again ']\n",
            " [b' It was such a pleasant flight although I wish the cabin temperature had been coler  Food and drink is on demand  and of a good quality  The transfer arrangements at Dubai airport were well organised and everything ran smoothly  I will be using this airline as much as I can in the future ']\n",
            " [b' Recently I decided to start using Delta Airlines  It was a fairly last minute trip so I scheduled a flight from Detroit to Tampa and paid around       I scheduled the      PM because I didn t know what time I would be done with work  It turned out my assignment ended early so I got to the airport at  PM to try to get on a     PM flight  At first I was informed there would be a     fee to change to the earlier flight which was fine with me and well worth it  Then after looking up my fare the Delta employee told me that I could not change the flight because I had an economy fare  The only option was to buy a new ticket for close to      on the      flight  I asked if I could go standby they said no  I asked if there was anything I could do to get on the earlier flight short of paying another full fare  They said  sorry but you purchasd the cheap fare and Delta tries to make as much as they can   So the      flight was delayed until       I hung around hoping I could get on the flight  I tried again and Delta said that if the      is delayed then they would allow me to get on the earlier flight  I asked them to check and they said it was not delayed   sorry  Once everyone boarded the earlier flight I tried again and they said they could not put me on the flight even though there was plenty of extra seats  The later flight is not delayed and that is the only way they would allow it  The flight left  Not    minutes goes by and I get an email saying the      is delayed  Delta Airlines does not care about accommodating its passengers  They could have put me on that earlier flight and made an extra     but they chose to be greedy and make me sit in the airport for another   hours  My flight has been delayed to      and I am betting it will be later than that  Fly Southwest   they are the best when it comes to making changes to your flight  They are very accommodating easy to deal with and generally care about their passengers  I will not fly Delta again ']] \n",
            "\n",
            "Labels: [2 2 0] \n",
            "\n",
            "----\n"
          ]
        },
        {
          "output_type": "execute_result",
          "data": {
            "text/plain": [
              "array([[  7, 109,   6, ...,   0,   0,   0],\n",
              "       [ 16,   5, 284, ...,   0,   0,   0],\n",
              "       [  1,   7, 550, ...,   0,   0,   0]])"
            ]
          },
          "metadata": {},
          "execution_count": 29
        }
      ]
    },
    {
      "cell_type": "markdown",
      "source": [
        "# Our dataset containing processed input sequences tokens and are ready for the training."
      ],
      "metadata": {
        "id": "NG5JenEFgrdb"
      }
    },
    {
      "cell_type": "markdown",
      "source": [
        "## Our first model is Sequential Seq2Seq model with LSTM layers, trained on the sentiments."
      ],
      "metadata": {
        "id": "HeBbTI2YrCtK"
      }
    },
    {
      "cell_type": "code",
      "source": [
        "model = tf.keras.Sequential([tf.keras.Input(shape=(1,), dtype=tf.string),\n",
        "                             encoder, tf.keras.layers.Embedding(input_dim=len(encoder.get_vocabulary()),output_dim=64,mask_zero=True),\n",
        "                             tf.keras.layers.Bidirectional(tf.keras.layers.LSTM(64)),\n",
        "                             tf.keras.layers.Dense(64, activation='relu'),\n",
        "                             tf.keras.layers.Dense(1)])\n",
        "\n"
      ],
      "metadata": {
        "id": "xvWG4N7Lgtud"
      },
      "execution_count": null,
      "outputs": []
    },
    {
      "cell_type": "code",
      "source": [
        "model.summary()"
      ],
      "metadata": {
        "colab": {
          "base_uri": "https://localhost:8080/"
        },
        "id": "yzhOd0zOZXbL",
        "outputId": "b0d8248d-ced3-4189-9619-bc137fe46c53"
      },
      "execution_count": null,
      "outputs": [
        {
          "output_type": "stream",
          "name": "stdout",
          "text": [
            "Model: \"sequential\"\n",
            "_________________________________________________________________\n",
            " Layer (type)                Output Shape              Param #   \n",
            "=================================================================\n",
            " text_vectorization (TextVec  (None, None)             0         \n",
            " torization)                                                     \n",
            "                                                                 \n",
            " embedding (Embedding)       (None, None, 64)          64000     \n",
            "                                                                 \n",
            " bidirectional (Bidirectiona  (None, 128)              66048     \n",
            " l)                                                              \n",
            "                                                                 \n",
            " dense (Dense)               (None, 64)                8256      \n",
            "                                                                 \n",
            " dense_1 (Dense)             (None, 1)                 65        \n",
            "                                                                 \n",
            "=================================================================\n",
            "Total params: 138,369\n",
            "Trainable params: 138,369\n",
            "Non-trainable params: 0\n",
            "_________________________________________________________________\n"
          ]
        }
      ]
    },
    {
      "cell_type": "markdown",
      "source": [
        "This model contains 0.1 Million traianable parameters."
      ],
      "metadata": {
        "id": "6U65zmKnrPnO"
      }
    },
    {
      "cell_type": "code",
      "source": [
        "model.compile(loss=tf.keras.losses.BinaryCrossentropy(from_logits=True),\n",
        "              optimizer=tf.keras.optimizers.Adam(1e-4),\n",
        "              metrics=['accuracy'])"
      ],
      "metadata": {
        "id": "v3qDQuI4ZEi1"
      },
      "execution_count": null,
      "outputs": []
    },
    {
      "cell_type": "code",
      "source": [
        "tf.keras.utils.plot_model(model, show_shapes=True, rankdir=\"LR\")"
      ],
      "metadata": {
        "colab": {
          "base_uri": "https://localhost:8080/",
          "height": 82
        },
        "id": "3i4DXaOVi3FO",
        "outputId": "341eb181-46bf-4d3d-e075-868d0e27e31d"
      },
      "execution_count": null,
      "outputs": [
        {
          "output_type": "execute_result",
          "data": {
            "image/png": "[encoded data removed]",
            "text/plain": [
              "<IPython.core.display.Image object>"
            ]
          },
          "metadata": {},
          "execution_count": 33
        }
      ]
    },
    {
      "cell_type": "code",
      "source": [
        "history = model.fit(train_dataset, epochs=5,\n",
        "                    validation_data=test_dataset, \n",
        "                    validation_steps=25)"
      ],
      "metadata": {
        "colab": {
          "base_uri": "https://localhost:8080/"
        },
        "id": "KYt2WH9XZHkU",
        "outputId": "0895e339-c6de-42cc-a66b-536bdff332dc"
      },
      "execution_count": null,
      "outputs": [
        {
          "output_type": "stream",
          "name": "stdout",
          "text": [
            "Epoch 1/5\n",
            "100/100 [==============================] - 155s 1s/step - loss: 0.5336 - accuracy: 0.3671 - val_loss: 0.1764 - val_accuracy: 0.0900\n",
            "Epoch 2/5\n",
            "100/100 [==============================] - 121s 1s/step - loss: 0.0320 - accuracy: 0.0883 - val_loss: -0.5979 - val_accuracy: 0.0862\n",
            "Epoch 3/5\n",
            "100/100 [==============================] - 117s 1s/step - loss: -2.8219 - accuracy: 0.2235 - val_loss: -5.9772 - val_accuracy: 0.3713\n",
            "Epoch 4/5\n",
            "100/100 [==============================] - 120s 1s/step - loss: -8.3555 - accuracy: 0.4039 - val_loss: -10.2151 - val_accuracy: 0.3800\n",
            "Epoch 5/5\n",
            "100/100 [==============================] - 118s 1s/step - loss: -14.5447 - accuracy: 0.4003 - val_loss: -17.3529 - val_accuracy: 0.4606\n"
          ]
        }
      ]
    },
    {
      "cell_type": "markdown",
      "source": [
        "Above values shows the loss in negative. Though that makes sense as it may happen when data values are more and there's nothing wrong with having a negative-loss function as such. It's just a function that has to be minimized, and model weights are updated according to that."
      ],
      "metadata": {
        "id": "il5OfYGKrjfG"
      }
    },
    {
      "cell_type": "markdown",
      "source": [
        "# Evaluating and saving the trained model"
      ],
      "metadata": {
        "id": "C1pETJzV2jeC"
      }
    },
    {
      "cell_type": "code",
      "source": [
        "# evaluate the model\n",
        "scores = model.evaluate(test_dataset, verbose=0)\n",
        "print(\"%s: %.2f%%\" % (model.metrics_names[1], scores[1]*100))"
      ],
      "metadata": {
        "colab": {
          "base_uri": "https://localhost:8080/"
        },
        "id": "3JQWO22Luh8P",
        "outputId": "c9718f52-3800-4be8-a3e2-4645993b0e51"
      },
      "execution_count": null,
      "outputs": [
        {
          "output_type": "stream",
          "name": "stdout",
          "text": [
            "accuracy: 45.56%\n"
          ]
        }
      ]
    },
    {
      "cell_type": "code",
      "source": [
        "model.save('./drive/MyDrive/Colab_Notebooks/lstm_sentiment_model')"
      ],
      "metadata": {
        "colab": {
          "base_uri": "https://localhost:8080/"
        },
        "id": "ga-qKcYJ2FWd",
        "outputId": "8ea9a47c-5c2b-4d61-facb-019b572344b9"
      },
      "execution_count": null,
      "outputs": [
        {
          "output_type": "stream",
          "name": "stderr",
          "text": [
            "WARNING:absl:Found untraced functions such as _update_step_xla, lstm_cell_1_layer_call_fn, lstm_cell_1_layer_call_and_return_conditional_losses, lstm_cell_2_layer_call_fn, lstm_cell_2_layer_call_and_return_conditional_losses while saving (showing 5 of 5). These functions will not be directly callable after loading.\n"
          ]
        }
      ]
    },
    {
      "cell_type": "code",
      "source": [
        "import matplotlib.pyplot as plt\n",
        "\n",
        "def plot_graphs(history, metric):\n",
        "    plt.plot(history.history[metric])\n",
        "    plt.plot(history.history['val_'+metric], '')\n",
        "    plt.xlabel(\"Epochs\")\n",
        "    plt.ylabel(metric)\n",
        "    plt.legend([metric, 'val_'+metric])\n",
        "\n"
      ],
      "metadata": {
        "id": "CEzKWAfpZ0dN"
      },
      "execution_count": null,
      "outputs": []
    },
    {
      "cell_type": "code",
      "source": [
        "plot_graphs(history, \"accuracy\")"
      ],
      "metadata": {
        "colab": {
          "base_uri": "https://localhost:8080/",
          "height": 279
        },
        "id": "D56PT9Lsei2r",
        "outputId": "0ec137f1-5a0b-4611-8027-78b51d109a98"
      },
      "execution_count": null,
      "outputs": [
        {
          "output_type": "display_data",
          "data": {
            "text/plain": [
              "<Figure size 432x288 with 1 Axes>"
            ],
            "image/png": "[encoded data removed]"
          },
          "metadata": {
            "needs_background": "light"
          }
        }
      ]
    },
    {
      "cell_type": "markdown",
      "source": [
        "##Predictions using above trained model"
      ],
      "metadata": {
        "id": "NDrRw4Ics0ih"
      }
    },
    {
      "cell_type": "code",
      "source": [
        "lstm_sentiment_classifier = tf.keras.models.load_model('./drive/MyDrive/Colab_Notebooks/lstm_sentiment_model')\n",
        "\n",
        "sample_text = [('Very positive experience with Indigo. Easy baggage-drop at Lucknow airport, new aircraft,' \n",
        "                'well trained crew. Very good airline, warmly recommended.'),\n",
        "               ('Indigo charges extra for its seat selection. And now I dont understand why the flight attendant asked '\n",
        "               'me to change my seat which is lower than what i paid. I left with no choice cause its for an child ' \n",
        "                'with 2.5yrs. Its crazy Indigo has to fine tune its reservation system. The family who booked'\n",
        "                'the seats got the seats in 3 different places.'),\n",
        "               ('Recently as an international travel booked return flight, continue to experience problems of scheduling '\n",
        "               'and rescheduling by the airline, with no head or tail. Difficult to contact either online or web chat '\n",
        "               'or on the phone to speak to customer service from abroad from abroad. The whole service is below par.'),\n",
        "               ('No doubt Indigo is best LCC in India, smooth check in, on time sequential boarding and departure. Okay seats, '\n",
        "               'clean hygiene cabin, courteous cabin crew. Another good experience and reason to fly again with them next time.'),\n",
        "               ('I used the Indigo flight from Jaipur to Bengaluru. It was ok.')]\n",
        "\n",
        "for count, st in enumerate(sample_text):  \n",
        "  predictions = lstm_sentiment_classifier.predict(np.array([st]), verbose=0)\n",
        "  p = np.squeeze(predictions)\n",
        "  p = int(p)\n",
        "  if p < 0:\n",
        "    print(\"Setiment in {} Statement is = Negative Review\".format(count+1))\n",
        "  elif p > 1:\n",
        "    print(\"Setiment in {} Statement is = Positive Review\".format(count+1))\n",
        "  else:\n",
        "    print(\"Setiment in {} Statement is = Neutral Review\".format(count+1))\n"
      ],
      "metadata": {
        "colab": {
          "base_uri": "https://localhost:8080/"
        },
        "id": "XNPLiQHqfFi9",
        "outputId": "0998664e-3d0e-4bef-d7a7-e45b165102bc"
      },
      "execution_count": null,
      "outputs": [
        {
          "output_type": "stream",
          "name": "stdout",
          "text": [
            "Setiment in 1 Statement is = Positive Review\n",
            "Setiment in 2 Statement is = Negative Review\n",
            "Setiment in 3 Statement is = Negative Review\n",
            "Setiment in 4 Statement is = Positive Review\n",
            "Setiment in 5 Statement is = Neutral Review\n"
          ]
        }
      ]
    },
    {
      "cell_type": "markdown",
      "source": [
        "# Airline Recommender Model"
      ],
      "metadata": {
        "id": "M3lYr1J73PRi"
      }
    },
    {
      "cell_type": "markdown",
      "source": [
        "## Since we saw that sentiment classifier model trained with 46% accuracy, we thought to build a recommender model. For this we will use the recommender column of dataset and build a Seq2Seq model"
      ],
      "metadata": {
        "id": "NooPgxVM3PwA"
      }
    },
    {
      "cell_type": "code",
      "source": [
        "train_df_1 = airline_data[['review_text', 'recommended']]\n",
        "train_df_1.rename(columns={'review_text':'reviews'}, inplace=True)\n",
        "data_1 = train_df_1.copy()\n",
        "print(data_1.head(2))\n",
        "data_1['reviews'] = data_1.reviews.str.replace('[^a-zA-Z ]', ' ')\n",
        "\n",
        "# Converting type of columns to category\n",
        "data_1['recommended']=data_1['recommended'].astype('category')\n",
        " \n",
        " \n",
        "#Assigning numerical values and storing it in another columns\n",
        "data_1['recommended_new']=data_1['recommended'].cat.codes\n",
        " \n",
        "#Create an instance of One-hot-encoder\n",
        "enc=OneHotEncoder()\n",
        " \n",
        "#Passing encoded columns\n",
        "enc_data=pd.DataFrame(enc.fit_transform(data_1[['recommended_new']]).toarray())\n",
        " \n",
        "#Merge with main\n",
        "data_1=data_1.join(enc_data)\n",
        "data_1.head()\n",
        "data_1.drop(columns=['recommended',0,1],inplace=True)\n",
        "data_1.rename(columns = {'recommended_new':'recommended'}, inplace = True)\n",
        "print(data_1.head())\n",
        "train_1, test_1 = train_test_split(data_1, test_size=0.3)\n",
        "\n"
      ],
      "metadata": {
        "colab": {
          "base_uri": "https://localhost:8080/"
        },
        "id": "wkorQjrotrHh",
        "outputId": "96940fb9-d428-4ebc-e53b-72f2b4df5d0b"
      },
      "execution_count": null,
      "outputs": [
        {
          "output_type": "stream",
          "name": "stdout",
          "text": [
            "                                             reviews  recommended\n",
            "0   First time Iâ€™d flown TK. I found them very ...         True\n",
            "1   We make our check in in the airport, they Tak...        False\n"
          ]
        },
        {
          "output_type": "stream",
          "name": "stderr",
          "text": [
            "/usr/local/lib/python3.8/dist-packages/pandas/core/frame.py:5039: SettingWithCopyWarning: \n",
            "A value is trying to be set on a copy of a slice from a DataFrame\n",
            "\n",
            "See the caveats in the documentation: https://pandas.pydata.org/pandas-docs/stable/user_guide/indexing.html#returning-a-view-versus-a-copy\n",
            "  return super().rename(\n",
            "<ipython-input-38-00fb72b43b02>:5: FutureWarning: The default value of regex will change from True to False in a future version.\n",
            "  data_1['reviews'] = data_1.reviews.str.replace('[^a-zA-Z ]', ' ')\n"
          ]
        },
        {
          "output_type": "stream",
          "name": "stdout",
          "text": [
            "                                             reviews  recommended\n",
            "0   First time I   d flown TK  I found them very ...            1\n",
            "1   We make our check in in the airport  they Tak...            0\n",
            "2   I flew with this company several times in the...            0\n",
            "3   Turkish Airlines has consistently maintained ...            1\n",
            "4   Never book Turkish airlines if you are travel...            0\n"
          ]
        }
      ]
    },
    {
      "cell_type": "code",
      "source": [
        "airline_data.groupby(['recommended']).size().sort_values(ascending=False).reset_index(name='frequency')"
      ],
      "metadata": {
        "colab": {
          "base_uri": "https://localhost:8080/",
          "height": 112
        },
        "id": "y6bVEInqGDqb",
        "outputId": "cdffd791-f382-4351-a768-4856926cb546"
      },
      "execution_count": null,
      "outputs": [
        {
          "output_type": "execute_result",
          "data": {
            "text/plain": [
              "   recommended  frequency\n",
              "0        False      11759\n",
              "1         True      11063"
            ],
            "text/html": [
              "\n",
              "  <div id=\"df-b920f615-fef6-4067-8e55-30dd52eb5e41\">\n",
              "    <div class=\"colab-df-container\">\n",
              "      <div>\n",
              "<style scoped>\n",
              "    .dataframe tbody tr th:only-of-type {\n",
              "        vertical-align: middle;\n",
              "    }\n",
              "\n",
              "    .dataframe tbody tr th {\n",
              "        vertical-align: top;\n",
              "    }\n",
              "\n",
              "    .dataframe thead th {\n",
              "        text-align: right;\n",
              "    }\n",
              "</style>\n",
              "<table border=\"1\" class=\"dataframe\">\n",
              "  <thead>\n",
              "    <tr style=\"text-align: right;\">\n",
              "      <th></th>\n",
              "      <th>recommended</th>\n",
              "      <th>frequency</th>\n",
              "    </tr>\n",
              "  </thead>\n",
              "  <tbody>\n",
              "    <tr>\n",
              "      <th>0</th>\n",
              "      <td>False</td>\n",
              "      <td>11759</td>\n",
              "    </tr>\n",
              "    <tr>\n",
              "      <th>1</th>\n",
              "      <td>True</td>\n",
              "      <td>11063</td>\n",
              "    </tr>\n",
              "  </tbody>\n",
              "</table>\n",
              "</div>\n",
              "      <button class=\"colab-df-convert\" onclick=\"convertToInteractive('df-b920f615-fef6-4067-8e55-30dd52eb5e41')\"\n",
              "              title=\"Convert this dataframe to an interactive table.\"\n",
              "              style=\"display:none;\">\n",
              "        \n",
              "  <svg xmlns=\"http://www.w3.org/2000/svg\" height=\"24px\"viewBox=\"0 0 24 24\"\n",
              "       width=\"24px\">\n",
              "    <path d=\"M0 0h24v24H0V0z\" fill=\"none\"/>\n",
              "    <path d=\"M18.56 5.44l.94 2.06.94-2.06 2.06-.94-2.06-.94-.94-2.06-.94 2.06-2.06.94zm-11 1L8.5 8.5l.94-2.06 2.06-.94-2.06-.94L8.5 2.5l-.94 2.06-2.06.94zm10 10l.94 2.06.94-2.06 2.06-.94-2.06-.94-.94-2.06-.94 2.06-2.06.94z\"/><path d=\"M17.41 7.96l-1.37-1.37c-.4-.4-.92-.59-1.43-.59-.52 0-1.04.2-1.43.59L10.3 9.45l-7.72 7.72c-.78.78-.78 2.05 0 2.83L4 21.41c.39.39.9.59 1.41.59.51 0 1.02-.2 1.41-.59l7.78-7.78 2.81-2.81c.8-.78.8-2.07 0-2.86zM5.41 20L4 18.59l7.72-7.72 1.47 1.35L5.41 20z\"/>\n",
              "  </svg>\n",
              "      </button>\n",
              "      \n",
              "  <style>\n",
              "    .colab-df-container {\n",
              "      display:flex;\n",
              "      flex-wrap:wrap;\n",
              "      gap: 12px;\n",
              "    }\n",
              "\n",
              "    .colab-df-convert {\n",
              "      background-color: #E8F0FE;\n",
              "      border: none;\n",
              "      border-radius: 50%;\n",
              "      cursor: pointer;\n",
              "      display: none;\n",
              "      fill: #1967D2;\n",
              "      height: 32px;\n",
              "      padding: 0 0 0 0;\n",
              "      width: 32px;\n",
              "    }\n",
              "\n",
              "    .colab-df-convert:hover {\n",
              "      background-color: #E2EBFA;\n",
              "      box-shadow: 0px 1px 2px rgba(60, 64, 67, 0.3), 0px 1px 3px 1px rgba(60, 64, 67, 0.15);\n",
              "      fill: #174EA6;\n",
              "    }\n",
              "\n",
              "    [theme=dark] .colab-df-convert {\n",
              "      background-color: #3B4455;\n",
              "      fill: #D2E3FC;\n",
              "    }\n",
              "\n",
              "    [theme=dark] .colab-df-convert:hover {\n",
              "      background-color: #434B5C;\n",
              "      box-shadow: 0px 1px 3px 1px rgba(0, 0, 0, 0.15);\n",
              "      filter: drop-shadow(0px 1px 2px rgba(0, 0, 0, 0.3));\n",
              "      fill: #FFFFFF;\n",
              "    }\n",
              "  </style>\n",
              "\n",
              "      <script>\n",
              "        const buttonEl =\n",
              "          document.querySelector('#df-b920f615-fef6-4067-8e55-30dd52eb5e41 button.colab-df-convert');\n",
              "        buttonEl.style.display =\n",
              "          google.colab.kernel.accessAllowed ? 'block' : 'none';\n",
              "\n",
              "        async function convertToInteractive(key) {\n",
              "          const element = document.querySelector('#df-b920f615-fef6-4067-8e55-30dd52eb5e41');\n",
              "          const dataTable =\n",
              "            await google.colab.kernel.invokeFunction('convertToInteractive',\n",
              "                                                     [key], {});\n",
              "          if (!dataTable) return;\n",
              "\n",
              "          const docLinkHtml = 'Like what you see? Visit the ' +\n",
              "            '<a target=\"_blank\" href=https://colab.research.google.com/notebooks/data_table.ipynb>data table notebook</a>'\n",
              "            + ' to learn more about interactive tables.';\n",
              "          element.innerHTML = '';\n",
              "          dataTable['output_type'] = 'display_data';\n",
              "          await google.colab.output.renderOutput(dataTable, element);\n",
              "          const docLink = document.createElement('div');\n",
              "          docLink.innerHTML = docLinkHtml;\n",
              "          element.appendChild(docLink);\n",
              "        }\n",
              "      </script>\n",
              "    </div>\n",
              "  </div>\n",
              "  "
            ]
          },
          "metadata": {},
          "execution_count": 5
        }
      ]
    },
    {
      "cell_type": "markdown",
      "source": [
        "## Converting dataset to tensorflow dataset"
      ],
      "metadata": {
        "id": "qWuR4Z1O3zqL"
      }
    },
    {
      "cell_type": "code",
      "source": [
        "var_train_1 = train_1.pop('recommended')\n",
        "\n",
        "tf_train_dataset_1 = tf.data.Dataset.from_tensor_slices((train_1.values, var_train_1.values))\n",
        "\n",
        "for features, targets in tf_train_dataset_1.take(5):\n",
        "    print(f'Text: {features.numpy()} \\n')\n",
        "    print(f'Label: {targets.numpy()} \\n')\n",
        "    print('Features: {}, Target: {}'.format(features, targets))\n",
        "\n",
        "var_test_1 = test_1.pop('recommended')\n",
        "\n",
        "tf_test_dataset_1 = tf.data.Dataset.from_tensor_slices((test_1.values, var_test_1.values))\n",
        "\n",
        "for features, targets in tf_test_dataset_1.take(5):\n",
        "    print(f'Text: {features.numpy()} \\n')\n",
        "    print(f'Label: {targets.numpy()} \\n')\n",
        "    print('Features: {}, Target: {}'.format(features, targets))\n",
        "\n",
        "\n",
        "BUFFER_SIZE = 10000\n",
        "BATCH_SIZE = 64\n",
        "\n",
        "train_dataset_1 = tf_train_dataset_1.shuffle(BUFFER_SIZE).batch(BATCH_SIZE).prefetch(tf.data.experimental.AUTOTUNE)\n",
        "test_dataset_1 = tf_test_dataset_1.shuffle(BUFFER_SIZE).batch(BATCH_SIZE).prefetch(tf.data.experimental.AUTOTUNE)\n",
        "\n",
        "VOCAB_SIZE = 1000\n",
        "encoder_1 = tf.keras.layers.experimental.preprocessing.TextVectorization(max_tokens=VOCAB_SIZE) #, output_sequence_length=100)\n",
        "\n",
        "encoder_1.adapt(train_dataset_1.map(lambda text, label: text))\n",
        "\n",
        "vocab_1 = np.array(encoder_1.get_vocabulary())\n",
        "\n",
        "encoded_example = encoder_1(features)[:3].numpy()\n",
        "encoded_example"
      ],
      "metadata": {
        "colab": {
          "base_uri": "https://localhost:8080/"
        },
        "id": "PU6Zs2JnxZPg",
        "outputId": "c01d8696-ee2f-449b-fbbc-118ebe789858"
      },
      "execution_count": null,
      "outputs": [
        {
          "output_type": "stream",
          "name": "stdout",
          "text": [
            "Text: [b' I was expecting a favorable experience based on reviews I read online  But what I experienced was way beyond my expectation  It was the most pleasurable economy flight I have ever experienced  The the diversified  polite and helpful cabin crew were exceptional  Even their info video for airline safety prior to take off is innovative and refreshing  The food on board was average but still tolerable at the least  Freebies for the little ones including the food tray is exceptional  I would truly consider booking my future flights with this airline and highly recommend it to those who have not flown with them yet '] \n",
            "\n",
            "Label: 1 \n",
            "\n",
            "Features: [b' I was expecting a favorable experience based on reviews I read online  But what I experienced was way beyond my expectation  It was the most pleasurable economy flight I have ever experienced  The the diversified  polite and helpful cabin crew were exceptional  Even their info video for airline safety prior to take off is innovative and refreshing  The food on board was average but still tolerable at the least  Freebies for the little ones including the food tray is exceptional  I would truly consider booking my future flights with this airline and highly recommend it to those who have not flown with them yet '], Target: 1\n",
            "Text: [b' Every flight on my vacation was delayed  Customer service was completely disrespectful  How am I supposed to be a satisfied customer when nothing goes the right way  this is not the first time this has happened  but it is now the last time it will ever happen  Delay after delay  They have no excuses  All staff are lazy and works at there own pace  People have lives and families outside the chaos of airports  we have made commitments to get from   place to the next  and this airline wants nothing more but to take our money  This is so pitiful  I am so angry and have had   anxiety attacks because I had no where to go when things canceled  I am a patriotic American  And it pushes me off that the company American Airlines cannot uphold what we are as a country '] \n",
            "\n",
            "Label: 0 \n",
            "\n",
            "Features: [b' Every flight on my vacation was delayed  Customer service was completely disrespectful  How am I supposed to be a satisfied customer when nothing goes the right way  this is not the first time this has happened  but it is now the last time it will ever happen  Delay after delay  They have no excuses  All staff are lazy and works at there own pace  People have lives and families outside the chaos of airports  we have made commitments to get from   place to the next  and this airline wants nothing more but to take our money  This is so pitiful  I am so angry and have had   anxiety attacks because I had no where to go when things canceled  I am a patriotic American  And it pushes me off that the company American Airlines cannot uphold what we are as a country '], Target: 0\n",
            "Text: [b' First time flying Emirates business class and was excited to try it but very disappointed after my experience  No greeting by any of the staff even the check in staff  I got the middle seat and felt very claustrophobic  If you are also going as a couple or with a friend  it   s hard to carry a conversation with the person you are flying next to since the divider in between doesn   t even go down completely  On a long plane ride  this is very frustrating that you cannot even carry a proper conversation or see the person next to you  In terms of the service  the stewardess serving me was lazy and made me hand her all the trays and hand myself all the plates rather than setting it down directly on the table  I thought this is very unsafe since some dishes are very hot  She was also too lazy to make the bed for me so I had to do it myself  Not only that but one of the stewardesses left the tray on the seat in front of us which crashing down in front of my boyfriends feet during the middle of the flight  The head flight attendant walking by noticed it and didn   t even apologize and rather asked us abruptly what had happened like it was our fault his staff left the tray there  There are also no slippers or pajamas offered like other flights  The food is also not personalized and not very good  They didn   t even offer us dessert and when we asked for it  they assumed someone had already taken our order and didn   t give us the dessert  Most of all  the airport lounge in Dubai on the way to another city is really outdated  basic and unimpressive  It   s really long and big but composed of the same basic food drinks and no amenities other than a few shower rooms  The spa which was on the map was closed and half the loung was also closed when we were there for no reasons given  All the other major airlines business class I had taken including cathay  Singapore airlines  korean air and Etihad had much better lounges  I especially expected more since Emirates is Dubai   s flagship carrier but it looks like they cut costs severely  Would not take Emirates again although I already bought several more tickets for the rest of the leg of this trip that I cannot cancel  Some positives were chauffeur service  private entrance at gate for customs and security check in the Dubai airport  and the entertainment system on the plane which had a lot of movies  However the WiFi was very slow  overall very disappointed '] \n",
            "\n",
            "Label: 0 \n",
            "\n",
            "Features: [b' First time flying Emirates business class and was excited to try it but very disappointed after my experience  No greeting by any of the staff even the check in staff  I got the middle seat and felt very claustrophobic  If you are also going as a couple or with a friend  it   s hard to carry a conversation with the person you are flying next to since the divider in between doesn   t even go down completely  On a long plane ride  this is very frustrating that you cannot even carry a proper conversation or see the person next to you  In terms of the service  the stewardess serving me was lazy and made me hand her all the trays and hand myself all the plates rather than setting it down directly on the table  I thought this is very unsafe since some dishes are very hot  She was also too lazy to make the bed for me so I had to do it myself  Not only that but one of the stewardesses left the tray on the seat in front of us which crashing down in front of my boyfriends feet during the middle of the flight  The head flight attendant walking by noticed it and didn   t even apologize and rather asked us abruptly what had happened like it was our fault his staff left the tray there  There are also no slippers or pajamas offered like other flights  The food is also not personalized and not very good  They didn   t even offer us dessert and when we asked for it  they assumed someone had already taken our order and didn   t give us the dessert  Most of all  the airport lounge in Dubai on the way to another city is really outdated  basic and unimpressive  It   s really long and big but composed of the same basic food drinks and no amenities other than a few shower rooms  The spa which was on the map was closed and half the loung was also closed when we were there for no reasons given  All the other major airlines business class I had taken including cathay  Singapore airlines  korean air and Etihad had much better lounges  I especially expected more since Emirates is Dubai   s flagship carrier but it looks like they cut costs severely  Would not take Emirates again although I already bought several more tickets for the rest of the leg of this trip that I cannot cancel  Some positives were chauffeur service  private entrance at gate for customs and security check in the Dubai airport  and the entertainment system on the plane which had a lot of movies  However the WiFi was very slow  overall very disappointed '], Target: 0\n",
            "Text: [b' I flew with Business class all the service was good but the worst thing was happened on my flight from Guangzhou to Denpasar Bali  The aircraft was horrible  the seat was poor which was not very comfortable  has no screen but I got a small Samsung tablet to watch the movie which was not really convenient  The toilet had no level which was no amenities at all  even no SOAP to wash my hand  and the bad poorest thing was that they did not have ice so no cold drink at all  I got a glass of warm white wine and beer  ridiculous  I have complained and the answer was they only have one word to apologise   sorry    and they promised to give me extra service if I am flying again with them  would you believe it    after that bad experience  I really expected that they would offer me any gift like Miles or Voucher like what KLM So that was last time to fly with China Southern Airlines  '] \n",
            "\n",
            "Label: 0 \n",
            "\n",
            "Features: [b' I flew with Business class all the service was good but the worst thing was happened on my flight from Guangzhou to Denpasar Bali  The aircraft was horrible  the seat was poor which was not very comfortable  has no screen but I got a small Samsung tablet to watch the movie which was not really convenient  The toilet had no level which was no amenities at all  even no SOAP to wash my hand  and the bad poorest thing was that they did not have ice so no cold drink at all  I got a glass of warm white wine and beer  ridiculous  I have complained and the answer was they only have one word to apologise   sorry    and they promised to give me extra service if I am flying again with them  would you believe it    after that bad experience  I really expected that they would offer me any gift like Miles or Voucher like what KLM So that was last time to fly with China Southern Airlines  '], Target: 0\n",
            "Text: [b' The first impression left me was flight attendant hospitality and smile  When we board  a flight attendant helped me to put our luggage  And in flight when they served drink  and their service for meal was according to our personal choice  It worth complimenting cabin crew service  I could see the map in entertainment system for our tracking '] \n",
            "\n",
            "Label: 1 \n",
            "\n",
            "Features: [b' The first impression left me was flight attendant hospitality and smile  When we board  a flight attendant helped me to put our luggage  And in flight when they served drink  and their service for meal was according to our personal choice  It worth complimenting cabin crew service  I could see the map in entertainment system for our tracking '], Target: 1\n",
            "Text: [b' Excellent staff at MRS and LIS  Smooth check in  clean aircraft  nice Portuguese meals  E    is a strong progress on European destinations  vs F      However TAP insists in using    years old A        with nearly no IFE and no flat beds  while it advertises full flat with nice IFE  It is not acceptable as far as less than     of the fleet has been renovated '] \n",
            "\n",
            "Label: 1 \n",
            "\n",
            "Features: [b' Excellent staff at MRS and LIS  Smooth check in  clean aircraft  nice Portuguese meals  E    is a strong progress on European destinations  vs F      However TAP insists in using    years old A        with nearly no IFE and no flat beds  while it advertises full flat with nice IFE  It is not acceptable as far as less than     of the fleet has been renovated '], Target: 1\n",
            "Text: [b' The plane was extremely old  probably over    years   and it showed in the cabin interior and design  The Business Class cabin was the old herringbone layout        The seat was a bit torn and dirty  again showing how aged the aircraft is  The crew were pleasant enough  and I just happen to meet them prior to the flight as we went through security together  We joked a bit  and they were quite friendly  The onboard service provided by the crew were also good  However  the food was basic  particularly for a flight over  hrs  There was a hot meal service  portions were small  I had stuffed chicked served with rice  which was preceded by a nice seafood salad  and followed by a cheese platter  The champagne was ly bitter and undrinkable  The orange juice was not fresh but came out of a Minute Maid carton  unbefitting for the highest class Air Canada provides  The pre landing snack was a very disappointing cold platter of sliced chicken breasts  The water on offer  Naya  didn t exactly reflect luxury  The one thing that appeared luxurious was the amenity kit with Escents toiletries  I would not recommend this for the extremely high price charged for business class  The quality and luxury of business class is simply lacking  The only thing good about it is that it s a direct service '] \n",
            "\n",
            "Label: 0 \n",
            "\n",
            "Features: [b' The plane was extremely old  probably over    years   and it showed in the cabin interior and design  The Business Class cabin was the old herringbone layout        The seat was a bit torn and dirty  again showing how aged the aircraft is  The crew were pleasant enough  and I just happen to meet them prior to the flight as we went through security together  We joked a bit  and they were quite friendly  The onboard service provided by the crew were also good  However  the food was basic  particularly for a flight over  hrs  There was a hot meal service  portions were small  I had stuffed chicked served with rice  which was preceded by a nice seafood salad  and followed by a cheese platter  The champagne was ly bitter and undrinkable  The orange juice was not fresh but came out of a Minute Maid carton  unbefitting for the highest class Air Canada provides  The pre landing snack was a very disappointing cold platter of sliced chicken breasts  The water on offer  Naya  didn t exactly reflect luxury  The one thing that appeared luxurious was the amenity kit with Escents toiletries  I would not recommend this for the extremely high price charged for business class  The quality and luxury of business class is simply lacking  The only thing good about it is that it s a direct service '], Target: 0\n",
            "Text: [b' A prior flight was cancelled for the same reason  If we do leave  which is doubtful but they give us no clarity  we will be at least three hours late  They not only give no water  but unacceptable service  Fly at risk of not flying'] \n",
            "\n",
            "Label: 0 \n",
            "\n",
            "Features: [b' A prior flight was cancelled for the same reason  If we do leave  which is doubtful but they give us no clarity  we will be at least three hours late  They not only give no water  but unacceptable service  Fly at risk of not flying'], Target: 0\n",
            "Text: [b' I did my online check in the night before and left to go to the airport  I arrived at the airport     hours in advance  went to a kiosk to print my boarding pass  and the kiosk wasn t working  so I proceeded to the BA counter to get my pass and check in my luggage  I was in line for approximately    minutes when we were all told to switch lines  The line we were moved to was substantially longer however I was patient  By the time I got to the desk  an hour had passed  and I had a bit over an hour left to my flight  I figured this was tight but all the while manageable since I trusted BA s system  The woman at the counter asked me where I was going and when I said Montreal  she looked at me and said  you won t make it   I explained the situation how I had been in the airport for several hours already and that I was in line for   hour  She just told me I needed to go to the missed flight counter  I got to the counter and they informed me that I had to buy a new return ticket  My original return ticket cost me       my return cost me        I had no choice but to buy the ticket  I also had to stay in a hotel and then take a bus to Gatwick airport the following morning  Once I arrived back in Montreal I called BA Customer Services and they told me that it was protocol to put me on standby and not make me purchase a new ticket  and that I could get a refund  if not for the new flight  then for the      of the flight I missed  Imagine my shock after spending an additional       CAD all in  When I escalated my complaint  they did not address my case for over a month and once they did they just said we cannot refund you  and that was that '] \n",
            "\n",
            "Label: 0 \n",
            "\n",
            "Features: [b' I did my online check in the night before and left to go to the airport  I arrived at the airport     hours in advance  went to a kiosk to print my boarding pass  and the kiosk wasn t working  so I proceeded to the BA counter to get my pass and check in my luggage  I was in line for approximately    minutes when we were all told to switch lines  The line we were moved to was substantially longer however I was patient  By the time I got to the desk  an hour had passed  and I had a bit over an hour left to my flight  I figured this was tight but all the while manageable since I trusted BA s system  The woman at the counter asked me where I was going and when I said Montreal  she looked at me and said  you won t make it   I explained the situation how I had been in the airport for several hours already and that I was in line for   hour  She just told me I needed to go to the missed flight counter  I got to the counter and they informed me that I had to buy a new return ticket  My original return ticket cost me       my return cost me        I had no choice but to buy the ticket  I also had to stay in a hotel and then take a bus to Gatwick airport the following morning  Once I arrived back in Montreal I called BA Customer Services and they told me that it was protocol to put me on standby and not make me purchase a new ticket  and that I could get a refund  if not for the new flight  then for the      of the flight I missed  Imagine my shock after spending an additional       CAD all in  When I escalated my complaint  they did not address my case for over a month and once they did they just said we cannot refund you  and that was that '], Target: 0\n",
            "Text: [b' Flight boarded       mins late due to issues with airbridge  BA WT  cabin in good order with nice welcome aboard  AVIOS worked  must have been lucky  Young flight crew  so I assume new MF types  so not that much interaction  but non the less efficient  Food      for both dinner and breakfast  Flight made up some time so nearly on schedule  Bags first of carousel  so all in all a good travel experience '] \n",
            "\n",
            "Label: 1 \n",
            "\n",
            "Features: [b' Flight boarded       mins late due to issues with airbridge  BA WT  cabin in good order with nice welcome aboard  AVIOS worked  must have been lucky  Young flight crew  so I assume new MF types  so not that much interaction  but non the less efficient  Food      for both dinner and breakfast  Flight made up some time so nearly on schedule  Bags first of carousel  so all in all a good travel experience '], Target: 1\n"
          ]
        },
        {
          "output_type": "execute_result",
          "data": {
            "text/plain": [
              "array([[ 10, 411, 506, 170, 160,   3, 462,  13,   1, 240,   1,  56,   8,\n",
              "         42, 525,  13, 131, 771,   1,   1, 600, 647,  26, 101,   1,   1,\n",
              "         10,  48,  38,   6,   1, 113,   1,   1,  38,  20,  19, 138,   1,\n",
              "         23, 546,   2, 355, 329,  36,  12, 145, 325,   4, 237,  10, 142,\n",
              "         79, 107,  35,  38, 790,  11, 659, 208,  78,   9,   1,  38,  44,\n",
              "          8,  44,   7,  42, 239,  89]])"
            ]
          },
          "metadata": {},
          "execution_count": 39
        }
      ]
    },
    {
      "cell_type": "markdown",
      "source": [
        "## Our Second model is Sequential Seq2Seq model with LSTM layers, trained on the recommendatations."
      ],
      "metadata": {
        "id": "MHTanvc-4BsF"
      }
    },
    {
      "cell_type": "code",
      "source": [
        "model_1 = tf.keras.Sequential([tf.keras.Input(shape=(1,), dtype=tf.string),\n",
        "                             encoder_1, tf.keras.layers.Embedding(input_dim=len(encoder_1.get_vocabulary()),output_dim=64,mask_zero=True),\n",
        "                             tf.keras.layers.Bidirectional(tf.keras.layers.LSTM(64)),\n",
        "                             tf.keras.layers.Dense(64, activation='relu'),\n",
        "                             tf.keras.layers.Dense(1)])"
      ],
      "metadata": {
        "id": "G2xPzIA1ywiu"
      },
      "execution_count": null,
      "outputs": []
    },
    {
      "cell_type": "code",
      "source": [
        "\n",
        "model_1.compile(loss=tf.keras.losses.BinaryCrossentropy(from_logits=True),\n",
        "              optimizer=tf.keras.optimizers.Adam(1e-4),\n",
        "              metrics=['accuracy'])\n",
        "\n",
        "history_1 = model_1.fit(train_dataset_1, epochs=10,\n",
        "                    validation_data=test_dataset_1, \n",
        "                    validation_steps=30)"
      ],
      "metadata": {
        "colab": {
          "base_uri": "https://localhost:8080/"
        },
        "id": "xBJrC8hZwTiw",
        "outputId": "1db31e5a-6abe-4cb5-fcb3-a851c5493b40"
      },
      "execution_count": null,
      "outputs": [
        {
          "output_type": "stream",
          "name": "stdout",
          "text": [
            "Epoch 1/10\n",
            "250/250 [==============================] - 288s 1s/step - loss: 0.5832 - accuracy: 0.6319 - val_loss: 0.3839 - val_accuracy: 0.8422\n",
            "Epoch 2/10\n",
            "250/250 [==============================] - 274s 1s/step - loss: 0.3385 - accuracy: 0.8571 - val_loss: 0.3409 - val_accuracy: 0.8734\n",
            "Epoch 3/10\n",
            "250/250 [==============================] - 278s 1s/step - loss: 0.2747 - accuracy: 0.8936 - val_loss: 0.2701 - val_accuracy: 0.8859\n",
            "Epoch 4/10\n",
            "250/250 [==============================] - 313s 1s/step - loss: 0.2398 - accuracy: 0.9072 - val_loss: 0.2781 - val_accuracy: 0.8974\n",
            "Epoch 5/10\n",
            "250/250 [==============================] - 381s 2s/step - loss: 0.2254 - accuracy: 0.9113 - val_loss: 0.2658 - val_accuracy: 0.8953\n",
            "Epoch 6/10\n",
            "250/250 [==============================] - 328s 1s/step - loss: 0.2157 - accuracy: 0.9161 - val_loss: 0.2554 - val_accuracy: 0.8969\n",
            "Epoch 7/10\n",
            "250/250 [==============================] - 278s 1s/step - loss: 0.2078 - accuracy: 0.9204 - val_loss: 0.2644 - val_accuracy: 0.8948\n",
            "Epoch 8/10\n",
            "250/250 [==============================] - 282s 1s/step - loss: 0.2048 - accuracy: 0.9224 - val_loss: 0.2667 - val_accuracy: 0.8974\n",
            "Epoch 9/10\n",
            "250/250 [==============================] - 346s 1s/step - loss: 0.2001 - accuracy: 0.9238 - val_loss: 0.2459 - val_accuracy: 0.8979\n",
            "Epoch 10/10\n",
            "250/250 [==============================] - 378s 2s/step - loss: 0.1956 - accuracy: 0.9266 - val_loss: 0.2568 - val_accuracy: 0.8958\n"
          ]
        }
      ]
    },
    {
      "cell_type": "markdown",
      "source": [
        "##Evaluating and saving the trained model"
      ],
      "metadata": {
        "id": "hXjcQStg4Lau"
      }
    },
    {
      "cell_type": "code",
      "source": [
        "# evaluate the model\n",
        "scores = model_1.evaluate(test_dataset_1, verbose=0)\n",
        "print(\"%s: %.2f%%\" % (model.metrics_names[1], scores[1]*100))"
      ],
      "metadata": {
        "colab": {
          "base_uri": "https://localhost:8080/"
        },
        "id": "eejlZQaLuFe5",
        "outputId": "171f4d95-7c69-459a-b9da-48034aab1cb1"
      },
      "execution_count": null,
      "outputs": [
        {
          "output_type": "stream",
          "name": "stdout",
          "text": [
            "accuracy: 89.72%\n"
          ]
        }
      ]
    },
    {
      "cell_type": "markdown",
      "source": [
        "##Saving the model for offline inferences"
      ],
      "metadata": {
        "id": "pZubs3ZrtvTq"
      }
    },
    {
      "cell_type": "code",
      "source": [
        "model_1.save('./drive/MyDrive/Colab_Notebooks/lstm_recommender_model')"
      ],
      "metadata": {
        "colab": {
          "base_uri": "https://localhost:8080/"
        },
        "id": "sgiCG0zktmek",
        "outputId": "b3d027ea-191d-43fd-8b48-181549ae7c73"
      },
      "execution_count": null,
      "outputs": [
        {
          "output_type": "stream",
          "name": "stderr",
          "text": [
            "WARNING:absl:Found untraced functions such as _update_step_xla, lstm_cell_4_layer_call_fn, lstm_cell_4_layer_call_and_return_conditional_losses, lstm_cell_5_layer_call_fn, lstm_cell_5_layer_call_and_return_conditional_losses while saving (showing 5 of 5). These functions will not be directly callable after loading.\n"
          ]
        }
      ]
    },
    {
      "cell_type": "code",
      "source": [
        "plot_graphs(history_1, \"accuracy\")"
      ],
      "metadata": {
        "colab": {
          "base_uri": "https://localhost:8080/",
          "height": 279
        },
        "id": "BKf-bWC7Abf9",
        "outputId": "ed1704ab-93c2-400b-db96-5a42cb85261f"
      },
      "execution_count": null,
      "outputs": [
        {
          "output_type": "display_data",
          "data": {
            "text/plain": [
              "<Figure size 432x288 with 1 Axes>"
            ],
            "image/png": "[encoded data removed]"
          },
          "metadata": {
            "needs_background": "light"
          }
        }
      ]
    },
    {
      "cell_type": "markdown",
      "source": [
        "## Inferencing on unseen samples"
      ],
      "metadata": {
        "id": "tpApZnQf4d02"
      }
    },
    {
      "cell_type": "code",
      "source": [
        "lstm_recommender = tf.keras.models.load_model('./drive/MyDrive/Colab_Notebooks/lstm_recommender_model')\n",
        "\n",
        "sample_text = [('Very positive experience with Indigo. Easy baggage-drop at Lucknow airport, new aircraft,' \n",
        "                'well trained crew. Very good airline, warmly recommended.'),\n",
        "               ('Indigo charges extra for its seat selection. And now I dont understand why the flight attendant asked '\n",
        "               'me to change my seat which is lower than what i paid. I left with no choice cause its for an child ' \n",
        "                'with 2.5yrs. Its crazy Indigo has to fine tune its reservation system. The family who booked'\n",
        "                'the seats got the seats in 3 different places.'),\n",
        "               ('Recently as an international travel booked return flight, continue to experience problems of scheduling '\n",
        "               'and rescheduling by the airline, with no head or tail. Difficult to contact either online or web chat '\n",
        "               'or on the phone to speak to customer service from abroad from abroad. The whole service is below par.'),\n",
        "               ('No doubt Indigo is best LCC in India, smooth check in, on time sequential boarding and departure. Okay seats, '\n",
        "               'clean hygiene cabin, courteous cabin crew. Another good experience and reason to fly again with them next time.'),\n",
        "               ('I used the Indigo flight from Jaipur to Bengaluru. It was ok.')]\n",
        "\n",
        "for count, st in enumerate(sample_text):  \n",
        "  predictions = lstm_recommender.predict(np.array([st]), verbose=0)\n",
        "  p = np.squeeze(predictions)\n",
        "  recommended = 'Yes' if p > 0 else 'No'\n",
        "  print(\"In Statement {} Recommended Flight is = {}\".format(count+1, recommended))\n",
        "  "
      ],
      "metadata": {
        "colab": {
          "base_uri": "https://localhost:8080/"
        },
        "id": "0luzLnvr4hZf",
        "outputId": "52dce877-d810-4bcd-dab1-10016ef1b845"
      },
      "execution_count": null,
      "outputs": [
        {
          "output_type": "stream",
          "name": "stdout",
          "text": [
            "In Statement 1 Recommended Flight is = Yes\n",
            "In Statement 2 Recommended Flight is = No\n",
            "In Statement 3 Recommended Flight is = No\n",
            "In Statement 4 Recommended Flight is = Yes\n",
            "In Statement 5 Recommended Flight is = Yes\n"
          ]
        }
      ]
    }
  ]
}